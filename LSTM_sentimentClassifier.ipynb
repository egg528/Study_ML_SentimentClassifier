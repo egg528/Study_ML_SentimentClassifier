{
  "nbformat": 4,
  "nbformat_minor": 0,
  "metadata": {
    "colab": {
      "name": "RNNvsTransformer.ipynb",
      "provenance": [],
      "collapsed_sections": [],
      "toc_visible": true,
      "authorship_tag": "ABX9TyMXr3anGDwI1JRJHP7Up8Ov",
      "include_colab_link": true
    },
    "kernelspec": {
      "name": "python3",
      "display_name": "Python 3"
    },
    "language_info": {
      "name": "python"
    },
    "accelerator": "GPU"
  },
  "cells": [
    {
      "cell_type": "markdown",
      "metadata": {
        "id": "view-in-github",
        "colab_type": "text"
      },
      "source": [
        "<a href=\"https://colab.research.google.com/github/egg528/Study_ML_sentimentClassifier/blob/main/LSTM_sentimentClassifier.ipynb\" target=\"_parent\"><img src=\"https://colab.research.google.com/assets/colab-badge.svg\" alt=\"Open In Colab\"/></a>"
      ]
    },
    {
      "cell_type": "markdown",
      "metadata": {
        "id": "JPIPFeQ-gmP-"
      },
      "source": [
        "# ML_sentimentClassifier\n",
        "\n",
        "## - LSTM"
      ]
    },
    {
      "cell_type": "markdown",
      "metadata": {
        "id": "g0iY7rbkv08m"
      },
      "source": [
        "# 감성 분석을 위한 Data 전처리"
      ]
    },
    {
      "cell_type": "markdown",
      "metadata": {
        "id": "oTwu0D0BmFu1"
      },
      "source": [
        "## (1) 환경 설정"
      ]
    },
    {
      "cell_type": "code",
      "metadata": {
        "id": "r63mZix6iF0j",
        "colab": {
          "base_uri": "https://localhost:8080/"
        },
        "outputId": "c3354615-11a7-4d19-a8c7-0fa00f4d6ab5"
      },
      "source": [
        "%%bash\n",
        "apt-get update\n",
        "apt-get install g++ openjdk-8-jdk python-dev python3-dev\n",
        "pip3 install JPype1\n",
        "pip3 install konlpy"
      ],
      "execution_count": 1,
      "outputs": [
        {
          "output_type": "stream",
          "name": "stdout",
          "text": [
            "Get:1 https://cloud.r-project.org/bin/linux/ubuntu bionic-cran40/ InRelease [3,626 B]\n",
            "Get:2 http://security.ubuntu.com/ubuntu bionic-security InRelease [88.7 kB]\n",
            "Ign:3 https://developer.download.nvidia.com/compute/cuda/repos/ubuntu1804/x86_64  InRelease\n",
            "Get:4 http://ppa.launchpad.net/c2d4u.team/c2d4u4.0+/ubuntu bionic InRelease [15.9 kB]\n",
            "Ign:5 https://developer.download.nvidia.com/compute/machine-learning/repos/ubuntu1804/x86_64  InRelease\n",
            "Get:6 https://developer.download.nvidia.com/compute/cuda/repos/ubuntu1804/x86_64  Release [696 B]\n",
            "Hit:7 http://archive.ubuntu.com/ubuntu bionic InRelease\n",
            "Hit:8 https://developer.download.nvidia.com/compute/machine-learning/repos/ubuntu1804/x86_64  Release\n",
            "Get:9 https://developer.download.nvidia.com/compute/cuda/repos/ubuntu1804/x86_64  Release.gpg [836 B]\n",
            "Get:10 http://archive.ubuntu.com/ubuntu bionic-updates InRelease [88.7 kB]\n",
            "Hit:11 http://ppa.launchpad.net/cran/libgit2/ubuntu bionic InRelease\n",
            "Hit:12 http://ppa.launchpad.net/deadsnakes/ppa/ubuntu bionic InRelease\n",
            "Get:13 http://archive.ubuntu.com/ubuntu bionic-backports InRelease [74.6 kB]\n",
            "Hit:14 http://ppa.launchpad.net/graphics-drivers/ppa/ubuntu bionic InRelease\n",
            "Get:16 https://developer.download.nvidia.com/compute/cuda/repos/ubuntu1804/x86_64  Packages [700 kB]\n",
            "Get:17 http://ppa.launchpad.net/c2d4u.team/c2d4u4.0+/ubuntu bionic/main Sources [1,795 kB]\n",
            "Get:18 http://ppa.launchpad.net/c2d4u.team/c2d4u4.0+/ubuntu bionic/main amd64 Packages [919 kB]\n",
            "Fetched 3,687 kB in 4s (977 kB/s)\n",
            "Reading package lists...\n",
            "Reading package lists...\n",
            "Building dependency tree...\n",
            "Reading state information...\n",
            "python-dev is already the newest version (2.7.15~rc1-1).\n",
            "g++ is already the newest version (4:7.4.0-1ubuntu2.3).\n",
            "g++ set to manually installed.\n",
            "python3-dev is already the newest version (3.6.7-1~18.04).\n",
            "python3-dev set to manually installed.\n",
            "The following additional packages will be installed:\n",
            "  fonts-dejavu-core fonts-dejavu-extra libatk-wrapper-java\n",
            "  libatk-wrapper-java-jni libgail-common libgail18 libgtk2.0-0 libgtk2.0-bin\n",
            "  libgtk2.0-common libxxf86dga1 openjdk-8-jdk-headless openjdk-8-jre\n",
            "  openjdk-8-jre-headless x11-utils\n",
            "Suggested packages:\n",
            "  gvfs openjdk-8-demo openjdk-8-source visualvm icedtea-8-plugin libnss-mdns\n",
            "  fonts-ipafont-gothic fonts-ipafont-mincho fonts-wqy-microhei\n",
            "  fonts-wqy-zenhei fonts-indic mesa-utils\n",
            "The following NEW packages will be installed:\n",
            "  fonts-dejavu-core fonts-dejavu-extra libatk-wrapper-java\n",
            "  libatk-wrapper-java-jni libgail-common libgail18 libgtk2.0-0 libgtk2.0-bin\n",
            "  libgtk2.0-common libxxf86dga1 openjdk-8-jdk openjdk-8-jdk-headless\n",
            "  openjdk-8-jre openjdk-8-jre-headless x11-utils\n",
            "0 upgraded, 15 newly installed, 0 to remove and 43 not upgraded.\n",
            "Need to get 43.5 MB of archives.\n",
            "After this operation, 163 MB of additional disk space will be used.\n",
            "Get:1 http://archive.ubuntu.com/ubuntu bionic/main amd64 libxxf86dga1 amd64 2:1.1.4-1 [13.7 kB]\n",
            "Get:2 http://archive.ubuntu.com/ubuntu bionic/main amd64 fonts-dejavu-core all 2.37-1 [1,041 kB]\n",
            "Get:3 http://archive.ubuntu.com/ubuntu bionic/main amd64 fonts-dejavu-extra all 2.37-1 [1,953 kB]\n",
            "Get:4 http://archive.ubuntu.com/ubuntu bionic/main amd64 x11-utils amd64 7.7+3build1 [196 kB]\n",
            "Get:5 http://archive.ubuntu.com/ubuntu bionic/main amd64 libatk-wrapper-java all 0.33.3-20ubuntu0.1 [34.7 kB]\n",
            "Get:6 http://archive.ubuntu.com/ubuntu bionic/main amd64 libatk-wrapper-java-jni amd64 0.33.3-20ubuntu0.1 [28.3 kB]\n",
            "Get:7 http://archive.ubuntu.com/ubuntu bionic/main amd64 libgtk2.0-common all 2.24.32-1ubuntu1 [125 kB]\n",
            "Get:8 http://archive.ubuntu.com/ubuntu bionic/main amd64 libgtk2.0-0 amd64 2.24.32-1ubuntu1 [1,769 kB]\n",
            "Get:9 http://archive.ubuntu.com/ubuntu bionic/main amd64 libgail18 amd64 2.24.32-1ubuntu1 [14.2 kB]\n",
            "Get:10 http://archive.ubuntu.com/ubuntu bionic/main amd64 libgail-common amd64 2.24.32-1ubuntu1 [112 kB]\n",
            "Get:11 http://archive.ubuntu.com/ubuntu bionic/main amd64 libgtk2.0-bin amd64 2.24.32-1ubuntu1 [7,536 B]\n",
            "Get:12 http://archive.ubuntu.com/ubuntu bionic-updates/universe amd64 openjdk-8-jre-headless amd64 8u292-b10-0ubuntu1~18.04 [28.2 MB]\n",
            "Get:13 http://archive.ubuntu.com/ubuntu bionic-updates/universe amd64 openjdk-8-jre amd64 8u292-b10-0ubuntu1~18.04 [69.6 kB]\n",
            "Get:14 http://archive.ubuntu.com/ubuntu bionic-updates/universe amd64 openjdk-8-jdk-headless amd64 8u292-b10-0ubuntu1~18.04 [8,284 kB]\n",
            "Get:15 http://archive.ubuntu.com/ubuntu bionic-updates/universe amd64 openjdk-8-jdk amd64 8u292-b10-0ubuntu1~18.04 [1,644 kB]\n",
            "Fetched 43.5 MB in 3s (16.5 MB/s)\n",
            "Selecting previously unselected package libxxf86dga1:amd64.\r\n",
            "(Reading database ... \r(Reading database ... 5%\r(Reading database ... 10%\r(Reading database ... 15%\r(Reading database ... 20%\r(Reading database ... 25%\r(Reading database ... 30%\r(Reading database ... 35%\r(Reading database ... 40%\r(Reading database ... 45%\r(Reading database ... 50%\r(Reading database ... 55%\r(Reading database ... 60%\r(Reading database ... 65%\r(Reading database ... 70%\r(Reading database ... 75%\r(Reading database ... 80%\r(Reading database ... 85%\r(Reading database ... 90%\r(Reading database ... 95%\r(Reading database ... 100%\r(Reading database ... 148492 files and directories currently installed.)\r\n",
            "Preparing to unpack .../00-libxxf86dga1_2%3a1.1.4-1_amd64.deb ...\r\n",
            "Unpacking libxxf86dga1:amd64 (2:1.1.4-1) ...\r\n",
            "Selecting previously unselected package fonts-dejavu-core.\r\n",
            "Preparing to unpack .../01-fonts-dejavu-core_2.37-1_all.deb ...\r\n",
            "Unpacking fonts-dejavu-core (2.37-1) ...\r\n",
            "Selecting previously unselected package fonts-dejavu-extra.\r\n",
            "Preparing to unpack .../02-fonts-dejavu-extra_2.37-1_all.deb ...\r\n",
            "Unpacking fonts-dejavu-extra (2.37-1) ...\r\n",
            "Selecting previously unselected package x11-utils.\r\n",
            "Preparing to unpack .../03-x11-utils_7.7+3build1_amd64.deb ...\r\n",
            "Unpacking x11-utils (7.7+3build1) ...\r\n",
            "Selecting previously unselected package libatk-wrapper-java.\r\n",
            "Preparing to unpack .../04-libatk-wrapper-java_0.33.3-20ubuntu0.1_all.deb ...\r\n",
            "Unpacking libatk-wrapper-java (0.33.3-20ubuntu0.1) ...\r\n",
            "Selecting previously unselected package libatk-wrapper-java-jni:amd64.\r\n",
            "Preparing to unpack .../05-libatk-wrapper-java-jni_0.33.3-20ubuntu0.1_amd64.deb ...\r\n",
            "Unpacking libatk-wrapper-java-jni:amd64 (0.33.3-20ubuntu0.1) ...\r\n",
            "Selecting previously unselected package libgtk2.0-common.\r\n",
            "Preparing to unpack .../06-libgtk2.0-common_2.24.32-1ubuntu1_all.deb ...\r\n",
            "Unpacking libgtk2.0-common (2.24.32-1ubuntu1) ...\r\n",
            "Selecting previously unselected package libgtk2.0-0:amd64.\r\n",
            "Preparing to unpack .../07-libgtk2.0-0_2.24.32-1ubuntu1_amd64.deb ...\r\n",
            "Unpacking libgtk2.0-0:amd64 (2.24.32-1ubuntu1) ...\r\n",
            "Selecting previously unselected package libgail18:amd64.\r\n",
            "Preparing to unpack .../08-libgail18_2.24.32-1ubuntu1_amd64.deb ...\r\n",
            "Unpacking libgail18:amd64 (2.24.32-1ubuntu1) ...\r\n",
            "Selecting previously unselected package libgail-common:amd64.\r\n",
            "Preparing to unpack .../09-libgail-common_2.24.32-1ubuntu1_amd64.deb ...\r\n",
            "Unpacking libgail-common:amd64 (2.24.32-1ubuntu1) ...\r\n",
            "Selecting previously unselected package libgtk2.0-bin.\r\n",
            "Preparing to unpack .../10-libgtk2.0-bin_2.24.32-1ubuntu1_amd64.deb ...\r\n",
            "Unpacking libgtk2.0-bin (2.24.32-1ubuntu1) ...\r\n",
            "Selecting previously unselected package openjdk-8-jre-headless:amd64.\r\n",
            "Preparing to unpack .../11-openjdk-8-jre-headless_8u292-b10-0ubuntu1~18.04_amd64.deb ...\r\n",
            "Unpacking openjdk-8-jre-headless:amd64 (8u292-b10-0ubuntu1~18.04) ...\r\n",
            "Selecting previously unselected package openjdk-8-jre:amd64.\r\n",
            "Preparing to unpack .../12-openjdk-8-jre_8u292-b10-0ubuntu1~18.04_amd64.deb ...\r\n",
            "Unpacking openjdk-8-jre:amd64 (8u292-b10-0ubuntu1~18.04) ...\r\n",
            "Selecting previously unselected package openjdk-8-jdk-headless:amd64.\r\n",
            "Preparing to unpack .../13-openjdk-8-jdk-headless_8u292-b10-0ubuntu1~18.04_amd64.deb ...\r\n",
            "Unpacking openjdk-8-jdk-headless:amd64 (8u292-b10-0ubuntu1~18.04) ...\r\n",
            "Selecting previously unselected package openjdk-8-jdk:amd64.\r\n",
            "Preparing to unpack .../14-openjdk-8-jdk_8u292-b10-0ubuntu1~18.04_amd64.deb ...\r\n",
            "Unpacking openjdk-8-jdk:amd64 (8u292-b10-0ubuntu1~18.04) ...\r\n",
            "Setting up libgtk2.0-common (2.24.32-1ubuntu1) ...\r\n",
            "Setting up fonts-dejavu-core (2.37-1) ...\r\n",
            "Setting up libxxf86dga1:amd64 (2:1.1.4-1) ...\r\n",
            "Setting up fonts-dejavu-extra (2.37-1) ...\r\n",
            "Setting up openjdk-8-jre-headless:amd64 (8u292-b10-0ubuntu1~18.04) ...\r\n",
            "update-alternatives: using /usr/lib/jvm/java-8-openjdk-amd64/jre/bin/orbd to provide /usr/bin/orbd (orbd) in auto mode\r\n",
            "update-alternatives: using /usr/lib/jvm/java-8-openjdk-amd64/jre/bin/servertool to provide /usr/bin/servertool (servertool) in auto mode\r\n",
            "update-alternatives: using /usr/lib/jvm/java-8-openjdk-amd64/jre/bin/tnameserv to provide /usr/bin/tnameserv (tnameserv) in auto mode\r\n",
            "Setting up libgtk2.0-0:amd64 (2.24.32-1ubuntu1) ...\r\n",
            "Setting up libgail18:amd64 (2.24.32-1ubuntu1) ...\r\n",
            "Setting up openjdk-8-jdk-headless:amd64 (8u292-b10-0ubuntu1~18.04) ...\r\n",
            "update-alternatives: using /usr/lib/jvm/java-8-openjdk-amd64/bin/idlj to provide /usr/bin/idlj (idlj) in auto mode\r\n",
            "update-alternatives: using /usr/lib/jvm/java-8-openjdk-amd64/bin/wsimport to provide /usr/bin/wsimport (wsimport) in auto mode\r\n",
            "update-alternatives: using /usr/lib/jvm/java-8-openjdk-amd64/bin/jsadebugd to provide /usr/bin/jsadebugd (jsadebugd) in auto mode\r\n",
            "update-alternatives: using /usr/lib/jvm/java-8-openjdk-amd64/bin/native2ascii to provide /usr/bin/native2ascii (native2ascii) in auto mode\r\n",
            "update-alternatives: using /usr/lib/jvm/java-8-openjdk-amd64/bin/javah to provide /usr/bin/javah (javah) in auto mode\r\n",
            "update-alternatives: using /usr/lib/jvm/java-8-openjdk-amd64/bin/hsdb to provide /usr/bin/hsdb (hsdb) in auto mode\r\n",
            "update-alternatives: using /usr/lib/jvm/java-8-openjdk-amd64/bin/clhsdb to provide /usr/bin/clhsdb (clhsdb) in auto mode\r\n",
            "update-alternatives: using /usr/lib/jvm/java-8-openjdk-amd64/bin/extcheck to provide /usr/bin/extcheck (extcheck) in auto mode\r\n",
            "update-alternatives: using /usr/lib/jvm/java-8-openjdk-amd64/bin/schemagen to provide /usr/bin/schemagen (schemagen) in auto mode\r\n",
            "update-alternatives: using /usr/lib/jvm/java-8-openjdk-amd64/bin/xjc to provide /usr/bin/xjc (xjc) in auto mode\r\n",
            "update-alternatives: using /usr/lib/jvm/java-8-openjdk-amd64/bin/jhat to provide /usr/bin/jhat (jhat) in auto mode\r\n",
            "update-alternatives: using /usr/lib/jvm/java-8-openjdk-amd64/bin/wsgen to provide /usr/bin/wsgen (wsgen) in auto mode\r\n",
            "Setting up x11-utils (7.7+3build1) ...\r\n",
            "Setting up libgail-common:amd64 (2.24.32-1ubuntu1) ...\r\n",
            "Setting up libatk-wrapper-java (0.33.3-20ubuntu0.1) ...\r\n",
            "Setting up libgtk2.0-bin (2.24.32-1ubuntu1) ...\r\n",
            "Setting up libatk-wrapper-java-jni:amd64 (0.33.3-20ubuntu0.1) ...\r\n",
            "Setting up openjdk-8-jre:amd64 (8u292-b10-0ubuntu1~18.04) ...\r\n",
            "update-alternatives: using /usr/lib/jvm/java-8-openjdk-amd64/jre/bin/policytool to provide /usr/bin/policytool (policytool) in auto mode\r\n",
            "Setting up openjdk-8-jdk:amd64 (8u292-b10-0ubuntu1~18.04) ...\r\n",
            "update-alternatives: using /usr/lib/jvm/java-8-openjdk-amd64/bin/appletviewer to provide /usr/bin/appletviewer (appletviewer) in auto mode\r\n",
            "update-alternatives: using /usr/lib/jvm/java-8-openjdk-amd64/bin/jconsole to provide /usr/bin/jconsole (jconsole) in auto mode\r\n",
            "Processing triggers for man-db (2.8.3-2ubuntu0.1) ...\r\n",
            "Processing triggers for hicolor-icon-theme (0.17-2) ...\r\n",
            "Processing triggers for fontconfig (2.12.6-0ubuntu2) ...\r\n",
            "Processing triggers for mime-support (3.60ubuntu1) ...\r\n",
            "Processing triggers for libc-bin (2.27-3ubuntu1.2) ...\r\n",
            "/sbin/ldconfig.real: /usr/local/lib/python3.7/dist-packages/ideep4py/lib/libmkldnn.so.0 is not a symbolic link\r\n",
            "\r\n",
            "Collecting JPype1\n",
            "  Downloading JPype1-1.3.0-cp37-cp37m-manylinux_2_5_x86_64.manylinux1_x86_64.whl (448 kB)\n",
            "Requirement already satisfied: typing-extensions in /usr/local/lib/python3.7/dist-packages (from JPype1) (3.7.4.3)\n",
            "Installing collected packages: JPype1\n",
            "Successfully installed JPype1-1.3.0\n",
            "Collecting konlpy\n",
            "  Downloading konlpy-0.5.2-py2.py3-none-any.whl (19.4 MB)\n",
            "Requirement already satisfied: numpy>=1.6 in /usr/local/lib/python3.7/dist-packages (from konlpy) (1.19.5)\n",
            "Requirement already satisfied: tweepy>=3.7.0 in /usr/local/lib/python3.7/dist-packages (from konlpy) (3.10.0)\n",
            "Requirement already satisfied: lxml>=4.1.0 in /usr/local/lib/python3.7/dist-packages (from konlpy) (4.2.6)\n",
            "Collecting beautifulsoup4==4.6.0\n",
            "  Downloading beautifulsoup4-4.6.0-py3-none-any.whl (86 kB)\n",
            "Collecting colorama\n",
            "  Downloading colorama-0.4.4-py2.py3-none-any.whl (16 kB)\n",
            "Requirement already satisfied: JPype1>=0.7.0 in /usr/local/lib/python3.7/dist-packages (from konlpy) (1.3.0)\n",
            "Requirement already satisfied: typing-extensions in /usr/local/lib/python3.7/dist-packages (from JPype1>=0.7.0->konlpy) (3.7.4.3)\n",
            "Requirement already satisfied: requests[socks]>=2.11.1 in /usr/local/lib/python3.7/dist-packages (from tweepy>=3.7.0->konlpy) (2.23.0)\n",
            "Requirement already satisfied: six>=1.10.0 in /usr/local/lib/python3.7/dist-packages (from tweepy>=3.7.0->konlpy) (1.15.0)\n",
            "Requirement already satisfied: requests-oauthlib>=0.7.0 in /usr/local/lib/python3.7/dist-packages (from tweepy>=3.7.0->konlpy) (1.3.0)\n",
            "Requirement already satisfied: oauthlib>=3.0.0 in /usr/local/lib/python3.7/dist-packages (from requests-oauthlib>=0.7.0->tweepy>=3.7.0->konlpy) (3.1.1)\n",
            "Requirement already satisfied: chardet<4,>=3.0.2 in /usr/local/lib/python3.7/dist-packages (from requests[socks]>=2.11.1->tweepy>=3.7.0->konlpy) (3.0.4)\n",
            "Requirement already satisfied: certifi>=2017.4.17 in /usr/local/lib/python3.7/dist-packages (from requests[socks]>=2.11.1->tweepy>=3.7.0->konlpy) (2021.5.30)\n",
            "Requirement already satisfied: urllib3!=1.25.0,!=1.25.1,<1.26,>=1.21.1 in /usr/local/lib/python3.7/dist-packages (from requests[socks]>=2.11.1->tweepy>=3.7.0->konlpy) (1.24.3)\n",
            "Requirement already satisfied: idna<3,>=2.5 in /usr/local/lib/python3.7/dist-packages (from requests[socks]>=2.11.1->tweepy>=3.7.0->konlpy) (2.10)\n",
            "Requirement already satisfied: PySocks!=1.5.7,>=1.5.6 in /usr/local/lib/python3.7/dist-packages (from requests[socks]>=2.11.1->tweepy>=3.7.0->konlpy) (1.7.1)\n",
            "Installing collected packages: colorama, beautifulsoup4, konlpy\n",
            "  Attempting uninstall: beautifulsoup4\n",
            "    Found existing installation: beautifulsoup4 4.6.3\n",
            "    Uninstalling beautifulsoup4-4.6.3:\n",
            "      Successfully uninstalled beautifulsoup4-4.6.3\n",
            "Successfully installed beautifulsoup4-4.6.0 colorama-0.4.4 konlpy-0.5.2\n"
          ]
        }
      ]
    },
    {
      "cell_type": "code",
      "metadata": {
        "colab": {
          "base_uri": "https://localhost:8080/"
        },
        "id": "ELeOlR-diPW_",
        "outputId": "498ecf27-f999-425c-c47a-8188217e1396"
      },
      "source": [
        "%env JAVA_HOME \"/usr/lib/jvm/java-8-openjdk-amd64\""
      ],
      "execution_count": 2,
      "outputs": [
        {
          "output_type": "stream",
          "name": "stdout",
          "text": [
            "env: JAVA_HOME=\"/usr/lib/jvm/java-8-openjdk-amd64\"\n"
          ]
        }
      ]
    },
    {
      "cell_type": "code",
      "metadata": {
        "id": "4YT1tAzDhq3-"
      },
      "source": [
        "import pandas as pd\n",
        "import numpy as np\n",
        "%matplotlib inline\n",
        "import matplotlib.pyplot as plt\n",
        "\n",
        "import re\n",
        "import urllib.request\n",
        "import random\n",
        "\n",
        "import torch\n",
        "import torch.nn as nn\n",
        "import torch.nn.functional as F\n",
        "from torchtext.legacy import data\n",
        "from torchtext.legacy import datasets\n",
        "import torch.optim as optim\n",
        "\n",
        "from sklearn.model_selection import train_test_split\n",
        "\n",
        "from konlpy.tag import Okt"
      ],
      "execution_count": 3,
      "outputs": []
    },
    {
      "cell_type": "code",
      "metadata": {
        "colab": {
          "base_uri": "https://localhost:8080/"
        },
        "id": "nBVFV0RMxDRp",
        "outputId": "c8f975d1-4d5a-48ea-96d8-6c7b30f70453"
      },
      "source": [
        "USE_CUDA = torch.cuda.is_available()\n",
        "DEVICE = torch.device(\"cuda\" if USE_CUDA else \"cpu\")\n",
        "print(\"cpu와 cuda 중 다음 기기로 학습함:\", DEVICE)"
      ],
      "execution_count": 4,
      "outputs": [
        {
          "output_type": "stream",
          "name": "stdout",
          "text": [
            "cpu와 cuda 중 다음 기기로 학습함: cuda\n"
          ]
        }
      ]
    },
    {
      "cell_type": "markdown",
      "metadata": {
        "id": "c_yCccdKmf3u"
      },
      "source": [
        "## (2) 네이버 영화 리뷰 데이터 전처리"
      ]
    },
    {
      "cell_type": "code",
      "metadata": {
        "colab": {
          "base_uri": "https://localhost:8080/"
        },
        "id": "b09bNC0nibXj",
        "outputId": "27fab269-7783-4d15-f2c8-4276d282003d"
      },
      "source": [
        "# https://github.com/e9t/nsmc/ <- Naver sentiment movie corpus v1.0\n",
        "urllib.request.urlretrieve(\"https://raw.githubusercontent.com/e9t/nsmc/master/ratings_train.txt\", filename=\"ratings_train.txt\")\n",
        "urllib.request.urlretrieve(\"https://raw.githubusercontent.com/e9t/nsmc/master/ratings_test.txt\", filename=\"ratings_test.txt\")"
      ],
      "execution_count": 5,
      "outputs": [
        {
          "output_type": "execute_result",
          "data": {
            "text/plain": [
              "('ratings_test.txt', <http.client.HTTPMessage at 0x7f37c0d8e090>)"
            ]
          },
          "metadata": {},
          "execution_count": 5
        }
      ]
    },
    {
      "cell_type": "code",
      "metadata": {
        "colab": {
          "base_uri": "https://localhost:8080/",
          "height": 222
        },
        "id": "8OyJ2NpUifgD",
        "outputId": "6d6ac1cf-6fd2-4d20-e223-c0dde3144c36"
      },
      "source": [
        "train_data = pd.read_table('ratings_train.txt')\n",
        "train_data = train_data.drop(columns=['id'])\n",
        "\n",
        "print(\"훈련 데이터 개수: \" + str(len(train_data)))\n",
        "train_data[:5]\n"
      ],
      "execution_count": 6,
      "outputs": [
        {
          "output_type": "stream",
          "name": "stdout",
          "text": [
            "훈련 데이터 개수: 150000\n"
          ]
        },
        {
          "output_type": "execute_result",
          "data": {
            "text/html": [
              "<div>\n",
              "<style scoped>\n",
              "    .dataframe tbody tr th:only-of-type {\n",
              "        vertical-align: middle;\n",
              "    }\n",
              "\n",
              "    .dataframe tbody tr th {\n",
              "        vertical-align: top;\n",
              "    }\n",
              "\n",
              "    .dataframe thead th {\n",
              "        text-align: right;\n",
              "    }\n",
              "</style>\n",
              "<table border=\"1\" class=\"dataframe\">\n",
              "  <thead>\n",
              "    <tr style=\"text-align: right;\">\n",
              "      <th></th>\n",
              "      <th>document</th>\n",
              "      <th>label</th>\n",
              "    </tr>\n",
              "  </thead>\n",
              "  <tbody>\n",
              "    <tr>\n",
              "      <th>0</th>\n",
              "      <td>아 더빙.. 진짜 짜증나네요 목소리</td>\n",
              "      <td>0</td>\n",
              "    </tr>\n",
              "    <tr>\n",
              "      <th>1</th>\n",
              "      <td>흠...포스터보고 초딩영화줄....오버연기조차 가볍지 않구나</td>\n",
              "      <td>1</td>\n",
              "    </tr>\n",
              "    <tr>\n",
              "      <th>2</th>\n",
              "      <td>너무재밓었다그래서보는것을추천한다</td>\n",
              "      <td>0</td>\n",
              "    </tr>\n",
              "    <tr>\n",
              "      <th>3</th>\n",
              "      <td>교도소 이야기구먼 ..솔직히 재미는 없다..평점 조정</td>\n",
              "      <td>0</td>\n",
              "    </tr>\n",
              "    <tr>\n",
              "      <th>4</th>\n",
              "      <td>사이몬페그의 익살스런 연기가 돋보였던 영화!스파이더맨에서 늙어보이기만 했던 커스틴 ...</td>\n",
              "      <td>1</td>\n",
              "    </tr>\n",
              "  </tbody>\n",
              "</table>\n",
              "</div>"
            ],
            "text/plain": [
              "                                            document  label\n",
              "0                                아 더빙.. 진짜 짜증나네요 목소리      0\n",
              "1                  흠...포스터보고 초딩영화줄....오버연기조차 가볍지 않구나      1\n",
              "2                                  너무재밓었다그래서보는것을추천한다      0\n",
              "3                      교도소 이야기구먼 ..솔직히 재미는 없다..평점 조정      0\n",
              "4  사이몬페그의 익살스런 연기가 돋보였던 영화!스파이더맨에서 늙어보이기만 했던 커스틴 ...      1"
            ]
          },
          "metadata": {},
          "execution_count": 6
        }
      ]
    },
    {
      "cell_type": "code",
      "metadata": {
        "colab": {
          "base_uri": "https://localhost:8080/",
          "height": 222
        },
        "id": "kn9HUviBn_ub",
        "outputId": "3e42b8c3-813e-4704-e698-82938c84af9c"
      },
      "source": [
        "test_data = pd.read_table('ratings_test.txt')\n",
        "test_data = test_data.drop(columns=['id'])\n",
        "print(\"테스트 데이터 개수: \" + str(len(test_data)))\n",
        "test_data[:5]\n"
      ],
      "execution_count": 7,
      "outputs": [
        {
          "output_type": "stream",
          "name": "stdout",
          "text": [
            "테스트 데이터 개수: 50000\n"
          ]
        },
        {
          "output_type": "execute_result",
          "data": {
            "text/html": [
              "<div>\n",
              "<style scoped>\n",
              "    .dataframe tbody tr th:only-of-type {\n",
              "        vertical-align: middle;\n",
              "    }\n",
              "\n",
              "    .dataframe tbody tr th {\n",
              "        vertical-align: top;\n",
              "    }\n",
              "\n",
              "    .dataframe thead th {\n",
              "        text-align: right;\n",
              "    }\n",
              "</style>\n",
              "<table border=\"1\" class=\"dataframe\">\n",
              "  <thead>\n",
              "    <tr style=\"text-align: right;\">\n",
              "      <th></th>\n",
              "      <th>document</th>\n",
              "      <th>label</th>\n",
              "    </tr>\n",
              "  </thead>\n",
              "  <tbody>\n",
              "    <tr>\n",
              "      <th>0</th>\n",
              "      <td>굳 ㅋ</td>\n",
              "      <td>1</td>\n",
              "    </tr>\n",
              "    <tr>\n",
              "      <th>1</th>\n",
              "      <td>GDNTOPCLASSINTHECLUB</td>\n",
              "      <td>0</td>\n",
              "    </tr>\n",
              "    <tr>\n",
              "      <th>2</th>\n",
              "      <td>뭐야 이 평점들은.... 나쁘진 않지만 10점 짜리는 더더욱 아니잖아</td>\n",
              "      <td>0</td>\n",
              "    </tr>\n",
              "    <tr>\n",
              "      <th>3</th>\n",
              "      <td>지루하지는 않은데 완전 막장임... 돈주고 보기에는....</td>\n",
              "      <td>0</td>\n",
              "    </tr>\n",
              "    <tr>\n",
              "      <th>4</th>\n",
              "      <td>3D만 아니었어도 별 다섯 개 줬을텐데.. 왜 3D로 나와서 제 심기를 불편하게 하죠??</td>\n",
              "      <td>0</td>\n",
              "    </tr>\n",
              "  </tbody>\n",
              "</table>\n",
              "</div>"
            ],
            "text/plain": [
              "                                            document  label\n",
              "0                                                굳 ㅋ      1\n",
              "1                               GDNTOPCLASSINTHECLUB      0\n",
              "2             뭐야 이 평점들은.... 나쁘진 않지만 10점 짜리는 더더욱 아니잖아      0\n",
              "3                   지루하지는 않은데 완전 막장임... 돈주고 보기에는....      0\n",
              "4  3D만 아니었어도 별 다섯 개 줬을텐데.. 왜 3D로 나와서 제 심기를 불편하게 하죠??      0"
            ]
          },
          "metadata": {},
          "execution_count": 7
        }
      ]
    },
    {
      "cell_type": "code",
      "metadata": {
        "colab": {
          "base_uri": "https://localhost:8080/"
        },
        "id": "9hcRs4mAnruG",
        "outputId": "95dfc5c3-c662-4ffa-ec68-0f46cb4d47f2"
      },
      "source": [
        "# train_data 중복 확인\n",
        "len(train_data['document'].unique()), len(train_data['label'].unique())"
      ],
      "execution_count": 8,
      "outputs": [
        {
          "output_type": "execute_result",
          "data": {
            "text/plain": [
              "(146183, 2)"
            ]
          },
          "metadata": {},
          "execution_count": 8
        }
      ]
    },
    {
      "cell_type": "code",
      "metadata": {
        "colab": {
          "base_uri": "https://localhost:8080/"
        },
        "id": "SGkpdSxdo8wa",
        "outputId": "81502356-e00a-43a9-c1ce-12b884e86bee"
      },
      "source": [
        "# test_data 중복 확인\n",
        "len(test_data['document'].unique()), len(test_data['label'].unique())"
      ],
      "execution_count": 9,
      "outputs": [
        {
          "output_type": "execute_result",
          "data": {
            "text/plain": [
              "(49158, 2)"
            ]
          },
          "metadata": {},
          "execution_count": 9
        }
      ]
    },
    {
      "cell_type": "code",
      "metadata": {
        "colab": {
          "base_uri": "https://localhost:8080/"
        },
        "id": "Hb7gXIGQinzv",
        "outputId": "47f3bae9-5499-4b2a-99c7-7b21e655c9b7"
      },
      "source": [
        "#중복 제거\n",
        "train_data.drop_duplicates(subset=['document'], inplace=True)\n",
        "test_data.drop_duplicates(subset=['document'], inplace=True)\n",
        "\n",
        "print('총 샘플의 수 :',len(train_data))\n",
        "print('총 샘플의 수 :',len(test_data))"
      ],
      "execution_count": 10,
      "outputs": [
        {
          "output_type": "stream",
          "name": "stdout",
          "text": [
            "총 샘플의 수 : 146183\n",
            "총 샘플의 수 : 49158\n"
          ]
        }
      ]
    },
    {
      "cell_type": "code",
      "metadata": {
        "colab": {
          "base_uri": "https://localhost:8080/"
        },
        "id": "o9T0wQyzpcj3",
        "outputId": "bfdde1a5-d1a2-4c1e-991e-3aa3e4722d6c"
      },
      "source": [
        "# null값 제거\n",
        "train_data = train_data.dropna(how = 'any')\n",
        "test_data = test_data.dropna(how = 'any')\n",
        "\n",
        "print('총 샘플의 수 :',len(train_data))\n",
        "print('총 샘플의 수 :',len(test_data))"
      ],
      "execution_count": 11,
      "outputs": [
        {
          "output_type": "stream",
          "name": "stdout",
          "text": [
            "총 샘플의 수 : 146182\n",
            "총 샘플의 수 : 49157\n"
          ]
        }
      ]
    },
    {
      "cell_type": "code",
      "metadata": {
        "colab": {
          "base_uri": "https://localhost:8080/"
        },
        "id": "AcpMAOuaqI_L",
        "outputId": "19762279-51b5-4ad1-c51f-aa5de503e87f"
      },
      "source": [
        "# 한글과 공백만 남기기\n",
        "train_data['document'] = train_data['document'].str.replace(\"[^ㄱ-ㅎㅏ-ㅣ가-힣 ]\",\"\")\n",
        "test_data['document'] = test_data['document'].str.replace(\"[^ㄱ-ㅎㅏ-ㅣ가-힣 ]\",\"\")\n",
        "\n",
        "\n",
        "# 공백만 남은 문장 \"\"로 변경\n",
        "train_data['document'] = train_data['document'].str.replace('^ +', \"\")\n",
        "test_data['document'] = test_data['document'].str.replace('^ +', \"\")\n",
        "\n",
        "# \"\"만 남은 문장 null로 변경\n",
        "train_data['document'].replace('', np.nan, inplace=True)\n",
        "test_data['document'].replace('', np.nan, inplace=True)\n",
        "\n",
        "# null값 제거\n",
        "train_data = train_data.dropna(how = 'any')\n",
        "test_data = test_data.dropna(how = 'any')\n",
        "\n",
        "print('총 샘플의 수 :',len(train_data))\n",
        "print('총 샘플의 수 :',len(test_data))"
      ],
      "execution_count": 12,
      "outputs": [
        {
          "output_type": "stream",
          "name": "stdout",
          "text": [
            "총 샘플의 수 : 145393\n",
            "총 샘플의 수 : 48852\n"
          ]
        }
      ]
    },
    {
      "cell_type": "code",
      "metadata": {
        "colab": {
          "base_uri": "https://localhost:8080/"
        },
        "id": "7FMxQh4F6RWt",
        "outputId": "9b025c43-9d26-4dd4-f830-3183fa4ee7ba"
      },
      "source": [
        "train_data, valid_data = train_test_split(train_data, test_size=0.3, random_state=32)\n",
        "\n",
        "print('훈련 데이터 총 샘플의 수 :',len(train_data))\n",
        "print('검증 데이터 총 샘플의 수 :',len(valid_data))\n",
        "print('테스트 데이터 총 샘플의 수 :',len(test_data))"
      ],
      "execution_count": 13,
      "outputs": [
        {
          "output_type": "stream",
          "name": "stdout",
          "text": [
            "훈련 데이터 총 샘플의 수 : 101775\n",
            "검증 데이터 총 샘플의 수 : 43618\n",
            "테스트 데이터 총 샘플의 수 : 48852\n"
          ]
        }
      ]
    },
    {
      "cell_type": "markdown",
      "metadata": {
        "id": "Z7DBcbMjF6bM"
      },
      "source": [
        "## (3) 데이터 확인"
      ]
    },
    {
      "cell_type": "code",
      "metadata": {
        "colab": {
          "base_uri": "https://localhost:8080/",
          "height": 334
        },
        "id": "TReHtpvfGCVD",
        "outputId": "9c2b7fc8-87a3-4b65-e76d-72c9411b4447"
      },
      "source": [
        "# 훈련 데이터 분포\n",
        "print(train_data.groupby('label').size().reset_index(name = 'count'))\n",
        "train_data['label'].value_counts().plot(kind = 'bar')"
      ],
      "execution_count": 14,
      "outputs": [
        {
          "output_type": "stream",
          "name": "stdout",
          "text": [
            "   label  count\n",
            "0      0  51047\n",
            "1      1  50728\n"
          ]
        },
        {
          "output_type": "execute_result",
          "data": {
            "text/plain": [
              "<matplotlib.axes._subplots.AxesSubplot at 0x7f37ac7853d0>"
            ]
          },
          "metadata": {},
          "execution_count": 14
        },
        {
          "output_type": "display_data",
          "data": {
            "image/png": "[encoded data removed]",
            "text/plain": [
              "<Figure size 432x288 with 1 Axes>"
            ]
          },
          "metadata": {
            "needs_background": "light"
          }
        }
      ]
    },
    {
      "cell_type": "code",
      "metadata": {
        "colab": {
          "base_uri": "https://localhost:8080/",
          "height": 334
        },
        "id": "Mxou1fFmHtq8",
        "outputId": "d6d6752c-b16b-4b72-947c-e0e112821e41"
      },
      "source": [
        "# 검증 데이터 분포\n",
        "print(valid_data.groupby('label').size().reset_index(name = 'count'))\n",
        "valid_data['label'].value_counts().plot(kind = 'bar')"
      ],
      "execution_count": 15,
      "outputs": [
        {
          "output_type": "stream",
          "name": "stdout",
          "text": [
            "   label  count\n",
            "0      0  21996\n",
            "1      1  21622\n"
          ]
        },
        {
          "output_type": "execute_result",
          "data": {
            "text/plain": [
              "<matplotlib.axes._subplots.AxesSubplot at 0x7f37ac6cd710>"
            ]
          },
          "metadata": {},
          "execution_count": 15
        },
        {
          "output_type": "display_data",
          "data": {
            "image/png": "[encoded data removed]",
            "text/plain": [
              "<Figure size 432x288 with 1 Axes>"
            ]
          },
          "metadata": {
            "needs_background": "light"
          }
        }
      ]
    },
    {
      "cell_type": "code",
      "metadata": {
        "colab": {
          "base_uri": "https://localhost:8080/",
          "height": 334
        },
        "id": "IUUBsXSmHtyS",
        "outputId": "3c34819d-4d80-48e0-b50d-87777bea0055"
      },
      "source": [
        "# 테스트 데이터 분포\n",
        "print(test_data.groupby('label').size().reset_index(name = 'count'))\n",
        "test_data['label'].value_counts().plot(kind = 'bar')"
      ],
      "execution_count": 16,
      "outputs": [
        {
          "output_type": "stream",
          "name": "stdout",
          "text": [
            "   label  count\n",
            "0      0  24332\n",
            "1      1  24520\n"
          ]
        },
        {
          "output_type": "execute_result",
          "data": {
            "text/plain": [
              "<matplotlib.axes._subplots.AxesSubplot at 0x7f37ac1f1ed0>"
            ]
          },
          "metadata": {},
          "execution_count": 16
        },
        {
          "output_type": "display_data",
          "data": {
            "image/png": "[encoded data removed]",
            "text/plain": [
              "<Figure size 432x288 with 1 Axes>"
            ]
          },
          "metadata": {
            "needs_background": "light"
          }
        }
      ]
    },
    {
      "cell_type": "markdown",
      "metadata": {
        "id": "UjzPy0uMgM00"
      },
      "source": [
        "## (4) 문장 최대 길이 & 단어 빈도수(단어 집합)\n"
      ]
    },
    {
      "cell_type": "code",
      "metadata": {
        "id": "SIIMSxk8Y7tL"
      },
      "source": [
        "stopwords = ['의','가','이','은','들','는','좀','잘','걍','과','도','를','으로','자','에','와','한','하다']\n",
        "tokenizer = Okt()"
      ],
      "execution_count": 17,
      "outputs": []
    },
    {
      "cell_type": "code",
      "metadata": {
        "id": "cxR9PLNjIidi"
      },
      "source": [
        "X_train = []\n",
        "for sentence in train_data['document']:\n",
        "    temp_X = tokenizer.morphs(sentence, stem=True) # 토큰화\n",
        "    temp_X = [word for word in temp_X if not word in stopwords] # 불용어 제거\n",
        "    X_train.append(temp_X)"
      ],
      "execution_count": 18,
      "outputs": []
    },
    {
      "cell_type": "code",
      "metadata": {
        "colab": {
          "base_uri": "https://localhost:8080/",
          "height": 315
        },
        "id": "3-MCVgCuUcI3",
        "outputId": "df2c5b8d-867b-4478-a069-295eba580f95"
      },
      "source": [
        "print('리뷰의 최대 길이 :',max(len(l) for l in X_train))\n",
        "print('리뷰의 평균 길이 :',sum(map(len, X_train))/len(X_train))\n",
        "plt.hist([len(s) for s in X_train], bins=50)\n",
        "plt.xlabel('length of samples')\n",
        "plt.ylabel('number of samples')\n",
        "plt.show()"
      ],
      "execution_count": 19,
      "outputs": [
        {
          "output_type": "stream",
          "name": "stdout",
          "text": [
            "리뷰의 최대 길이 : 72\n",
            "리뷰의 평균 길이 : 11.007998034880865\n"
          ]
        },
        {
          "output_type": "display_data",
          "data": {
            "image/png": "[encoded data removed]",
            "text/plain": [
              "<Figure size 432x288 with 1 Axes>"
            ]
          },
          "metadata": {
            "needs_background": "light"
          }
        }
      ]
    },
    {
      "cell_type": "code",
      "metadata": {
        "id": "pzUlNlqOUjXe"
      },
      "source": [
        "# 문장 길이가 'max_len'이하인 문장 비율 함수\n",
        "def below_threshold_len(max_len, nested_list):\n",
        "  cnt = 0\n",
        "  for s in nested_list:\n",
        "    if(len(s) <= max_len):\n",
        "        cnt = cnt + 1\n",
        "  print('전체 샘플 중 길이가 %s 이하인 샘플의 비율: %s'%(max_len, (cnt / len(nested_list))*100))"
      ],
      "execution_count": 20,
      "outputs": []
    },
    {
      "cell_type": "code",
      "metadata": {
        "colab": {
          "base_uri": "https://localhost:8080/"
        },
        "id": "9ieaLXVgUcMX",
        "outputId": "dd2bf89f-5ceb-457f-acb4-da9828493d32"
      },
      "source": [
        "# 90% 이상 커버(단어 제거 x)할 수 있는 max_len 찾기\n",
        "below_threshold_len(30, X_train)\n",
        "below_threshold_len(25, X_train)"
      ],
      "execution_count": 21,
      "outputs": [
        {
          "output_type": "stream",
          "name": "stdout",
          "text": [
            "전체 샘플 중 길이가 30 이하인 샘플의 비율: 94.00835175632523\n",
            "전체 샘플 중 길이가 25 이하인 샘플의 비율: 91.47727830999754\n"
          ]
        }
      ]
    },
    {
      "cell_type": "code",
      "metadata": {
        "colab": {
          "base_uri": "https://localhost:8080/"
        },
        "id": "ASz-1W62V-aX",
        "outputId": "66afb1a2-f119-482d-e3a8-6cfbf7843e8b"
      },
      "source": [
        "# 전체 단어 수를 구하기 위한 torchtext.Field 생성\n",
        "Vocab = data.Field(use_vocab=True)\n",
        "Vocab.build_vocab(X_train)\n",
        "\n",
        "print('훈련 데이터 총 단어 개수: %s' %len(Vocab.vocab))"
      ],
      "execution_count": 22,
      "outputs": [
        {
          "output_type": "stream",
          "name": "stdout",
          "text": [
            "훈련 데이터 총 단어 개수: 37425\n"
          ]
        }
      ]
    },
    {
      "cell_type": "code",
      "metadata": {
        "id": "ojXcejZ2VUok"
      },
      "source": [
        "# 단어와 빈도수의 쌍(pair)을 key와 value로 받는다.\n",
        "# most_common() ==> collection.Counters를 튜플을 원소로 하는 리스트로 변환\n",
        "def analysisVocabFreq(threshold, total_cnt, rare_cnt, total_freq, rare_freq):\n",
        "  for key, value in Vocab.vocab.freqs.most_common():\n",
        "      total_freq = total_freq + value\n",
        "\n",
        "      # 단어의 등장 빈도수가 threshold보다 작으면\n",
        "      if(value < threshold):\n",
        "          rare_cnt = rare_cnt + 1\n",
        "          rare_freq = rare_freq + value\n",
        "  print('희귀 단어 = 등장 빈도 %s 미만' %threshold)\n",
        "  print('단어 집합(vocabulary)의 크기 :',total_cnt)\n",
        "  print('등장 빈도가 %s번 이하인 희귀 단어의 수: %s'%(threshold - 1, rare_cnt))\n",
        "  print(\"단어 집합에서 희귀 단어의 비율:\", (rare_cnt / total_cnt)*100)\n",
        "  print(\"전체 등장 빈도에서 희귀 단어 등장 빈도 비율:\", (rare_freq / total_freq)*100)\n",
        "  print()"
      ],
      "execution_count": 23,
      "outputs": []
    },
    {
      "cell_type": "code",
      "metadata": {
        "colab": {
          "base_uri": "https://localhost:8080/"
        },
        "id": "ZEizH4R8UznN",
        "outputId": "b4536bfc-41cc-49db-bb84-d9f9ee1e6998"
      },
      "source": [
        "analysisVocabFreq(1, len(Vocab.vocab), 0, 0, 0)\n",
        "analysisVocabFreq(2, len(Vocab.vocab), 0, 0, 0)\n",
        "analysisVocabFreq(3, len(Vocab.vocab), 0, 0, 0)\n",
        "analysisVocabFreq(4, len(Vocab.vocab), 0, 0, 0)\n",
        "\n",
        "# 무엇을 기준으로 희긔 단어의 등장 빈도 기준을 정해야 할까..\n",
        "# 등장 빈도 기준을 1 => 2로 바꿨을 때 16000 증가했다.\n",
        "# 등장 빈도 기준을 2 => 3으로 바꿨을 때 희긔 단어 수는 약 5000개 증가했다.\n",
        "# 반면 빈도 기준을 3 => 4로 바꿨을 때 희긔 단어 수는 약 2000애 증가했다.\n",
        "# 3 => 4로 갈 추세가 많이 완만해졌음으로 희긔 단어의 등장 빈도 기준은 3으로 선택"
      ],
      "execution_count": 24,
      "outputs": [
        {
          "output_type": "stream",
          "name": "stdout",
          "text": [
            "희귀 단어 = 등장 빈도 1 미만\n",
            "단어 집합(vocabulary)의 크기 : 37425\n",
            "등장 빈도가 0번 이하인 희귀 단어의 수: 0\n",
            "단어 집합에서 희귀 단어의 비율: 0.0\n",
            "전체 등장 빈도에서 희귀 단어 등장 빈도 비율: 0.0\n",
            "\n",
            "희귀 단어 = 등장 빈도 2 미만\n",
            "단어 집합(vocabulary)의 크기 : 37425\n",
            "등장 빈도가 1번 이하인 희귀 단어의 수: 16157\n",
            "단어 집합에서 희귀 단어의 비율: 43.171676686706746\n",
            "전체 등장 빈도에서 희귀 단어 등장 빈도 비율: 1.4421527769719702\n",
            "\n",
            "희귀 단어 = 등장 빈도 3 미만\n",
            "단어 집합(vocabulary)의 크기 : 37425\n",
            "등장 빈도가 2번 이하인 희귀 단어의 수: 21156\n",
            "단어 집합에서 희귀 단어의 비율: 56.52905811623247\n",
            "전체 등장 빈도에서 희귀 단어 등장 빈도 비율: 2.3345612354831884\n",
            "\n",
            "희귀 단어 = 등장 빈도 4 미만\n",
            "단어 집합(vocabulary)의 크기 : 37425\n",
            "등장 빈도가 3번 이하인 희귀 단어의 수: 23918\n",
            "단어 집합에서 희귀 단어의 비율: 63.909151636606545\n",
            "전체 등장 빈도에서 희귀 단어 등장 빈도 비율: 3.0741588037192313\n",
            "\n"
          ]
        }
      ]
    },
    {
      "cell_type": "markdown",
      "metadata": {
        "id": "79EiBNbYUcUv"
      },
      "source": [
        "## (5) Torchtext를 이용한 자연어 전처리 및 Iterator 생성\n"
      ]
    },
    {
      "cell_type": "code",
      "metadata": {
        "id": "n8bXSxYUbhXc"
      },
      "source": [
        "TEXT = data.Field(sequential=True, use_vocab=True, tokenize=tokenizer.morphs, stop_words=['의','가','이','은','들','는','좀','잘','걍','과','도','를','으로','자','에','와','한','하다'], lower=False, batch_first=True, fix_length=25)\n",
        "LABEL = data.LabelField(dtype = torch.float)"
      ],
      "execution_count": 25,
      "outputs": []
    },
    {
      "cell_type": "code",
      "metadata": {
        "id": "WmRhMgAI_mAv"
      },
      "source": [
        "def convert_dataset(input_data, text, label):\n",
        "    list_of_example = [data.Example.fromlist(row.tolist(), fields=[('text', text), ('label', label)])  for _, row in input_data.iterrows()]\n",
        "    dataset = data.Dataset(examples=list_of_example, fields=[('text', text), ('label', label)])\n",
        "    return dataset"
      ],
      "execution_count": 26,
      "outputs": []
    },
    {
      "cell_type": "code",
      "metadata": {
        "id": "bmhBaJqVqHy1"
      },
      "source": [
        "train_dataset = convert_dataset(train_data,TEXT, LABEL)\n",
        "valid_dataset = convert_dataset(valid_data, TEXT, LABEL)"
      ],
      "execution_count": 27,
      "outputs": []
    },
    {
      "cell_type": "code",
      "metadata": {
        "id": "fEN9HZPchWqR"
      },
      "source": [
        "TEXT.build_vocab(X_train,min_freq = 4)\n",
        "LABEL.build_vocab([0, 1])"
      ],
      "execution_count": 28,
      "outputs": []
    },
    {
      "cell_type": "code",
      "metadata": {
        "colab": {
          "base_uri": "https://localhost:8080/"
        },
        "id": "Nkc6bP-hiFbU",
        "outputId": "e1988a71-27ab-44bc-e134-6739dc033bf3"
      },
      "source": [
        "print(TEXT.vocab.stoi)\n",
        "print(LABEL.vocab.stoi)"
      ],
      "execution_count": 29,
      "outputs": [
        {
          "output_type": "stream",
          "name": "stdout",
          "text": [
            "defaultdict(<bound method Vocab._default_unk_index of <torchtext.legacy.vocab.Vocab object at 0x7f37794bde90>>, {'<unk>': 0, '<pad>': 1, '영화': 2, '보다': 3, '을': 4, '없다': 5, '이다': 6, '있다': 7, '좋다': 8, '너무': 9, '다': 10, '정말': 11, '되다': 12, '재밌다': 13, '적': 14, '만': 15, '같다': 16, '진짜': 17, '아니다': 18, '않다': 19, '로': 20, '점': 21, '에서': 22, '만들다': 23, '것': 24, '나오다': 25, '연기': 26, '평점': 27, '내': 28, '최고': 29, '그': 30, '나': 31, '안': 32, '인': 33, '스토리': 34, '못': 35, '생각': 36, '왜': 37, '드라마': 38, '게': 39, '감동': 40, '사람': 41, '보고': 42, '이렇다': 43, '말': 44, '고': 45, '더': 46, '아깝다': 47, '배우': 48, 'ㅋㅋ': 49, '때': 50, '거': 51, '아': 52, '그냥': 53, '감독': 54, '요': 55, '재미있다': 56, '내용': 57, '재미': 58, '시간': 59, '까지': 60, '뭐': 61, '주다': 62, '중': 63, '자다': 64, '하고': 65, '지루하다': 66, '수': 67, '재미없다': 68, '쓰레기': 69, '네': 70, '가다': 71, '모르다': 72, '들다': 73, '그렇다': 74, '싶다': 75, '지': 76, '작품': 77, '사랑': 78, '알다': 79, '다시': 80, '하나': 81, '볼': 82, '마지막': 83, '저': 84, '이건': 85, '정도': 86, '완전': 87, 'ㅋ': 88, 'ㅠㅠ': 89, '처음': 90, '오다': 91, '주인공': 92, 'ㅋㅋㅋ': 93, '많다': 94, '액션': 95, '장면': 96, '안되다': 97, '걸': 98, '차다': 99, '이렇게': 100, '개': 101, '나다': 102, '최악': 103, '돈': 104, '하': 105, '이야기': 106, '지금': 107, '임': 108, '넘다': 109, '라': 110, '연출': 111, '느낌': 112, 'ㅡㅡ': 113, '듯': 114, '끝': 115, '인데': 116, '년': 117, '좋아하다': 118, '역시': 119, '명작': 120, '별로': 121, '받다': 122, '기': 123, '남다': 124, '그리고': 125, '면': 126, '별': 127, '이해': 128, '많이': 129, '이런': 130, '버리다': 131, '이영화': 132, '또': 133, '난': 134, '분': 135, '여자': 136, '괜찮다': 137, '느끼다': 138, '이나': 139, '라고': 140, '때문': 141, '부터': 142, '서': 143, '일': 144, '성': 145, '엔': 146, '아름답다': 147, '보기': 148, '해주다': 149, '꼭': 150, '기억': 151, '이고': 152, '무슨': 153, '먹다': 154, '에게': 155, '여': 156, '대': 157, '두': 158, '결말': 159, '짱': 160, 'ㅎㅎ': 161, '마음': 162, '님': 163, '소재': 164, '편': 165, '야': 166, '랑': 167, '끄다': 168, '영': 169, '뻔하다': 170, '아쉽다': 171, '인생': 172, '어떻다': 173, '보여주다': 174, '전': 175, '어리다': 176, '무섭다': 177, '없이': 178, '애': 179, '속': 180, '수준': 181, '현실': 182, '맞다': 183, '가장': 184, '되어다': 185, '급': 186, '전개': 187, '한번': 188, '재다': 189, '반전': 190, '남자': 191, '본': 192, '매력': 193, '라는': 194, '웃기다': 195, '유치하다': 196, '낮다': 197, '제': 198, '씨': 199, '알': 200, '한국': 201, '가슴': 202, '끝나다': 203, '아이': 204, '죽다': 205, '슬프다': 206, '원작': 207, '말다': 208, '높다': 209, '뿐': 210, '음악': 211, '늘다': 212, '니': 213, '다른': 214, '멋지다': 215, '인간': 216, '솔직하다': 217, '냐': 218, '눈물': 219, '줄': 220, '우리': 221, '화': 222, '내다': 223, '인지': 224, '쓰다': 225, '크다': 226, '추천': 227, '야하다': 228, '찍다': 229, '하지만': 230, '자체': 231, '살다': 232, '지만': 233, '함': 234, '눈': 235, '번': 236, '모든': 237, '허다': 238, '인가': 239, '뭔가': 240, 'ㅋㅋㅋㅋ': 241, '대한': 242, '이쁘다': 243, '대박': 244, '코미디': 245, '전혀': 246, '연기력': 247, '보이다': 248, '처럼': 249, '이상': 250, '움': 251, '캐릭터': 252, '모두': 253, '여운': 254, '개봉': 255, '미치다': 256, '돼다': 257, '기대': 258, 'ㅠ': 259, '건지다': 260, '그래도': 261, '기대하다': 262, '짜증나다': 263, '이네': 264, '모습': 265, '공감': 266, '중간': 267, '지다': 268, '시리즈': 269, '에는': 270, '근데': 271, '일본': 272, '표현': 273, '부분': 274, '영상': 275, '아주': 276, '보지': 277, '가족': 278, '작': 279, '뭔': 280, '시키다': 281, '실망': 282, 'ㅜㅜ': 283, '제목': 284, '이랑': 285, '계속': 286, '이라': 287, '치다': 288, '귀엽다': 289, '믿다': 290, '내내': 291, '몰입': 292, '밖에': 293, '짜다': 294, '후': 295, '진심': 296, '대단하다': 297, '작가': 298, '잔잔하다': 299, 'ㅎ': 300, '떨어지다': 301, '이제': 302, '공포': 303, '건': 304, '기분': 305, '연': 306, '위': 307, '조금': 308, '긴장감': 309, '이라는': 310, '감': 311, '삶': 312, '잼': 313, '스릴러': 314, '개인': 315, '빠지다': 316, '시': 317, '요즘': 318, '딱': 319, '웃다': 320, '대사': 321, '애니': 322, '용': 323, '노래': 324, '점수': 325, '알바': 326, '한테': 327, '울다': 328, '이란': 329, '굿': 330, '이지': 331, '특히': 332, '제대로': 333, '이유': 334, '점도': 335, '막장': 336, '극장': 337, '시작': 338, '영화로': 339, '에도': 340, '극': 341, '잇다': 342, '깊다': 343, '노잼': 344, '나름': 345, '해보다': 346, '오랜': 347, '의미': 348, '욕': 349, '놈': 350, '몇': 351, '느껴지다': 352, '예쁘다': 353, '위해': 354, '이상하다': 355, '친구': 356, '차라리': 357, '제일': 358, '당시': 359, '아직도': 360, '절대': 361, '공포영화': 362, '웃음': 363, '년대': 364, '식': 365, '력': 366, '세상': 367, '찾다': 368, '류': 369, '아무': 370, '훌륭하다': 371, '같이': 372, '어설프다': 373, '이라고': 374, '따뜻하다': 375, '명': 376, '설정': 377, '너': 378, '앞': 379, '빼다': 380, '우리나라': 381, '미국': 382, '오': 383, '초반': 384, '출연': 385, '답답하다': 386, '도대체': 387, '따다': 388, '마다': 389, '엄청': 390, '죽이다': 391, '써다': 392, '그리다': 393, '수작': 394, '시나리오': 395, '생각나다': 396, '뭘': 397, '싫다': 398, '무엇': 399, '물': 400, '대다': 401, '반': 402, '장난': 403, '어': 404, '다르다': 405, '어이없다': 406, '한국영': 407, '놓다': 408, '분위기': 409, '관객': 410, '데': 411, '멋있다': 412, '신선하다': 413, '남': 414, '사실': 415, '해': 416, '힘들다': 417, '아프다': 418, '지루함': 419, '봄': 420, '안타깝다': 421, '이야': 422, '필요없다': 423, '세': 424, '살': 425, '잊다': 426, '가지': 427, '감정': 428, '기다': 429, '정신': 430, '구': 431, '엄마': 432, '엔딩': 433, '추억': 434, '팬': 435, '이딴': 436, '결국': 437, '이지만': 438, '시대': 439, '문제': 440, '배우다': 441, '준': 442, '원': 443, '제발': 444, '소리': 445, '접': 446, '함께': 447, '라면': 448, '코믹': 449, '평가': 450, '나쁘다': 451, '더빙': 452, '어색하다': 453, '포스터': 454, '오늘': 455, '주': 456, '기도': 457, '영화관': 458, '아무리': 459, '스럽다': 460, '신': 461, '자신': 462, '멀다': 463, '부족하다': 464, '니까': 465, '졸작': 466, '얼마나': 467, '엉': 468, '인상': 469, '최고다': 470, '유쾌하다': 471, '그저': 472, '티비': 473, '몰입도': 474, '쓸다': 475, '살리다': 476, '적다': 477, '진부하다': 478, '캐스팅': 479, '건가': 480, '망하다': 481, '서다': 482, '애니메이션': 483, '더럽다': 484, '배경': 485, '비다': 486, '낫다': 487, '뒤': 488, '간': 489, '전쟁': 490, '존나': 491, '첨': 492, '두다': 493, '대해': 494, '머': 495, '맘': 496, '개연': 497, '든': 498, '스릴': 499, '어울리다': 500, '얼굴': 501, '나가다': 502, '웃기': 503, '읽다': 504, '등': 505, '매우': 506, '머리': 507, '만화': 508, '보단': 509, '이후': 510, '행복하다': 511, '이름': 512, '조': 513, '책': 514, '어디': 515, '완벽하다': 516, '즐겁다': 517, '놀라다': 518, '얘기': 519, '그렇게': 520, '예술': 521, '꽤': 522, '영화인': 523, '옛날': 524, '집중': 525, '질': 526, '충격': 527, '킬링타임': 528, '들이다': 529, '음': 530, '새롭다': 531, '울': 532, '갈수록': 533, '너무나': 534, '다큐': 535, '후회': 536, '구성': 537, '장르': 538, '후반': 539, '주연': 540, '그래서': 541, '시즌': 542, '집': 543, '날': 544, '언제': 545, '글': 546, '아직': 547, '생기다': 548, '여기': 549, '억지': 550, '불쌍하다': 551, '총': 552, '인물': 553, '다운': 554, '진': 555, '시절': 556, '실화': 557, '누구': 558, '씬': 559, '짜증': 560, '강추': 561, '약간': 562, '상': 563, '예전': 564, '필요하다': 565, '그런': 566, '비': 567, '상황': 568, '초딩': 569, '그것': 570, '그나마': 571, '이리': 572, '충분하다': 573, '누가': 574, '심하다': 575, '어느': 576, '걸작': 577, '만점': 578, '소름': 579, '따르다': 580, '밉다': 581, '소설': 582, '쉬다': 583, '분들': 584, '궁금하다': 585, '방송': 586, '비교': 587, '다음': 588, '자기': 589, '훨씬': 590, '잔인하다': 591, '발연기': 592, '휴': 593, '드리다': 594, '회': 595, '부': 596, '어렵다': 597, '비디오': 598, '동안': 599, '죠': 600, '만나다': 601, '상당하다': 602, '순수하다': 603, '해도': 604, '그대로': 605, '네이버': 606, '역사': 607, '로맨스': 608, '사회': 609, '여주': 610, '간만': 611, '남기다': 612, '대체': 613, '비슷하다': 614, '타다': 615, '감성': 616, '라도': 617, '아들': 618, '판': 619, '편이': 620, '한마디': 621, '당하다': 622, '삼류': 623, '혼자': 624, '보': 625, '장': 626, '이라도': 627, '이르다': 628, '교훈': 629, '열': 630, '빨리': 631, '사랑스럽다': 632, '전체': 633, '쯤': 634, '나이': 635, '만큼': 636, '재밋': 637, '여배우': 638, '힘': 639, '꿈': 640, '바로': 641, '보다는': 642, '순간': 643, '잡다': 644, '코': 645, '년도': 646, '당신': 647, '굉장하다': 648, '떠나다': 649, '바라다': 650, '재': 651, '거의': 652, '망치다': 653, '지나다': 654, 'ㅉㅉ': 655, '그만': 656, '존재': 657, '죽': 658, '감사하다': 659, '억': 660, '질질': 661, '풀다': 662, '나라': 663, '담다': 664, '당': 665, '에요': 666, '좀비': 667, '평론가': 668, '주제': 669, '진정하다': 670, '낭비': 671, '터지다': 672, '독특하다': 673, '라니': 674, '엄청나다': 675, '뜨다': 676, '어른': 677, '목소리': 678, '성룡': 679, '줄거리': 680, '흥미롭다': 681, '맞추다': 682, '모': 683, '아버지': 684, '안보': 685, '에선': 686, '돌리다': 687, '만하': 688, '성하다': 689, '가볍다': 690, '전부': 691, '넣다': 692, '딸': 693, '점점': 694, '답': 695, '의도': 696, '판타지': 697, '갑자기': 698, '돋다': 699, '말고': 700, '바': 701, '상영': 702, '년전': 703, '시청률': 704, '중국': 705, '몇번': 706, '이번': 707, '화려하다': 708, '히': 709, 'ㅜ': 710, '그러나': 711, '피': 712, '그녀': 713, '땜': 714, '이하': 715, '극장판': 716, '초': 717, '한편': 718, '항상': 719, '굳다': 720, '화면': 721, '곳': 722, '바꾸다': 723, '사': 724, '힘드다': 725, '간다': 726, '대로': 727, '스타일': 728, '요소': 729, '밑': 730, '제작': 731, '각본': 732, '단': 733, '란': 734, '래': 735, '선': 736, '실제': 737, '으로도': 738, '점주': 739, '기다리다': 740, '넘치다': 741, '소': 742, '억지스럽다': 743, '그때': 744, '세계': 745, '에서도': 746, '보내다': 747, '평': 748, '막': 749, '만들어지다': 750, '맛': 751, '첫': 752, '성우': 753, '오글거리다': 754, '형': 755, '올리다': 756, '일단': 757, '짧다': 758, '필요': 759, 'ㅎㅎㅎ': 760, 'ㅡ': 761, '터': 762, '편집': 763, '평범하다': 764, '둘': 765, '또한': 766, '걸다': 767, '걸리다': 768, '군': 769, '물론': 770, '참고': 771, '치고': 772, '에서는': 773, '이기다': 774, '인거': 775, '중반': 776, '흥행': 777, '가치': 778, '듣다': 779, '선택': 780, '온': 781, '잃다': 782, '흐르다': 783, '관람': 784, '똥': 785, '멜로': 786, '어디서': 787, '너무하다': 788, '단순하다': 789, 'ㅠㅠㅠ': 790, '소중하다': 791, '햇': 792, '때리다': 793, '사건': 794, '갖다': 795, '개그': 796, '그게': 797, '발': 798, '뻔': 799, '새끼': 800, '거기': 801, '불륜': 802, '역대': 803, '복수': 804, '완성': 805, '들어가다': 806, '저런': 807, 'ㅋㅋㅋㅋㅋ': 808, '똑같다': 809, '아빠': 810, '허무하다': 811, '드': 812, '볼때': 813, '라서': 814, '수가': 815, '여러': 816, '훈훈하다': 817, '끼다': 818, '적당하다': 819, '확실하다': 820, '더욱': 821, '전형': 822, '메다': 823, '이에요': 824, '화보': 825, '그래픽': 826, '꿀잼': 827, '불편하다': 828, '식상하다': 829, '역': 830, '진행': 831, '프랑스': 832, '마르다': 833, '며': 834, '여서': 835, '척': 836, '가보다': 837, '달다': 838, '상미': 839, '심리': 840, '씩': 841, '이냐': 842, '흥미': 843, '과거': 844, '귀': 845, '설명': 846, '어이': 847, '짓': 848, '댓글': 849, '미화': 850, '부르다': 851, '예상': 852, '거지': 853, '엉망': 854, '만으로도': 855, '몸': 856, '자극': 857, '잠': 858, '죽음': 859, '탄탄하다': 860, '결혼': 861, '도저히': 862, '뛰어나다': 863, '티': 864, '감상': 865, '닿다': 866, '싸우다': 867, '가지다': 868, '키': 869, '괜히': 870, '돋보이다': 871, '바보': 872, '에겐': 873, '원래': 874, '갈다': 875, '노력': 876, '만이': 877, '손': 878, '액션영화': 879, '왠만하다': 880, '화이팅': 881, '병맛': 882, '비추다': 883, '취향': 884, '무조건': 885, '술': 886, '자꾸': 887, '찾아보다': 888, '리': 889, '배': 890, '불다': 891, '한심하다': 892, '화가': 893, '흥미진진': 894, '거리': 895, '나서다': 896, '즐기다': 897, '오히려': 898, '암': 899, '예': 900, '잘만': 901, '다루다': 902, '어쩔': 903, '학교': 904, '현': 905, '마무리': 906, '관': 907, '무': 908, '산': 909, '새': 910, '역겹다': 911, '용도': 912, '잊혀지다': 913, '젠': 914, '최근': 915, '길다': 916, '전설': 917, '지겹다': 918, '표정': 919, '현재': 920, '관계': 921, '다가': 922, '대작': 923, '뭐라다': 924, '순': 925, '양': 926, '올': 927, '짐': 928, '천재': 929, '한다는': 930, '강하다': 931, '대한민국': 932, '동': 933, '상상': 934, '예고편': 935, '게임': 936, '묘사': 937, '기억나다': 938, '오빠': 939, 'ㄷㄷ': 940, '그림': 941, '아쉬움': 942, '아저씨': 943, '억지로': 944, '연기자': 945, '오래': 946, '중요하다': 947, '돌아가다': 948, '맨': 949, '법': 950, '빠져들다': 951, '유치': 952, '이라니': 953, '전편': 954, '헐다': 955, '겁나다': 956, '보이': 957, '흘리다': 958, '소녀': 959, '속편': 960, '흠': 961, '나르다': 962, '마': 963, '일이': 964, '진지하다': 965, '타': 966, '엇': 967, '타임': 968, '만의': 969, '서로': 970, '여전하다': 971, '철학': 972, '통해': 973, '동화': 974, '사라지다': 975, '살아가다': 976, '지난': 977, '스타': 978, '영환': 979, '참신하다': 980, '하하': 981, '귀신': 982, '다니다': 983, '무비': 984, '실망하다': 985, '우연히': 986, '미안하다': 987, '경찰': 988, '그런데': 989, '런가': 990, '멍청하다': 991, '예요': 992, '조차': 993, '촬영': 994, '드럽다': 995, '영원하다': 996, '전달': 997, '프로그램': 998, '환상': 999, '덥다': 1000, '메세지': 1001, '예산': 1002, '유머': 1003, '이미': 1004, '졸라': 1005, '프로': 1006, '왠지': 1007, '나중': 1008, '리메이크': 1009, '미래': 1010, '사이': 1011, '조연': 1012, '주의': 1013, '겠다': 1014, '끌다': 1015, '낚': 1016, '노출': 1017, '만에': 1018, '묻다': 1019, '봣': 1020, '스러운': 1021, '흔하다': 1022, '관심': 1023, '영웅': 1024, '외': 1025, '작다': 1026, '길': 1027, '다행': 1028, '땐': 1029, '바뀌다': 1030, '약하다': 1031, '역할': 1032, '전작': 1033, '착하다': 1034, '고맙다': 1035, '깊이': 1036, '군대': 1037, '등장': 1038, '바람': 1039, '틀다': 1040, '개다': 1041, '그닥': 1042, '마치': 1043, '안나': 1044, '잘생기다': 1045, '행동': 1046, '황당하다': 1047, 'ㅅㅂ': 1048, '생애': 1049, '얼': 1050, '위대하다': 1051, '인정': 1052, '케이블': 1053, '깔다': 1054, '엿': 1055, '원하다': 1056, '으': 1057, '제작비': 1058, '청춘': 1059, '가능하다': 1060, '과정': 1061, '께': 1062, '왕': 1063, '정': 1064, '졸리다': 1065, '쩔다': 1066, '효과': 1067, '먼저': 1068, '살인': 1069, '강': 1070, '공': 1071, '메시지': 1072, '평생': 1073, '다소': 1074, '시도': 1075, '체': 1076, '특유': 1077, '광고': 1078, '생': 1079, '슬픔': 1080, '얻다': 1081, '입': 1082, '지나치다': 1083, '결론': 1084, '반개': 1085, '빌리다': 1086, '유명하다': 1087, '젊다': 1088, '능력': 1089, '신기하다': 1090, '인하다': 1091, '자막': 1092, '설레다': 1093, '우': 1094, '의리': 1095, '줌': 1096, '지루': 1097, '계': 1098, '스케일': 1099, '약': 1100, '이며': 1101, '포기': 1102, '노': 1103, '빠르다': 1104, '여성': 1105, '용이': 1106, '찌다': 1107, '참다': 1108, '한계': 1109, '가끔': 1110, '너무나도': 1111, '던지다': 1112, '로맨틱': 1113, '연애': 1114, '태어나다': 1115, '형님': 1116, '대안': 1117, '로서': 1118, '박수': 1119, '울리다': 1120, '자연': 1121, '카메라': 1122, '표절': 1123, '다시다': 1124, '망작': 1125, '안다': 1126, '저렇게': 1127, '채널': 1128, '커플': 1129, '게이': 1130, '살짝': 1131, '손발': 1132, '이면': 1133, '혹시': 1134, '대충': 1135, '몸매': 1136, '사다': 1137, '잘못': 1138, '늙다': 1139, '다만': 1140, '독립영화': 1141, '동생': 1142, '미소': 1143, '변하다': 1144, '상상력': 1145, '괴물': 1146, '굳이': 1147, '덕분': 1148, '부족': 1149, '산만하다': 1150, '쏘다': 1151, '우정': 1152, '치': 1153, '포장': 1154, 'ㅇ': 1155, '방': 1156, '열심히': 1157, '존': 1158, '추다': 1159, '으로는': 1160, '국민': 1161, '리얼': 1162, '매': 1163, '멋': 1164, '수도': 1165, '쓰래': 1166, '언니': 1167, '되게': 1168, '스럽게': 1169, '어린이': 1170, '졸다': 1171, '지르다': 1172, '흐름': 1173, '고민': 1174, '문화': 1175, '범죄': 1176, '빨': 1177, '시선': 1178, '심심하다': 1179, '아침': 1180, '악역': 1181, '언': 1182, '정말로': 1183, '차': 1184, '팔': 1185, '과연': 1186, '기대다': 1187, '더하다': 1188, '떠오르다': 1189, '범인': 1190, '젤': 1191, '감다': 1192, '고생': 1193, '불': 1194, '성인': 1195, '에서의': 1196, '지키다': 1197, '표': 1198, '개판': 1199, '난해하다': 1200, '문': 1201, '뮤지컬': 1202, '사극': 1203, '유': 1204, '진정': 1205, '희다': 1206, '희망': 1207, 'ㅇㅇ': 1208, '심': 1209, '일상': 1210, '끝내다': 1211, '냥': 1212, '딱하다': 1213, '랄': 1214, '무협': 1215, '발견': 1216, '어떤': 1217, '짓다': 1218, '짱짱': 1219, '챙기다': 1220, '펑펑': 1221, '폭력': 1222, '깔끔하다': 1223, '로는': 1224, '말로': 1225, '벗다': 1226, '불가': 1227, '스': 1228, '이래': 1229, '죄': 1230, '쩐다': 1231, '크게': 1232, '리뷰': 1233, '어찌': 1234, '자식': 1235, '주기': 1236, '차이': 1237, '코드': 1238, '하루': 1239, '핵': 1240, '홍콩': 1241, '공부': 1242, '닮다': 1243, '뜻': 1244, '빛': 1245, '어제': 1246, '올해': 1247, '용서': 1248, '우울하다': 1249, '인기': 1250, '눈물나다': 1251, '당연하다': 1252, '밤': 1253, '보시': 1254, '볼거리': 1255, '에만': 1256, '희생': 1257, '가면': 1258, '남편': 1259, '보아': 1260, '일어나다': 1261, '진실': 1262, '형편': 1263, '흑': 1264, '나머지': 1265, '불구': 1266, '비주': 1267, '성도': 1268, '소름끼치다': 1269, '에게는': 1270, '오락': 1271, '정서': 1272, '정치': 1273, '지도': 1274, '까지도': 1275, '남녀': 1276, '무언가': 1277, '부끄럽다': 1278, '섹스': 1279, '시청자': 1280, '아오': 1281, '으론': 1282, '자유': 1283, '홍보': 1284, '개도': 1285, '까지는': 1286, '끌': 1287, '는걸': 1288, '디즈니': 1289, '몰다': 1290, '악': 1291, '즈': 1292, '권': 1293, '다큐멘터리': 1294, '뜬금': 1295, '막판': 1296, '북한': 1297, '삼': 1298, '상처': 1299, '소장': 1300, '언제나': 1301, '와는': 1302, '접다': 1303, '조폭': 1304, '춤': 1305, '끼리': 1306, '노답': 1307, '달': 1308, '무겁다': 1309, '보라': 1310, '본방': 1311, '싫어하다': 1312, '안좋다': 1313, '암튼': 1314, '유일하다': 1315, '의문': 1316, '특별하다': 1317, '행복': 1318, '힐링': 1319, '감명': 1320, '감탄': 1321, '내리다': 1322, '눈빛': 1323, '느와르': 1324, '단지': 1325, '대의': 1326, '들어오다': 1327, '뛰다': 1328, '반성': 1329, '불쾌하다': 1330, '색다르다': 1331, '열정': 1332, '이어지다': 1333, '호러': 1334, '그럭저럭': 1335, '깨다': 1336, '등장인물': 1337, '밥': 1338, '싸다': 1339, '이기': 1340, '이라서': 1341, '이연걸': 1342, '해피엔딩': 1343, 'ㅠㅠㅠㅠ': 1344, '기술': 1345, '늘': 1346, '라지': 1347, '러닝': 1348, '맨날': 1349, '싸구려': 1350, '제로': 1351, '존경': 1352, '고전': 1353, '그다지': 1354, '기적': 1355, '대화': 1356, '만족': 1357, '실감': 1358, '지구': 1359, '창': 1360, '누나': 1361, '아줌마': 1362, '전문가': 1363, '짠하다': 1364, '쫌': 1365, '청소년': 1366, '히어로': 1367, '낳다': 1368, '베스트': 1369, '보다도': 1370, '섬세하다': 1371, '이제야': 1372, '짝퉁': 1373, '흘러가다': 1374, '날다': 1375, '돌다': 1376, '라인': 1377, '반복': 1378, '비극': 1379, '쇼': 1380, '숨다': 1381, '실력': 1382, '아픔': 1383, '연예인': 1384, '이끌다': 1385, '좀더': 1386, '퀄리티': 1387, '헐리우드': 1388, '분노': 1389, '빡치다': 1390, '싸움': 1391, '완전하다': 1392, '적절하다': 1393, '과의': 1394, '그걸': 1395, '금': 1396, '떼다': 1397, '세다': 1398, '실패': 1399, '외모': 1400, '주기도': 1401, '해내다': 1402, '게다가': 1403, '과는': 1404, '꼴': 1405, '놓치다': 1406, '대가': 1407, '동물': 1408, '레전드': 1409, '만으로': 1410, '시트콤': 1411, '입장': 1412, '그린': 1413, '글쎄': 1414, '기본': 1415, '깨닫다': 1416, '꾸다': 1417, '늦다': 1418, '발전': 1419, '시사회': 1420, '외국': 1421, '토': 1422, '허세': 1423, '긴장': 1424, '막히다': 1425, '맡다': 1426, '명품': 1427, '무시': 1428, '방금': 1429, '으리': 1430, '자리': 1431, '종교': 1432, '촌스럽다': 1433, '해석': 1434, '화나다': 1435, '과장': 1436, '담기다': 1437, '대표': 1438, '새벽': 1439, '세기': 1440, '아내': 1441, '아련하다': 1442, '이니': 1443, '이든': 1444, '전개도': 1445, '진리': 1446, '풋풋하다': 1447, '한참': 1448, '가깝다': 1449, '강렬하다': 1450, '달라': 1451, '따위': 1452, '마저': 1453, '분명': 1454, '씁쓸하다': 1455, '아이돌': 1456, '이미지': 1457, '짝': 1458, '채우다': 1459, '팀': 1460, '편의': 1461, '평이': 1462, '검색': 1463, '결과': 1464, '경': 1465, '느리다': 1466, '돌아오다': 1467, '로봇': 1468, '비판': 1469, '오래되다': 1470, '오버': 1471, '조잡하다': 1472, '찡하다': 1473, '편견': 1474, '한국인': 1475, '향': 1476, '견자단': 1477, '그렇다고': 1478, '따라가다': 1479, '벌써': 1480, '빛나다': 1481, '스스로': 1482, '악당': 1483, '어머니': 1484, '이루다': 1485, '이자': 1486, '지는': 1487, '최': 1488, '코난': 1489, '테러': 1490, '편하다': 1491, '까진': 1492, '누군가': 1493, '도안': 1494, '도전': 1495, '미드': 1496, '본인': 1497, '분명하다': 1498, '왜케': 1499, '조합': 1500, '갈등': 1501, '레알': 1502, '부모': 1503, '섹시하다': 1504, '에피소드': 1505, '입다': 1506, '좋아지다': 1507, '쪽': 1508, '헐리웃': 1509, '형사': 1510, '방법': 1511, '방식': 1512, '백': 1513, '상업': 1514, '시각': 1515, '얘': 1516, '오그라들다': 1517, '올라가다': 1518, '의하다': 1519, '초등학생': 1520, '캐리': 1521, '형제': 1522, 'ㅋㅋㅋㅋㅋㅋ': 1523, '국내': 1524, '그거': 1525, '단연': 1526, '라이': 1527, '만큼은': 1528, '미모': 1529, '밋밋하다': 1530, '빨다': 1531, '심각하다': 1532, '싸이코': 1533, '양심': 1534, '에로': 1535, '영어': 1536, '와우': 1537, '주말': 1538, '줍다': 1539, '찝찝하다': 1540, '확': 1541, '가요': 1542, '근': 1543, '기르다': 1544, '김기덕': 1545, '담': 1546, '선생님': 1547, '성공하다': 1548, '애기': 1549, '없어지다': 1550, '여행': 1551, '오르다': 1552, '전반': 1553, '죄다': 1554, '케': 1555, '통쾌하다': 1556, 'ㅋㅋㅋㅋㅋㅋㅋ': 1557, '경험': 1558, '기자': 1559, '소소하다': 1560, '옆': 1561, '우와': 1562, '유발': 1563, '응원': 1564, '이여': 1565, '쩌': 1566, '쩝': 1567, '크리스마스': 1568, '겨': 1569, '굿굿': 1570, '기준': 1571, '깎다': 1572, '남아': 1573, '놀래다': 1574, '바라보다': 1575, '뽑다': 1576, '신경': 1577, '심장': 1578, '연속': 1579, '으로써': 1580, '질리': 1581, '꽝': 1582, '때우다': 1583, '마이클': 1584, '성장': 1585, '시원하다': 1586, '어휴': 1587, '오브': 1588, '카': 1589, '극치': 1590, '만해': 1591, '망': 1592, '무척': 1593, '번째': 1594, '사기': 1595, '이따위': 1596, '자살': 1597, '지우다': 1598, '쵝오': 1599, '편도': 1600, '푹': 1601, '겨우': 1602, '끌리다': 1603, '날리다': 1604, '다가오다': 1605, '루': 1606, '봣는데': 1607, '사수': 1608, '아예': 1609, '위로': 1610, '이정': 1611, '카리스마': 1612, '포인트': 1613, '한데': 1614, '겁니다': 1615, '관점': 1616, '끼': 1617, '낭비하다': 1618, '돌아보다': 1619, '롭고': 1620, '몇몇': 1621, '묘': 1622, '바다': 1623, '우주': 1624, '으로서': 1625, '은근': 1626, '인가요': 1627, '정신병': 1628, '천': 1629, '피해자': 1630, '필름': 1631, '학년': 1632, '가득하다': 1633, '고양이': 1634, '기세': 1635, '로그인': 1636, '로만': 1637, '로써': 1638, '마이너스': 1639, '쉬': 1640, '스럽지': 1641, '신고': 1642, '십': 1643, '야동': 1644, '주성치': 1645, '줄다': 1646, '째': 1647, '풍경': 1648, '할머니': 1649, '해결': 1650, '대부분': 1651, '러브': 1652, '만남': 1653, '맥': 1654, '무술': 1655, '무지': 1656, '뭉클하다': 1657, '본적': 1658, '생활': 1659, '시시하다': 1660, '시청': 1661, '신분': 1662, '안습': 1663, '어린시절': 1664, '욕망': 1665, '주변': 1666, '패러디': 1667, '공짜': 1668, '달달': 1669, '더불다': 1670, '병': 1671, '생생하다': 1672, '에나': 1673, '연결': 1674, '자연스럽다': 1675, '탓': 1676, '하나로': 1677, '각': 1678, '개념': 1679, '개성': 1680, '기만': 1681, '기회': 1682, '나타나다': 1683, '뒷': 1684, '등등': 1685, '땅': 1686, '면서': 1687, '명성': 1688, '모으다': 1689, '목': 1690, '민망하다': 1691, '부럽다': 1692, '신다': 1693, '아마': 1694, '압권': 1695, '으로만': 1696, '이보': 1697, '이어서': 1698, '잠깐': 1699, '조절': 1700, '투자': 1701, 'ㄱ': 1702, '감히': 1703, '개뿔': 1704, '국가': 1705, '기법': 1706, '달리다': 1707, '뛰어넘다': 1708, '린': 1709, '변화': 1710, '삭제': 1711, '셈': 1712, '조작': 1713, '진하다': 1714, '처': 1715, '추하다': 1716, '칠': 1717, '칼': 1718, '특이하다': 1719, '학생': 1720, '가수': 1721, '개막': 1722, '거슬리다': 1723, '덕': 1724, '드림': 1725, '듬': 1726, '만족하다': 1727, '말아먹다': 1728, '세번': 1729, '월': 1730, '재밋다': 1731, '초등학교': 1732, '틈': 1733, '홍콩영화': 1734, '감흥': 1735, '갖추다': 1736, '관련': 1737, '깨우다': 1738, '내면': 1739, '덜': 1740, '따로': 1741, '무서움': 1742, '반하다': 1743, '배역': 1744, '별루': 1745, '아무렇다': 1746, '아아': 1747, '영혼': 1748, '이도': 1749, '전쟁영화': 1750, '젠장': 1751, '케릭': 1752, '특수': 1753, '효': 1754, 'ㅠㅜ': 1755, '공포물': 1756, '그건': 1757, '꼬마': 1758, '뜨겁다': 1759, '막장드라마': 1760, '만들기': 1761, '모자라다': 1762, '변태': 1763, '빈': 1764, '살아나다': 1765, '스트레스': 1766, '신나다': 1767, '썩다': 1768, '와의': 1769, '용기': 1770, '적임': 1771, '정의': 1772, '지나가다': 1773, '직접': 1774, '결정': 1775, '김': 1776, '놀랍다': 1777, '다양하다': 1778, '대놓고': 1779, '방영': 1780, '뿐이다': 1781, '옛': 1782, '왠': 1783, '의식': 1784, '이따': 1785, '이래서': 1786, '정체': 1787, '조용하다': 1788, '채': 1789, '포르노': 1790, '흑인': 1791, '갠': 1792, '교육': 1793, '기발하다': 1794, '깜짝': 1795, '바르다': 1796, '베': 1797, '부부': 1798, '빵점': 1799, '스런': 1800, '에로영화': 1801, '우려': 1802, '이상은': 1803, '잠들다': 1804, '캐': 1805, '트': 1806, '풍자': 1807, '갑': 1808, '린다': 1809, '별개': 1810, '색감': 1811, '설마': 1812, '세월': 1813, '수고': 1814, '여러분': 1815, '영국': 1816, '영화계': 1817, '의외로': 1818, '일품': 1819, '작위': 1820, '하자': 1821, '거나': 1822, '거지같다': 1823, '구리': 1824, '그립다': 1825, '놀다': 1826, '니깐': 1827, '대중': 1828, '던데': 1829, '멈추다': 1830, '명화': 1831, '비현실적': 1832, '애가': 1833, '외계인': 1834, '이용': 1835, '인들': 1836, '잖다': 1837, '참으로': 1838, '최초': 1839, '탈': 1840, '호구': 1841, '감각': 1842, '구나': 1843, '기독교': 1844, '꿈꾸다': 1845, '끔찍하다': 1846, '내생': 1847, '넘어서다': 1848, '데리': 1849, '번은': 1850, '부모님': 1851, '세련되다': 1852, '스크린': 1853, '악마': 1854, '앉다': 1855, '야구': 1856, '얼마': 1857, '임팩트': 1858, '잔뜩': 1859, '키우다': 1860, '파': 1861, '혹은': 1862, 'ㅅ': 1863, '감안': 1864, '갓': 1865, '낫': 1866, '넘어가다': 1867, '단어': 1868, '대본': 1869, '들어서다': 1870, '려고': 1871, '마이': 1872, '매니아': 1873, '목적': 1874, '밋': 1875, '브루스': 1876, '상태': 1877, '시끄럽다': 1878, '시점': 1879, '아래': 1880, '애쓰다': 1881, '여태': 1882, '재난영화': 1883, '점준': 1884, '타고': 1885, '포스': 1886, '화끈하다': 1887, 'ㄷㄷㄷ': 1888, '고르다': 1889, '고통': 1890, '금보': 1891, '꺼': 1892, '드물다': 1893, '마냥': 1894, '물이': 1895, '분만': 1896, '블록버스터': 1897, '설득': 1898, '의심': 1899, '잔': 1900, '재밋어': 1901, '저러다': 1902, '집착': 1903, '피다': 1904, '훨': 1905, '결코': 1906, '껏': 1907, '끼우다': 1908, '낚시': 1909, '두번째': 1910, '보고오다': 1911, '보통': 1912, '빈약하다': 1913, '성은': 1914, '숨기다': 1915, '여러가지': 1916, '예능': 1917, '철': 1918, '투': 1919, '팔이': 1920, '그만큼': 1921, '늘어지다': 1922, '달리': 1923, '만을': 1924, '묻히다': 1925, '미가': 1926, '사고': 1927, '사진': 1928, '심오하다': 1929, '아동': 1930, '아역': 1931, '업다': 1932, '연인': 1933, '운명': 1934, '이전': 1935, '전율': 1936, '최강': 1937, '패': 1938, '폐지': 1939, '한숨': 1940, '확인': 1941, '가득': 1942, '감정이입': 1943, '골': 1944, '근래': 1945, '냄새': 1946, '명의': 1947, '목숨': 1948, '무료': 1949, '비밀': 1950, '선동': 1951, '성격': 1952, '수많다': 1953, '승리': 1954, '웬만하다': 1955, '자르다': 1956, '자주': 1957, '정확하다': 1958, '조니뎁': 1959, '종영': 1960, '탄생': 1961, '가정': 1962, '겪다': 1963, '그야말로': 1964, '넌': 1965, '리즈': 1966, '말고는': 1967, '물다': 1968, '배경음악': 1969, '벗어나다': 1970, '빵빵': 1971, '사투리': 1972, '선물': 1973, '시기': 1974, '았': 1975, '앞뒤': 1976, '오랫': 1977, '옷': 1978, '워': 1979, '중심': 1980, '천국': 1981, '추강': 1982, '톰': 1983, '통': 1984, '할아버지': 1985, 'ㅁ': 1986, '꽃': 1987, '끝내주다': 1988, '낮추다': 1989, '너무도': 1990, '녀': 1991, '대신': 1992, '둘째': 1993, '디': 1994, '보구': 1995, '복잡하다': 1996, '쓸데없이': 1997, '앤': 1998, '욕심': 1999, '파괴': 2000, '가족영화': 2001, '값': 2002, '공간': 2003, '깨': 2004, '내놓다': 2005, '다섯': 2006, '동시': 2007, '마리': 2008, '메': 2009, '박진': 2010, '버전': 2011, '사상': 2012, '신의': 2013, '제외': 2014, '클레멘타인': 2015, '한개': 2016, 'ㅋㅋㅋㅋㅋㅋㅋㅋ': 2017, '거짓말': 2018, '된거': 2019, '따름': 2020, '로코': 2021, '만은': 2022, '속이다': 2023, '숨': 2024, '습': 2025, '심형래': 2026, '여자애': 2027, '역사상': 2028, '열연': 2029, '주제가': 2030, '짜임새': 2031, '짜지다': 2032, '첫사랑': 2033, '틀리다': 2034, '틱': 2035, '하늘': 2036, 'ㅏ': 2037, '거부': 2038, '곡': 2039, '당황': 2040, '딱이다': 2041, '마약': 2042, '매다': 2043, '바탕': 2044, '배다': 2045, '보이지': 2046, '붙이다': 2047, '신파': 2048, '실수': 2049, '영화감독': 2050, '요리': 2051, '의상': 2052, '장가': 2053, '재밋음': 2054, '점줌': 2055, '추리': 2056, '쿡': 2057, '탈출': 2058, '하나같이': 2059, '하품': 2060, '해리포터': 2061, '후속작': 2062, 'ㅉㅉㅉ': 2063, '겁': 2064, '그만하다': 2065, '뇌': 2066, '론': 2067, '뭥미': 2068, '붙다': 2069, '블랙': 2070, '빵터지다': 2071, '새다': 2072, '색': 2073, '심지어': 2074, '아이디어': 2075, '안감': 2076, '웬': 2077, '의사': 2078, '의지': 2079, '잠시': 2080, '장국영': 2081, '졸리': 2082, '지치다': 2083, '충실하다': 2084, '치고는': 2085, '치밀하다': 2086, '힘내다': 2087, 'ㄷ': 2088, '그지같다': 2089, '꼬': 2090, '들리다': 2091, '모험': 2092, '무기': 2093, '반갑다': 2094, '발음': 2095, '뱀파이어': 2096, '벌다': 2097, '소년': 2098, '여자친구': 2099, '이만': 2100, '저리': 2101, '정이': 2102, '터미네이터': 2103, '틴': 2104, '펴다': 2105, '플롯': 2106, 'ㅎㅎㅎㅎ': 2107, '교과서': 2108, '넘기다': 2109, '년작': 2110, '돼지': 2111, '민폐': 2112, '베다': 2113, '손색': 2114, '어둡다': 2115, '에다': 2116, '여인': 2117, '운': 2118, '웃': 2119, '재능': 2120, '전투': 2121, '정작': 2122, '중독': 2123, '쥐': 2124, '컨셉': 2125, '편안하다': 2126, '하아': 2127, 'ㅈ': 2128, '각색': 2129, '거치다': 2130, '겉': 2131, '단순': 2132, '담배': 2133, '동성애': 2134, '라스트': 2135, '라이언': 2136, '매일': 2137, '모양': 2138, '반드시': 2139, '발상': 2140, '부터가': 2141, '사용': 2142, '상실': 2143, '실패하다': 2144, '씹다': 2145, '여기다': 2146, '여친': 2147, '영화제': 2148, '우뢰매': 2149, '이구나': 2150, '이소룡': 2151, '인내심': 2152, '일부러': 2153, '조카': 2154, '지경': 2155, '참나': 2156, '추': 2157, '키드': 2158, '풍': 2159, '호': 2160, '걱정': 2161, '겨울': 2162, '고딩': 2163, '고프다': 2164, '도무지': 2165, '드러나다': 2166, '또다른': 2167, '밀려오다': 2168, '배급사': 2169, '분량': 2170, '빨갱이': 2171, '쓸데없다': 2172, '어디가': 2173, '여름': 2174, '울면': 2175, '일본인': 2176, '자고': 2177, '잡': 2178, '잡고': 2179, '주지': 2180, '쥐다': 2181, '최대': 2182, '폴': 2183, '푸다': 2184, '화일': 2185, '환경': 2186, '거장': 2187, '고등학교': 2188, '과학': 2189, '그동안': 2190, '끊다': 2191, '나은': 2192, '녹다': 2193, '닥': 2194, '떨다': 2195, '막다': 2196, '만드': 2197, '반대': 2198, '부작': 2199, '사운드': 2200, '샘': 2201, '성의': 2202, '어쩌면': 2203, '어쩜': 2204, '언젠가': 2205, '옴': 2206, '움직이다': 2207, '음식': 2208, '인형': 2209, '절': 2210, '절정': 2211, '체적': 2212, '최소': 2213, '폭발': 2214, '하이': 2215, '허허': 2216, '감사': 2217, '러시아': 2218, '로버트': 2219, '만큼이나': 2220, '말투': 2221, '뭐임': 2222, '빵': 2223, '션': 2224, '수입': 2225, '어쩌': 2226, '윌리스': 2227, '잔혹하다': 2228, '잭': 2229, '제임스': 2230, '중학교': 2231, '착각': 2232, '찾기': 2233, '처절하다': 2234, '최고봉': 2235, '탑': 2236, '토록': 2237, '틀': 2238, '헤어지다': 2239, '흥': 2240, 'ㅋㅋㅋㅋㅋㅋㅋㅋㅋ': 2241, '가리다': 2242, '극복': 2243, '난잡하다': 2244, '다세포': 2245, '대통령': 2246, '동네': 2247, '동심': 2248, '레이': 2249, '루즈': 2250, '만화책': 2251, '미스': 2252, '박다': 2253, '비행기': 2254, '선정': 2255, '아기': 2256, '아만다': 2257, '어우러지다': 2258, '영화사': 2259, '유덕화': 2260, '이니까': 2261, '인터넷': 2262, '임창정': 2263, '자동차': 2264, '정보': 2265, '평소': 2266, '피해': 2267, '하지원': 2268, '화의': 2269, 'ㅣ': 2270, '글자': 2271, '길이': 2272, '다점': 2273, '동영상': 2274, '디워': 2275, '따분하다': 2276, '딴': 2277, '라기': 2278, '메이드': 2279, '명불허전': 2280, '미도': 2281, '배트맨': 2282, '보신': 2283, '슴': 2284, '아끼다': 2285, '알아보다': 2286, '어색': 2287, '에게도': 2288, '연극': 2289, '오래전': 2290, '요새': 2291, '울컥': 2292, '유럽': 2293, '이군': 2294, '인게': 2295, '인도': 2296, '적어도': 2297, '제니퍼': 2298, '졸': 2299, '주윤발': 2300, '진수': 2301, '황당': 2302, 'ㅄ': 2303, 'ㅜㅠ': 2304, '낚였다': 2305, '녀석': 2306, '데뷔': 2307, '도데': 2308, '등록': 2309, '만약': 2310, '명대사': 2311, '밝다': 2312, '부리다': 2313, '심다': 2314, '아놀드': 2315, '아무튼': 2316, '어거지': 2317, '에이': 2318, '완벽': 2319, '용다': 2320, '제이슨': 2321, '친': 2322, '틀어주다': 2323, '할리우드': 2324, '혐오': 2325, '교회': 2326, '군인': 2327, '그렇지만': 2328, '끝내': 2329, '논리': 2330, '누르다': 2331, '뜬금없이': 2332, '무난': 2333, '밖': 2334, '배신': 2335, '부족함': 2336, '손가락': 2337, '싫어지다': 2338, '아치': 2339, '여신': 2340, '영향': 2341, '일반': 2342, '일주일': 2343, '조화': 2344, '중딩': 2345, '지나': 2346, '짜이다': 2347, '컷': 2348, '케빈': 2349, '키스': 2350, '필': 2351, '하니': 2352, 'ㄴ': 2353, '계시다': 2354, '곧': 2355, '곱다': 2356, '극단': 2357, '기존': 2358, '김치': 2359, '깍': 2360, '깡패': 2361, '끼치다': 2362, '나누다': 2363, '난리': 2364, '내일': 2365, '네티즌': 2366, '도둑': 2367, '도움': 2368, '때매': 2369, '류작': 2370, '링': 2371, '마음속': 2372, '만도': 2373, '만세': 2374, '명복': 2375, '무대': 2376, '베리': 2377, '블랙코미디': 2378, '살인마': 2379, '성공': 2380, '센스': 2381, '소개': 2382, '송강호': 2383, '스포': 2384, '오는': 2385, '오프닝': 2386, '옳다': 2387, '왜곡': 2388, '응': 2389, '인류': 2390, '정우성': 2391, '준비': 2392, '출신': 2393, '치유': 2394, '파리': 2395, '판단': 2396, '하고는': 2397, '하정우': 2398, '현대': 2399, '홍상수': 2400, '흡입': 2401, 'ㅉ': 2402, '객관': 2403, '겉멋': 2404, '담백하다': 2405, '대사도': 2406, '리가': 2407, '무너지다': 2408, '무한': 2409, '버': 2410, '베드': 2411, '부실하다': 2412, '분장': 2413, '상어': 2414, '섞다': 2415, '성적': 2416, '속지': 2417, '액션씬': 2418, '어처구니': 2419, '얼다': 2420, '와도': 2421, '의심스럽다': 2422, '졸업': 2423, '지리다': 2424, '찬': 2425, '최소한': 2426, '캐릭': 2427, '캬': 2428, '평균': 2429, '포': 2430, '광구': 2431, '널': 2432, '논': 2433, '다그': 2434, '딸리다': 2435, '무간도': 2436, '미스터리': 2437, '및': 2438, '배꼽': 2439, '변신': 2440, '별하나': 2441, '보임': 2442, '상관없다': 2443, '상징': 2444, '아오이': 2445, '알파': 2446, '예측': 2447, '인지도': 2448, '잡히다': 2449, '전하': 2450, '직업': 2451, '쯧쯧': 2452, '코메디': 2453, '탁월하다': 2454, '토나오다': 2455, '판이': 2456, '포드': 2457, '한국판': 2458, '흔들다': 2459, '가능성': 2460, '고뇌': 2461, '그대': 2462, '남성': 2463, '능': 2464, '달콤하다': 2465, '대결': 2466, '리얼리티': 2467, '리지': 2468, '말씀': 2469, '버튼': 2470, '부활': 2471, '사과': 2472, '삶다': 2473, '스티븐': 2474, '스파이더맨': 2475, '신인': 2476, '신하균': 2477, '아이유': 2478, '애절하다': 2479, '에다가': 2480, '에서만': 2481, '역량': 2482, '워낙': 2483, '장애인': 2484, '재난': 2485, '재미나': 2486, '징': 2487, '찌질하다': 2488, '차원': 2489, '커서': 2490, '파다': 2491, '한석규': 2492, '흉내': 2493, '흔': 2494, '강력': 2495, '개콘': 2496, '거품': 2497, '게뭐': 2498, '공유': 2499, '나레이션': 2500, '놀이': 2501, '니콜': 2502, '대박나다': 2503, '디테일': 2504, '레옹': 2505, '맛있다': 2506, '망가지다': 2507, '멜로영화': 2508, '명장': 2509, '모이다': 2510, '무게': 2511, '무리': 2512, '백인': 2513, '본능': 2514, '비록': 2515, '섞이다': 2516, '소화': 2517, '슈퍼': 2518, '스텝': 2519, '쏟다': 2520, '에가': 2521, '원숭이': 2522, '쟁이': 2523, '절제': 2524, '정리': 2525, '중년': 2526, '쭉': 2527, '차리다': 2528, '축구': 2529, '치노': 2530, '타란티노': 2531, '한순간': 2532, '그럴듯하다': 2533, '깨알': 2534, '꺼지다': 2535, '높이다': 2536, '누군지': 2537, '데이': 2538, '독일': 2539, '드디어': 2540, '듣기': 2541, '만화영화': 2542, '명연기': 2543, '무재': 2544, '미녀': 2545, '박중훈': 2546, '버티다': 2547, '범': 2548, '부인': 2549, '부탁': 2550, '뿌리다': 2551, '서도': 2552, '선사': 2553, '실험': 2554, '앙': 2555, '유지': 2556, '이기도': 2557, '이해도': 2558, '징그럽다': 2559, '짬뽕': 2560, '콜린': 2561, '킬링': 2562, '하나님': 2563, '화란': 2564, '후회되다': 2565, 'ㅎㄷㄷ': 2566, '개그맨': 2567, '과도': 2568, '급하다': 2569, '까지만': 2570, '끊기다': 2571, '노인': 2572, '답답': 2573, '두렵다': 2574, '드네': 2575, '드니': 2576, '레': 2577, '만화가': 2578, '많아지다': 2579, '매미': 2580, '몽환': 2581, '박히다': 2582, '방해': 2583, '베일': 2584, '비중': 2585, '상대': 2586, '서부': 2587, '솔': 2588, '스타워즈': 2589, '애매하다': 2590, '애초': 2591, '억울하다': 2592, '엄정화': 2593, '연상': 2594, '염': 2595, '예고': 2596, '오로지': 2597, '올레': 2598, '우드': 2599, '우선': 2600, '의외': 2601, '일으키다': 2602, '저지르다': 2603, '찬양': 2604, '케미': 2605, '켜다': 2606, '파격': 2607, '하라': 2608, '행': 2609, '화질': 2610, '가야': 2611, '강간': 2612, '고독': 2613, '고증': 2614, '국어': 2615, '낼': 2616, '늘리다': 2617, '다리': 2618, '다해': 2619, '단체': 2620, '달라지다': 2621, '도중': 2622, '들어주다': 2623, '문득': 2624, '박': 2625, '범죄자': 2626, '부정': 2627, '빌다': 2628, '상식': 2629, '선수': 2630, '성과': 2631, '쉽다': 2632, '스릴러물': 2633, '승부': 2634, '쌍': 2635, '압': 2636, '연습': 2637, '열자': 2638, '우린': 2639, '웰': 2640, '이루어지다': 2641, '익숙하다': 2642, '잔인함': 2643, '전지현': 2644, '죄송하다': 2645, '찾아가다': 2646, '첨부': 2647, '초월': 2648, '컴퓨터': 2649, '킬러': 2650, '풀리다': 2651, '피식': 2652, '한효주': 2653, '화장실': 2654, 'ㅈㄴ': 2655, '가하다': 2656, '가히': 2657, '걷다': 2658, '과대': 2659, '광기': 2660, '구로': 2661, '구만': 2662, '구분': 2663, '난후': 2664, '놀란': 2665, '다시금': 2666, '데이빗': 2667, '도르다': 2668, '도망가다': 2669, '돌': 2670, '땀': 2671, '떡밥': 2672, '렉': 2673, '리도': 2674, '매끄럽다': 2675, '매번': 2676, '모로': 2677, '바닥': 2678, '반응': 2679, '받아들이다': 2680, '부로': 2681, '부터는': 2682, '비호감': 2683, '뺏다': 2684, '살이': 2685, '석': 2686, '소통': 2687, '손예진': 2688, '쓸쓸하다': 2689, '아누': 2690, '알려지다': 2691, '압도': 2692, '애잔하다': 2693, '왤케': 2694, '이별': 2695, '재수없다': 2696, '존스': 2697, '중학생': 2698, '지지': 2699, '질리다': 2700, '찌르다': 2701, '처리': 2702, '출연자': 2703, '칭찬': 2704, '튀다': 2705, '합': 2706, '혁명': 2707, '각자': 2708, '갈리다': 2709, '게스트': 2710, '계기': 2711, '공룡': 2712, '국': 2713, '기획': 2714, '꿀': 2715, '덩어리': 2716, '도시': 2717, '뒤죽박죽': 2718, '떠올리다': 2719, '리암': 2720, '무어': 2721, '믿음': 2722, '밀다': 2723, '박보영': 2724, '보나': 2725, '비쥬': 2726, '상큼': 2727, '생명': 2728, '서울': 2729, '시험': 2730, '쓴다': 2731, '아무나': 2732, '에서나': 2733, '왕조현': 2734, '우연': 2735, '유행': 2736, '이병헌': 2737, '잃어버리다': 2738, '잘알다': 2739, '절로': 2740, '정부': 2741, '정상': 2742, '조지': 2743, '중국영화': 2744, '중병': 2745, '지식': 2746, '커버': 2747, '콩': 2748, '크리스찬': 2749, '테이큰': 2750, '하고프다': 2751, '하얗다': 2752, '한동안': 2753, '향연': 2754, '형식': 2755, '호불호': 2756, '환자': 2757, '가까이': 2758, '가나': 2759, '가짜': 2760, '견디다': 2761, '고해': 2762, '극적': 2763, '기사': 2764, '꼬이다': 2765, '나무': 2766, '단점': 2767, '당장': 2768, '로맨틱코미디': 2769, '류승범': 2770, '뭣': 2771, '민족': 2772, '밀': 2773, '밝히다': 2774, '부산': 2775, '빠': 2776, '사이코': 2777, '선생': 2778, '섬': 2779, '슨': 2780, '신부': 2781, '애틋하다': 2782, '어떻': 2783, '영웅본색': 2784, '인걸': 2785, '인연': 2786, '잉': 2787, '절망': 2788, '지내다': 2789, '짱짱맨': 2790, '차승원': 2791, '춤추다': 2792, '케이': 2793, '트리': 2794, '포함': 2795, '풀': 2796, '해봤다': 2797, '해외': 2798, '호기심': 2799, '혹': 2800, '거듭': 2801, '나타내다': 2802, '내려가다': 2803, '다이하드': 2804, '단편': 2805, '담담하다': 2806, '데리다': 2807, '도와주다': 2808, '뒤늦다': 2809, '디카프리오': 2810, '떨어뜨리다': 2811, '마누라': 2812, '마찬가지': 2813, '맙시': 2814, '멍': 2815, '메이': 2816, '모욕': 2817, '못자다': 2818, '비참하다': 2819, '산다': 2820, '세대': 2821, '시골': 2822, '신화': 2823, '싸하다': 2824, '아바타': 2825, '안기다': 2826, '어지럽다': 2827, '엔딩크레딧': 2828, '역작': 2829, '욕먹다': 2830, '유아': 2831, '이구만': 2832, '이드': 2833, '인식': 2834, '제작자': 2835, '주관': 2836, '중후': 2837, '째다': 2838, '찌': 2839, '차갑다': 2840, '천만': 2841, '최후': 2842, '클래식': 2843, '특집': 2844, '한지': 2845, '해오다': 2846, '호흡': 2847, '화판': 2848, '권력': 2849, '귀찮다': 2850, '기괴하다': 2851, '낭만': 2852, '노튼': 2853, '누님': 2854, '다른사람': 2855, '덮다': 2856, '든지': 2857, '떄': 2858, '떠들다': 2859, '떡': 2860, '랑은': 2861, '로빈': 2862, '묵직하다': 2863, '미스캐스팅': 2864, '미학': 2865, '반도': 2866, '방향': 2867, '벌어지다': 2868, '부자연스럽다': 2869, '서점': 2870, '섹시': 2871, '수록': 2872, '애니매이션': 2873, '없애다': 2874, '엽기': 2875, '영구': 2876, '영활': 2877, '예수': 2878, '오글오글': 2879, '오랫동안': 2880, '올라오다': 2881, '유우': 2882, '일부': 2883, '일지': 2884, '재앙': 2885, '전성기': 2886, '주가': 2887, '짜내다': 2888, '짜릿하다': 2889, '찬란하다': 2890, '크루즈': 2891, '크리스': 2892, '클라스': 2893, '택시': 2894, '픽사': 2895, '한가지': 2896, '향수': 2897, '가라': 2898, '강동원': 2899, '거짓': 2900, '고문': 2901, '고인': 2902, '금지': 2903, '김혜수': 2904, '끈': 2905, '나로': 2906, '남자배우': 2907, '너희': 2908, '다치다': 2909, '대부': 2910, '던': 2911, '뎅': 2912, '돌려주다': 2913, '두운': 2914, '떨리다': 2915, '똑같이': 2916, '리기': 2917, '매주': 2918, '미스테리': 2919, '반영': 2920, '복선': 2921, '본질': 2922, '부다': 2923, '빠순이': 2924, '사람과': 2925, '설경구': 2926, '순수': 2927, '스포츠': 2928, '스필버그': 2929, '심사': 2930, '아우': 2931, '애로': 2932, '업': 2933, '연관': 2934, '의견': 2935, '전라도': 2936, '지독하다': 2937, '지옥': 2938, '직': 2939, '쪽팔리다': 2940, '최민식': 2941, '추가': 2942, '페이크': 2943, '픽션': 2944, 'ㅓ': 2945, 'ㅜㅜㅜ': 2946, '경우': 2947, '고등학생': 2948, '고어': 2949, '구조': 2950, '권상우': 2951, '김희선': 2952, '깜놀': 2953, '나루토': 2954, '눈치': 2955, '늑대': 2956, '도라에몽': 2957, '띄다': 2958, '로움': 2959, '머릿속': 2960, '무리다': 2961, '무의미하다': 2962, '번역': 2963, '별거': 2964, '설': 2965, '스콧': 2966, '시종일관': 2967, '실상': 2968, '싱겁다': 2969, '쏘우': 2970, '씨발': 2971, '안성기': 2972, '안쓰럽다': 2973, '애정': 2974, '어쨌든': 2975, '오해': 2976, '옥': 2977, '올려주다': 2978, '외롭다': 2979, '유의': 2980, '이스트': 2981, '인권': 2982, '자세하다': 2983, '장진': 2984, '조선': 2985, '짱구': 2986, '찍': 2987, '차별': 2988, '차태현': 2989, '채다': 2990, '철저하다': 2991, '첨으로': 2992, '청년': 2993, '최민수': 2994, '타인': 2995, '토니': 2996, '특': 2997, '피아노': 2998, '혼란': 2999, '화하다': 3000, '흑백': 3001, '흠잡다': 3002, 'ㅋㅋㅋㅋㅋㅋㅋㅋㅋㅋ': 3003, 'ㅋㅋㅋㅋㅋㅋㅋㅋㅋㅋㅋ': 3004, '가게': 3005, '감추다': 3006, '강요': 3007, '개꿀잼': 3008, '곰': 3009, '국산': 3010, '국제': 3011, '극혐': 3012, '기타': 3013, '김태희': 3014, '까맣다': 3015, '꾸미다': 3016, '난무': 3017, '남고': 3018, '넹': 3019, '니콜라스': 3020, '다녀오다': 3021, '대고': 3022, '덤': 3023, '뎀': 3024, '로드': 3025, '만난': 3026, '멘탈': 3027, '목사': 3028, '발랄하다': 3029, '밟다': 3030, '방황': 3031, '본격': 3032, '부담': 3033, '빨갛다': 3034, '뻥': 3035, '세계관': 3036, '숨막히다': 3037, '스키': 3038, '스피드': 3039, '시장': 3040, '식이': 3041, '신세계': 3042, '아마추어': 3043, '안해': 3044, '애국심': 3045, '어떠하다': 3046, '온갖': 3047, '와중': 3048, '외국인': 3049, '이의': 3050, '인도영화': 3051, '작전': 3052, '장점': 3053, '적극': 3054, '전문': 3055, '정점': 3056, '주네': 3057, '지고': 3058, '지브리': 3059, '찾아오다': 3060, '출현': 3061, '층': 3062, '텐데': 3063, '평화': 3064, '풍부하다': 3065, '학창시절': 3066, '해지': 3067, '헉': 3068, '화중': 3069, '회사': 3070, '가르치다': 3071, '간지': 3072, '간직': 3073, '강시': 3074, '김수현': 3075, '납치': 3076, '눕다': 3077, '능가': 3078, '드러내다': 3079, '듭니': 3080, '만족스럽다': 3081, '망치': 3082, '멀리': 3083, '무식하다': 3084, '바치다': 3085, '반감': 3086, '백배': 3087, '벗기다': 3088, '분동': 3089, '사기꾼': 3090, '살기': 3091, '성유리': 3092, '수면제': 3093, '수없이': 3094, '슈퍼맨': 3095, '스킵': 3096, '신민아': 3097, '쎄다': 3098, '쓰이다': 3099, '아기자기하다': 3100, '아담': 3101, '아카데미': 3102, '암울하다': 3103, '애인': 3104, '양반': 3105, '어차피': 3106, '에드': 3107, '에드워드': 3108, '열리다': 3109, '오로라': 3110, '우롱': 3111, '원조': 3112, '위트': 3113, '음향': 3114, '자격': 3115, '전도연': 3116, '절대로': 3117, '정화': 3118, '제시카': 3119, '차마': 3120, '첩보': 3121, '추격': 3122, '충': 3123, '티나': 3124, '펼치다': 3125, '폭풍': 3126, '한국어': 3127, '향기': 3128, '헛': 3129, '홀로': 3130, '흔들리다': 3131, '가관': 3132, '가기': 3133, '강아지': 3134, '고치다': 3135, '곤': 3136, '군더더기': 3137, '그치다': 3138, '기쁘다': 3139, '긴박': 3140, '께서': 3141, '나와라': 3142, '남친': 3143, '내기': 3144, '대학': 3145, '뜯다': 3146, '러셀': 3147, '만원': 3148, '먹기': 3149, '미이라': 3150, '벨': 3151, '불가능하다': 3152, '사나이': 3153, '살때': 3154, '상관': 3155, '색채': 3156, '세트': 3157, '수위': 3158, '싸이코패스': 3159, '아이언맨': 3160, '알바생': 3161, '엉뚱하다': 3162, '여지': 3163, '오직': 3164, '옮기다': 3165, '위기': 3166, '위험하다': 3167, '이안': 3168, '이탈리아': 3169, '일도': 3170, '자랑': 3171, '자본': 3172, '잘나가다': 3173, '잠자다': 3174, '재방송': 3175, '적당': 3176, '전화': 3177, '즐거움': 3178, '지배': 3179, '지상': 3180, '진창': 3181, '집단': 3182, '집안': 3183, '천원': 3184, '촌': 3185, '추구': 3186, '치료': 3187, '커녕': 3188, '태우다': 3189, '파워': 3190, '팝콘': 3191, '펼쳐지다': 3192, '폼': 3193, '피디': 3194, '하드': 3195, '합치다': 3196, '호감': 3197, '후기': 3198, '간간히': 3199, '개발': 3200, '거임': 3201, '고도': 3202, '공주': 3203, '관리': 3204, '괴롭다': 3205, '구경': 3206, '구혜선': 3207, '극찬': 3208, '금은': 3209, '김구라': 3210, '꺼내다': 3211, '납득': 3212, '내보내다': 3213, '단역': 3214, '답지': 3215, '당당하다': 3216, '대역': 3217, '뒤지다': 3218, '따라오다': 3219, '레오': 3220, '로운': 3221, '마디': 3222, '마법': 3223, '마블': 3224, '막상': 3225, '미국인': 3226, '박찬욱': 3227, '밖에는': 3228, '배속': 3229, '병원': 3230, '볼라': 3231, '분도': 3232, '불과하다': 3233, '붉다': 3234, '상이': 3235, '섭외': 3236, '성장하다': 3237, '성형': 3238, '소지섭': 3239, '송승헌': 3240, '수십': 3241, '순위': 3242, '시간대': 3243, '앞서': 3244, '어중간하다': 3245, '언어': 3246, '열다': 3247, '엽문': 3248, '울음': 3249, '위주': 3250, '유혹': 3251, '이외': 3252, '이은주': 3253, '일반인': 3254, '임청하': 3255, '작화': 3256, '잘나다': 3257, '장애': 3258, '저렇다': 3259, '주위': 3260, '준영': 3261, '줄리': 3262, '지켜보다': 3263, '짙다': 3264, '찬사': 3265, '커지다': 3266, '킹': 3267, '틀림없다': 3268, '품': 3269, '프리': 3270, '하나요': 3271, '허무': 3272, '흑역사': 3273, '흔적': 3274, '가식': 3275, '개똥': 3276, '거북하다': 3277, '거야': 3278, '건데': 3279, '검사': 3280, '겨울왕국': 3281, '고작': 3282, '공허하다': 3283, '기승': 3284, '꼽히다': 3285, '난국': 3286, '낮': 3287, '닥치고': 3288, '대하': 3289, '더욱더': 3290, '동감': 3291, '두고두고': 3292, '드립': 3293, '따지다': 3294, '또는': 3295, '똑바로': 3296, '라스': 3297, '로망': 3298, '멤버': 3299, '물의': 3300, '미장센': 3301, '민': 3302, '반지': 3303, '벌리다': 3304, '보고서': 3305, '본성': 3306, '볼걸': 3307, '사무라이': 3308, '사장': 3309, '새록새록': 3310, '서양': 3311, '성함': 3312, '스페인': 3313, '스펙': 3314, '시체': 3315, '신비': 3316, '심정': 3317, '썩': 3318, '아시': 3319, '어딘가': 3320, '어쩌다': 3321, '에바': 3322, '엑스맨': 3323, '역다': 3324, '오인혜': 3325, '왓': 3326, '외면': 3327, '울림': 3328, '유리': 3329, '이웃': 3330, '이정재': 3331, '장소': 3332, '장혁': 3333, '저급하다': 3334, '저희': 3335, '전락': 3336, '전사': 3337, '전해지다': 3338, '젊은이': 3339, '정선': 3340, '조명': 3341, '주행': 3342, '지네': 3343, '지저분하다': 3344, '크레딧': 3345, '태국': 3346, '테': 3347, '투성이': 3348, '퍼스': 3349, '평론': 3350, '혀': 3351, '황정민': 3352, '흐지부지': 3353, 'ㅂㅅ': 3354, 'ㅋㅋㅋㅋㅋㅋㅋㅋㅋㅋㅋㅋ': 3355, 'ㅐ': 3356, '감기': 3357, '감수성': 3358, '감옥': 3359, '경악': 3360, '고스': 3361, '고자': 3362, '관대하다': 3363, '광': 3364, '구성은': 3365, '국적': 3366, '기용': 3367, '기전': 3368, '깨달음': 3369, '끝판': 3370, '노무': 3371, '녹화': 3372, '농담': 3373, '뉴스': 3374, '대가리': 3375, '도하': 3376, '락': 3377, '러브스토리': 3378, '마녀': 3379, '말리다': 3380, '맺다': 3381, '모방': 3382, '뮤직비디오': 3383, '밝혀지다': 3384, '벌': 3385, '부디': 3386, '빼놓다': 3387, '색깔': 3388, '생기': 3389, '서정': 3390, '손꼽다': 3391, '실': 3392, '어정쩡하다': 3393, '에로물': 3394, '엿보다': 3395, '오지': 3396, '완죤': 3397, '왤다': 3398, '용감하다': 3399, '우아하다': 3400, '유익하다': 3401, '읍': 3402, '이연희': 3403, '이준기': 3404, '인터뷰': 3405, '일찍': 3406, '자본주의': 3407, '재료': 3408, '재치': 3409, '전투씬': 3410, '절절': 3411, '정통': 3412, '종': 3413, '지인': 3414, '진영화': 3415, '집다': 3416, '컬트': 3417, '클라라': 3418, '타이틀': 3419, '톰크루즈': 3420, '트랜스포머': 3421, '피곤하다': 3422, '하고도': 3423, '한정': 3424, '행위': 3425, '호화': 3426, '홍': 3427, '환장하다': 3428, '힙합': 3429, 'ㅋㅋㅋㅋㅋㅋㅋㅋㅋㅋㅋㅋㅋ': 3430, '가을': 3431, '강력하다': 3432, '강제': 3433, '경의': 3434, '고로': 3435, '구려': 3436, '극본': 3437, '긋다': 3438, '김명민': 3439, '꼽': 3440, '나머진': 3441, '남발': 3442, '남지': 3443, '노골': 3444, '다니엘': 3445, '닷': 3446, '닼': 3447, '대전': 3448, '덜하다': 3449, '디테': 3450, '뚝뚝': 3451, '래야': 3452, '랩': 3453, '로버츠': 3454, '마저도': 3455, '마케팅': 3456, '말르다': 3457, '먼지': 3458, '모독': 3459, '믄': 3460, '미키': 3461, '버스': 3462, '법정': 3463, '별다르다': 3464, '봉': 3465, '부드럽다': 3466, '불면증': 3467, '불안하다': 3468, '빼': 3469, '새삼': 3470, '선하다': 3471, '섬뜩하다': 3472, '스탈': 3473, '시스': 3474, '신도': 3475, '안남': 3476, '안함': 3477, '어수선하다': 3478, '어째': 3479, '에든': 3480, '에러': 3481, '에여': 3482, '엘': 3483, '여기저기': 3484, '완젼': 3485, '왕자': 3486, '우왕': 3487, '우익': 3488, '원주고': 3489, '윤아': 3490, '이구': 3491, '이민기': 3492, '인종차별': 3493, '일리': 3494, '자아': 3495, '자위': 3496, '재현': 3497, '적나라하다': 3498, '전기': 3499, '젊음': 3500, '젖다': 3501, '제왕': 3502, '주인': 3503, '줄리아': 3504, '지극히': 3505, '질문': 3506, '찡': 3507, '차분하다': 3508, '천사': 3509, '추악하다': 3510, '출발': 3511, '칠하다': 3512, '카피': 3513, '토끼': 3514, '톤': 3515, '파워레인저': 3516, '팍팍': 3517, '포켓몬': 3518, '폰': 3519, '하디': 3520, '헷갈리다': 3521, '활약': 3522, '회상': 3523, '흉내내': 3524, 'ㅂ': 3525, '가안': 3526, '가해자': 3527, '강조': 3528, '거대하다': 3529, '곁': 3530, '고발': 3531, '공원': 3532, '과잉': 3533, '괜': 3534, '그나저나': 3535, '그땐': 3536, '나니': 3537, '노동자': 3538, '노랗다': 3539, '노예': 3540, '눈요기': 3541, '뉴욕': 3542, '다기': 3543, '다운로드': 3544, '다크나이트': 3545, '대상': 3546, '대학생': 3547, '더니': 3548, '덜덜': 3549, '동양': 3550, '드래곤볼': 3551, '등급': 3552, '디젤': 3553, '레드': 3554, '로다': 3555, '만큼의': 3556, '맷': 3557, '멀쩡하다': 3558, '무색': 3559, '바쁘다': 3560, '박평': 3561, '박하다': 3562, '발톱': 3563, '부여': 3564, '불만': 3565, '불쌍': 3566, '사망': 3567, '선율': 3568, '송지효': 3569, '아이고': 3570, '아이러니': 3571, '어의': 3572, '엉덩이': 3573, '에서야': 3574, '여왕': 3575, '오우삼': 3576, '원피스': 3577, '월드': 3578, '유령': 3579, '유지태': 3580, '이를': 3581, '이범수': 3582, '일생': 3583, '임신': 3584, '작렬': 3585, '장난감': 3586, '재밋네': 3587, '재방': 3588, '재주': 3589, '정석': 3590, '종류': 3591, '줄이다': 3592, '쥬라기': 3593, '지대': 3594, '진작': 3595, '쫓다': 3596, '찢다': 3597, '창피하다': 3598, '초점': 3599, '최선': 3600, '치면': 3601, '침': 3602, '칸': 3603, '타령': 3604, '투표': 3605, '특징': 3606, '패션': 3607, '학살': 3608, '한텐': 3609, '함부로': 3610, '핳': 3611, '홧팅': 3612, '휴가': 3613, '휴먼': 3614, '흥분': 3615, '거울': 3616, '걸이': 3617, '걸치다': 3618, '격투': 3619, '경계': 3620, '공중파': 3621, '관람객': 3622, '교수': 3623, '구리다': 3624, '구역': 3625, '궁': 3626, '귀가': 3627, '그려지다': 3628, '글쎄요': 3629, '금도': 3630, '김민종': 3631, '꼬맹이': 3632, '낯': 3633, '누': 3634, '니당다': 3635, '다가가다': 3636, '다나': 3637, '단편영화': 3638, '댄스': 3639, '덴젤': 3640, '도로': 3641, '디자인': 3642, '디지다': 3643, '따스하다': 3644, '런닝맨': 3645, '마르': 3646, '멍하다': 3647, '명확하다': 3648, '모순': 3649, '몬': 3650, '무도': 3651, '무적': 3652, '물건': 3653, '미달': 3654, '미안': 3655, '밀리다': 3656, '벅차다': 3657, '베이': 3658, '복': 3659, '볼일': 3660, '부탁드리다': 3661, '삐': 3662, '서스펜스': 3663, '소품': 3664, '송혜교': 3665, '순진하다': 3666, '스텝업': 3667, '시민': 3668, '신데렐라': 3669, '쓰기': 3670, '아가': 3671, '아프리카': 3672, '압박': 3673, '양동근': 3674, '어느새다': 3675, '어쩌라고': 3676, '어처구니없다': 3677, '에릭': 3678, '엠마': 3679, '영광': 3680, '옹': 3681, '외로움': 3682, '요약': 3683, '용가리': 3684, '워커': 3685, '원인': 3686, '원표': 3687, '웹툰': 3688, '위안': 3689, '유치원': 3690, '이던': 3691, '이완': 3692, '이형': 3693, '이혼': 3694, '장근석': 3695, '장이': 3696, '장치': 3697, '절묘하다': 3698, '접근': 3699, '조승우': 3700, '조정': 3701, '조차도': 3702, '죽지': 3703, '지원': 3704, '직원': 3705, '짓거리': 3706, '참여': 3707, '체험': 3708, '추락': 3709, '취급': 3710, '카메론': 3711, '쿨하다': 3712, '퀴어': 3713, '트릭': 3714, '파라': 3715, '파악': 3716, '하이킥': 3717, '혹성탈출': 3718, '혹평': 3719, '화답': 3720, '활용': 3721, '획': 3722, '훈남': 3723, '흐뭇하다': 3724, '희망이': 3725, 'ㄹㅇ': 3726, '가져오다': 3727, '간단하다': 3728, '강지환': 3729, '강혜정': 3730, '겹': 3731, '경이': 3732, '공연': 3733, '공존': 3734, '구멍': 3735, '권하다': 3736, '그러니까': 3737, '기리': 3738, '기쁨': 3739, '김강우': 3740, '깨끗하다': 3741, '날로': 3742, '남매': 3743, '냉정하다': 3744, '도입': 3745, '독립': 3746, '드림웍스': 3747, '디스': 3748, '땡': 3749, '람보': 3750, '려': 3751, '롯데': 3752, '맥스': 3753, '먹히다': 3754, '면도': 3755, '명곡': 3756, '명도': 3757, '모호하다': 3758, '미야자키': 3759, '박사': 3760, '밖엔': 3761, '버그': 3762, '불필요하다': 3763, '비싸다': 3764, '비치': 3765, '살인자': 3766, '서극': 3767, '성찰': 3768, '스파이': 3769, '신념': 3770, '신선': 3771, '신세경': 3772, '신현준': 3773, '실사': 3774, '쏟아지다': 3775, '쓰러지다': 3776, '앞서다': 3777, '어떡하다': 3778, '어르다': 3779, '엉터리': 3780, '에의': 3781, '열광하다': 3782, '오오': 3783, '와이프': 3784, '외치다': 3785, '운동': 3786, '웅장': 3787, '유아인': 3788, '율': 3789, '은퇴': 3790, '이러니': 3791, '이신': 3792, '이예': 3793, '인터스텔라': 3794, '임권택': 3795, '자라다': 3796, '자의': 3797, '장동건': 3798, '저절로': 3799, '절반': 3800, '제작사': 3801, '조직': 3802, '존잼': 3803, '졸음': 3804, '주온': 3805, '증거': 3806, '지역': 3807, '진보': 3808, '진짜진짜': 3809, '차지': 3810, '책임': 3811, '초기': 3812, '태도': 3813, '파이다': 3814, '파이팅': 3815, '피트': 3816, '해적': 3817, '해피': 3818, '헛웃음': 3819, '화만': 3820, '화해': 3821, '환불': 3822, '훔치다': 3823, '간첩': 3824, '건아': 3825, '격': 3826, '고수': 3827, '곱씹다': 3828, '공식': 3829, '광팬': 3830, '구석': 3831, '기독교인': 3832, '김선아': 3833, '나나': 3834, '날아가다': 3835, '남자라면': 3836, '내러티브': 3837, '년후': 3838, '높이': 3839, '느슨하다': 3840, '님들': 3841, '달러': 3842, '두려움': 3843, '들보': 3844, '땜시': 3845, '로우': 3846, '롱': 3847, '루이스': 3848, '마크': 3849, '마틴': 3850, '말기': 3851, '머피': 3852, '모티브': 3853, '몫': 3854, '무지하다': 3855, '박신양': 3856, '박해일': 3857, '배려': 3858, '법칙': 3859, '보장': 3860, '부가': 3861, '부자': 3862, '부턴': 3863, '뽕': 3864, '상치': 3865, '샤론스톤': 3866, '성숙하다': 3867, '소문': 3868, '식스센스': 3869, '알리다': 3870, '애도': 3871, '어딜': 3872, '어우': 3873, '엉엉': 3874, '에게나': 3875, '에일리언': 3876, '역쉬': 3877, '역활': 3878, '오유': 3879, '유쾌': 3880, '인척': 3881, '일드': 3882, '일수': 3883, '장군': 3884, '장나라': 3885, '저번': 3886, '저예산영화': 3887, '족': 3888, '졸잼': 3889, '증말': 3890, '짐승': 3891, '쩜': 3892, '차이다': 3893, '츠': 3894, '측면': 3895, '태양': 3896, '팔다': 3897, '팬심': 3898, '펭귄': 3899, '품다': 3900, '학원': 3901, '해리슨': 3902, '허구': 3903, '헐크': 3904, '환타지': 3905, '활동': 3906, 'ㅠㅠㅠㅠㅠ': 3907, '가르다': 3908, '가미': 3909, '가버리다': 3910, '가사': 3911, '가슴속': 3912, '각각': 3913, '강호동': 3914, '고백': 3915, '광주': 3916, '구도': 3917, '구역질': 3918, '그로': 3919, '기간': 3920, '까지가': 3921, '꾹': 3922, '나발': 3923, '나빠지다': 3924, '남아돌다': 3925, '대치': 3926, '데이먼': 3927, '도통': 3928, '동료': 3929, '땡기다': 3930, '똑똑하다': 3931, '레이첼': 3932, '록키': 3933, '리스트': 3934, '만날': 3935, '만큼도': 3936, '망설이다': 3937, '매트릭스': 3938, '메인': 3939, '몇개': 3940, '모야': 3941, '무리수': 3942, '물씬': 3943, '미국영화': 3944, '미리': 3945, '미술': 3946, '배드': 3947, '불법': 3948, '브래드피트': 3949, '블루': 3950, '빅뱅': 3951, '사귀다': 3952, '산드라': 3953, '삼다': 3954, '생존': 3955, '성경': 3956, '솜씨': 3957, '수애': 3958, '수정': 3959, '승화': 3960, '쌈': 3961, '악평': 3962, '알맹이': 3963, '언급': 3964, '얽히다': 3965, '엑': 3966, '엑소시스트': 3967, '여유': 3968, '예술가': 3969, '오페라': 3970, '온몸': 3971, '요구': 3972, '우울증': 3973, '의학': 3974, '이라고는': 3975, '일베충': 3976, '일요일': 3977, '임수정': 3978, '자유롭다': 3979, '잘살다': 3980, '전의': 3981, '전이': 3982, '전적': 3983, '접함': 3984, '정재영': 3985, '제법': 3986, '제시': 3987, '조조': 3988, '주상욱': 3989, '지적': 3990, '찍히다': 3991, '찜찜하다': 3992, '창작': 3993, '초능력': 3994, '최하': 3995, '충무로': 3996, '커피': 3997, '케이트': 3998, '큐브': 3999, '크로우': 4000, '파일': 4001, '플': 4002, '한글': 4003, '한두': 4004, '허니': 4005, '호소': 4006, '활': 4007, '후속': 4008, '훼손': 4009, '휴머니즘': 4010, 'ㅋㅋㅋㅋㅋㅋㅋㅋㅋㅋㅋㅋㅋㅋㅋ': 4011, '가난하다': 4012, '가문': 4013, '가치관': 4014, '갑작스럽다': 4015, '개미': 4016, '거만': 4017, '게리': 4018, '경쾌하다': 4019, '계획': 4020, '고래': 4021, '고소영': 4022, '관계자': 4023, '구원': 4024, '귀요미': 4025, '그러하다': 4026, '근본': 4027, '급전': 4028, '기록': 4029, '김하늘': 4030, '나마': 4031, '나약하다': 4032, '나열': 4033, '노말': 4034, '눈뜨다': 4035, '다문화': 4036, '닫다': 4037, '대략': 4038, '대리': 4039, '대비': 4040, '도박': 4041, '독': 4042, '로마': 4043, '르': 4044, '마루': 4045, '마을': 4046, '마초': 4047, '멋대로': 4048, '모성애': 4049, '몬스터': 4050, '몰락': 4051, '묘미': 4052, '무려': 4053, '문성우': 4054, '미군': 4055, '미만': 4056, '민주주의': 4057, '바이러스': 4058, '밴드': 4059, '부재': 4060, '북': 4061, '불후': 4062, '비정상': 4063, '빚': 4064, '삼가다': 4065, '상의': 4066, '샤를': 4067, '선배': 4068, '설레임': 4069, '셋': 4070, '소박하다': 4071, '속도': 4072, '수술': 4073, '슬래셔': 4074, '습작': 4075, '시리다': 4076, '시보': 4077, '시스템': 4078, '쓰레기통': 4079, '아시아': 4080, '아역배우': 4081, '아이리스': 4082, '악의': 4083, '알차다': 4084, '양조위': 4085, '어서': 4086, '어지간하다': 4087, '여동생': 4088, '연주': 4089, '예매': 4090, '오랜만': 4091, '오타쿠': 4092, '옹박': 4093, '옹호': 4094, '왕가위': 4095, '우월': 4096, '워싱턴': 4097, '위원': 4098, '유명': 4099, '유작': 4100, '육체': 4101, '으로나': 4102, '인종': 4103, '일베': 4104, '자랑스럽다': 4105, '자아내다': 4106, '자제': 4107, '잘쓰다': 4108, '잣': 4109, '재탕': 4110, '잭슨': 4111, '전국': 4112, '전환': 4113, '절실': 4114, '정사': 4115, '정신건강': 4116, '정신차리다': 4117, '제의': 4118, '조금씩': 4119, '조재현': 4120, '존내': 4121, '존중': 4122, '종일': 4123, '주먹': 4124, '줄알': 4125, '중국인': 4126, '직전': 4127, '집어넣다': 4128, '쫒다': 4129, '찬란': 4130, '총알': 4131, '치명': 4132, '코스프레': 4133, '콤비': 4134, '쿠': 4135, '클루니': 4136, '클린트': 4137, '타짜': 4138, '토르': 4139, '패턴': 4140, '하차': 4141, '함정': 4142, '해안가': 4143, '핸드폰': 4144, '행크스': 4145, '호강': 4146, '호텔': 4147, '홍금보': 4148, '회장': 4149, 'ㄱㄱ': 4150, 'ㅗ': 4151, '간절하다': 4152, '감싸다': 4153, '갑갑하다': 4154, '개독': 4155, '건드리다': 4156, '격전': 4157, '경기': 4158, '고질라': 4159, '금요일': 4160, '김남길': 4161, '끊임없다': 4162, '낙': 4163, '닉': 4164, '대만': 4165, '뎁': 4166, '도망': 4167, '독백': 4168, '두근두근': 4169, '라곤': 4170, '로그': 4171, '마땅하다': 4172, '마인드': 4173, '만듬': 4174, '맛깔나다': 4175, '뮤직': 4176, '미묘하다': 4177, '미인': 4178, '발레': 4179, '밧다': 4180, '버금': 4181, '벽': 4182, '보물': 4183, '보석': 4184, '부담스럽다': 4185, '분석': 4186, '불리다': 4187, '브로디': 4188, '블': 4189, '뽕짝': 4190, '뿌리': 4191, '사의': 4192, '서서히': 4193, '숲': 4194, '시사': 4195, '신비롭다': 4196, '실컷': 4197, '싹': 4198, '아날로그': 4199, '아리다': 4200, '아무래도': 4201, '안녕': 4202, '안질리다': 4203, '어마어마하다': 4204, '에게서': 4205, '여야': 4206, '여정': 4207, '연령': 4208, '와이': 4209, '외화': 4210, '용두사미': 4211, '우디': 4212, '우리네': 4213, '웨슬리': 4214, '유해진': 4215, '이브': 4216, '이상형': 4217, '이승기': 4218, '익다': 4219, '인디아나': 4220, '잉여': 4221, '자하': 4222, '재밋는': 4223, '저급': 4224, '저기': 4225, '조각': 4226, '조선족': 4227, '조악하다': 4228, '조인성': 4229, '주옥': 4230, '줄리엣': 4231, '즐': 4232, '증명': 4233, '지니다': 4234, '진솔하다': 4235, '질투': 4236, '찌푸리다': 4237, '충만': 4238, '취미': 4239, '친절하다': 4240, '침묵': 4241, '컨저링': 4242, '태': 4243, '털리다': 4244, '테론': 4245, '페이지': 4246, '피라냐': 4247, '한없이': 4248, '할배': 4249, '화평': 4250, '황비홍': 4251, '흐': 4252, '히스': 4253, '히트': 4254, 'ㄹ': 4255, 'ㅋㅋㅋㅋㅋㅋㅋㅋㅋㅋㅋㅋㅋㅋ': 4256, '가능': 4257, '가만히': 4258, '감당': 4259, '개잼': 4260, '거창하다': 4261, '공개': 4262, '구르다': 4263, '구해': 4264, '굿굿굿': 4265, '그룹': 4266, '기부': 4267, '김수로': 4268, '꺼리다': 4269, '꾸준하다': 4270, '낚였': 4271, '넋': 4272, '뉴': 4273, '다수': 4274, '다크': 4275, '다한': 4276, '대감': 4277, '대형': 4278, '도아': 4279, '두근거리다': 4280, '따윈': 4281, '러': 4282, '로드무비': 4283, '로렌스': 4284, '로보캅': 4285, '리들리': 4286, '맛보다': 4287, '망상': 4288, '매혹': 4289, '먹이다': 4290, '무능하다': 4291, '무니': 4292, '문학': 4293, '물어보다': 4294, '뭡': 4295, '미로': 4296, '반의': 4297, '발암': 4298, '발휘': 4299, '백미': 4300, '병사': 4301, '보스': 4302, '봣음': 4303, '부의': 4304, '브래드': 4305, '블록': 4306, '비롯': 4307, '뺨': 4308, '뼈': 4309, '사라': 4310, '상투': 4311, '서프라이즈': 4312, '선전': 4313, '세우다': 4314, '소방관': 4315, '수치': 4316, '스치다': 4317, '실존': 4318, '실종': 4319, '실체': 4320, '쌍욕': 4321, '아주아주': 4322, '약속': 4323, '어딨다': 4324, '어케': 4325, '여명': 4326, '여실히': 4327, '오리': 4328, '욕구': 4329, '원빈': 4330, '원주율': 4331, '유루': 4332, '윤계상': 4333, '으로가': 4334, '으아': 4335, '이선균': 4336, '이슈': 4337, '이지나': 4338, '이프': 4339, '인공': 4340, '인셉션': 4341, '작년': 4342, '작업': 4343, '잡지': 4344, '장쯔이': 4345, '장편': 4346, '재밋는데': 4347, '저녁': 4348, '저렴하다': 4349, '저주': 4350, '정당화': 4351, '정유미': 4352, '제도': 4353, '조아': 4354, '좌빨': 4355, '주원': 4356, '주의자': 4357, '주지훈': 4358, '준수': 4359, '증': 4360, '지금껏': 4361, '지하철': 4362, '직장': 4363, '진화': 4364, '질린다': 4365, '짐작': 4366, '짤': 4367, '쯧': 4368, '참신': 4369, '천하': 4370, '추잡하다': 4371, '치기': 4372, '콧물': 4373, '큐': 4374, '탕웨이': 4375, '투자자': 4376, '파고들다': 4377, '프레데터': 4378, '프레디': 4379, '하필': 4380, '한예슬': 4381, '해리': 4382, '허탈하다': 4383, '현대인': 4384, '형성': 4385, '혼': 4386, '확신': 4387, '황': 4388, '후의': 4389, '흡사하다': 4390, '희한하다': 4391, 'ㄴㄴ': 4392, '가시': 4393, '각인': 4394, '검다': 4395, '결제': 4396, '결합': 4397, '고요': 4398, '고현정': 4399, '곳곳': 4400, '공격': 4401, '관성': 4402, '괜찬': 4403, '괴수': 4404, '구라': 4405, '그러면': 4406, '기어': 4407, '깝': 4408, '껄': 4409, '꾼': 4410, '끝장': 4411, '나이트': 4412, '나인': 4413, '낯선': 4414, '농락': 4415, '높아지다': 4416, '뇌리': 4417, '다음주': 4418, '대도': 4419, '대책': 4420, '댓': 4421, '덕후': 4422, '데미무어': 4423, '듣보잡': 4424, '듯이': 4425, '딱좋다': 4426, '런닝타임': 4427, '레인': 4428, '루크': 4429, '리스': 4430, '리즈시절': 4431, '마련': 4432, '마마': 4433, '매년': 4434, '매회': 4435, '모드': 4436, '몰래': 4437, '무작정': 4438, '묵다': 4439, '물들다': 4440, '물리다': 4441, '므': 4442, '미개하다': 4443, '미루다': 4444, '미션': 4445, '변호사': 4446, '볼땐': 4447, '부수': 4448, '불친절하다': 4449, '비행': 4450, '삘': 4451, '사랑과전쟁': 4452, '사막': 4453, '살아오다': 4454, '서민': 4455, '서방': 4456, '서우': 4457, '슈렉': 4458, '스캔들': 4459, '시청율': 4460, '신기': 4461, '신은경': 4462, '신파극': 4463, '쓰나미': 4464, '아르': 4465, '어둠': 4466, '어메이징': 4467, '언론': 4468, '엄태웅': 4469, '에리': 4470, '엑스트라': 4471, '여군': 4472, '역사왜곡': 4473, '영감': 4474, '예수님': 4475, '예의': 4476, '오류': 4477, '오싹하다': 4478, '완': 4479, '요란하다': 4480, '유도': 4481, '으으': 4482, '음모': 4483, '의존': 4484, '이러하다': 4485, '이민정': 4486, '이분': 4487, '이성재': 4488, '이순신': 4489, '이종석': 4490, '자존심': 4491, '작정': 4492, '잔혹': 4493, '잠수함': 4494, '재기': 4495, '재회': 4496, '정돈': 4497, '제인': 4498, '조커': 4499, '주신': 4500, '주장': 4501, '중이': 4502, '즉': 4503, '지능': 4504, '지진희': 4505, '창조': 4506, '최대한': 4507, '치밀다': 4508, '카타르': 4509, '켄': 4510, '코스트': 4511, '퀄': 4512, '크리스토퍼': 4513, '타이밍': 4514, '턱': 4515, '통수': 4516, '퍼': 4517, '퍼즐': 4518, '평정': 4519, '플레이': 4520, '한니발': 4521, '한쪽': 4522, '허무맹랑': 4523, '호러물': 4524, '호러영화': 4525, '호평': 4526, '효민': 4527, '훈련': 4528, '가왜': 4529, '간의': 4530, '거뭐': 4531, '게왜': 4532, '고루': 4533, '관객수': 4534, '그딴': 4535, '그만두다': 4536, '극한': 4537, '글구': 4538, '긍정': 4539, '기막히다': 4540, '기묘하다': 4541, '김창완': 4542, '깨지다': 4543, '꼴다': 4544, '나뉘다': 4545, '난방': 4546, '내주다': 4547, '노무현': 4548, '닦다': 4549, '단계': 4550, '대변': 4551, '데스': 4552, '도덕': 4553, '독창': 4554, '동아리': 4555, '되새기다': 4556, '따라서': 4557, '때메': 4558, '떄문': 4559, '레이싱': 4560, '리브': 4561, '리오': 4562, '마구': 4563, '망신': 4564, '맡기다': 4565, '모니터': 4566, '모델': 4567, '몸부림': 4568, '미남': 4569, '버젼': 4570, '보호': 4571, '볼껄': 4572, '부대': 4573, '비난': 4574, '비노': 4575, '비슷': 4576, '사다코': 4577, '사소하다': 4578, '성질': 4579, '성향': 4580, '세라': 4581, '소수': 4582, '소외': 4583, '소유': 4584, '수다': 4585, '스칼렛': 4586, '스톤': 4587, '스티브': 4588, '승': 4589, '시망': 4590, '시킴': 4591, '신동엽': 4592, '신들리다': 4593, '신뢰': 4594, '심해': 4595, '쌓이다': 4596, '쏙': 4597, '쓰리다': 4598, '아마도': 4599, '아자': 4600, '암시': 4601, '얄팍하다': 4602, '어깨': 4603, '어물': 4604, '어요': 4605, '어울림': 4606, '어유': 4607, '어찌나': 4608, '에너지': 4609, '엠비씨': 4610, '여우': 4611, '엮': 4612, '연장': 4613, '오점': 4614, '와나': 4615, '와이어': 4616, '왕따': 4617, '욤': 4618, '우마': 4619, '윤리': 4620, '은은하다': 4621, '의아': 4622, '이동욱': 4623, '이라곤': 4624, '이뿌다': 4625, '인증': 4626, '일대기': 4627, '일어나서': 4628, '자가': 4629, '자마자': 4630, '자비': 4631, '장사': 4632, '적도': 4633, '전세계': 4634, '종말': 4635, '종이': 4636, '주어지다': 4637, '중구': 4638, '지속': 4639, '진구': 4640, '진자': 4641, '쪽바리': 4642, '참내': 4643, '처참하다': 4644, '최저': 4645, '치열하다': 4646, '치우다': 4647, '쾌감': 4648, '클리셰': 4649, '테스트': 4650, '토마스': 4651, '토비': 4652, '통찰': 4653, '튀어나오다': 4654, '판치다': 4655, '팬티': 4656, '폭': 4657, '표본': 4658, '필수': 4659, '한몫': 4660, '한시': 4661, '한장': 4662, '해달라다': 4663, '해학': 4664, '허전하다': 4665, '헌': 4666, '헤헤': 4667, '현빈': 4668, '현장': 4669, '혼나다': 4670, '화장': 4671, '후유증': 4672, '후지': 4673, '가가': 4674, '갇히다': 4675, '거중': 4676, '건담': 4677, '건물': 4678, '걸레': 4679, '게로': 4680, '고집': 4681, '공효진': 4682, '교감': 4683, '구매': 4684, '국뽕': 4685, '권리': 4686, '규': 4687, '그레이': 4688, '극도': 4689, '근거': 4690, '금방': 4691, '기차': 4692, '김규리': 4693, '김래원': 4694, '까먹다': 4695, '까지의': 4696, '꽁': 4697, '꽉': 4698, '나아가다': 4699, '나오니': 4700, '난이': 4701, '날림': 4702, '남겨지다': 4703, '남한': 4704, '내공': 4705, '넓다': 4706, '노리다': 4707, '농구': 4708, '눈부시다': 4709, '늘어놓다': 4710, '다듬다': 4711, '단조롭다': 4712, '대학교': 4713, '댓글알바': 4714, '동기': 4715, '동원': 4716, '동호': 4717, '된장녀': 4718, '뒤통수': 4719, '때론': 4720, '또다시': 4721, '똥폼': 4722, '뜸': 4723, '라고는': 4724, '라마': 4725, '런닝': 4726, '만으로는': 4727, '말리': 4728, '맑다': 4729, '멍청이': 4730, '멘붕': 4731, '명량': 4732, '명언': 4733, '무장': 4734, '미니': 4735, '미션임파서블': 4736, '미숙': 4737, '박신혜': 4738, '반지의제왕': 4739, '방이': 4740, '배두나': 4741, '뱀': 4742, '변명': 4743, '별반': 4744, '봉태규': 4745, '뵈다': 4746, '부류': 4747, '부리': 4748, '부실': 4749, '부조리': 4750, '비명': 4751, '빅': 4752, '사례': 4753, '사연': 4754, '살해': 4755, '서인국': 4756, '서툴다': 4757, '솔로': 4758, '수업': 4759, '숭고하다': 4760, '슈': 4761, '스무': 4762, '시르다': 4763, '써주다': 4764, '아웃': 4765, '아하': 4766, '악몽': 4767, '안목': 4768, '앓이': 4769, '앜': 4770, '양산': 4771, '어쨋': 4772, '어필': 4773, '에디': 4774, '에서부터': 4775, '엑소': 4776, '여진구': 4777, '영화배우': 4778, '오늘날': 4779, '외다': 4780, '욕설': 4781, '위선': 4782, '위원회': 4783, '유오성': 4784, '유행어': 4785, '이나영': 4786, '이내': 4787, '이념': 4788, '이틀': 4789, '인내': 4790, '인피니트': 4791, '일본애니': 4792, '일일': 4793, '자빠지다': 4794, '자시다': 4795, '작살': 4796, '잘맞다': 4797, '장백지': 4798, '적응': 4799, '전투기': 4800, '정성': 4801, '제공': 4802, '제자': 4803, '조롱': 4804, '종합': 4805, '좆': 4806, '좌절': 4807, '좌파': 4808, '주민': 4809, '주제곡': 4810, '주체': 4811, '중요성': 4812, '지상파': 4813, '지워지다': 4814, '진국': 4815, '진실되다': 4816, '질주': 4817, '찰리': 4818, '천녀유혼': 4819, '초콜릿': 4820, '출연료': 4821, '치가': 4822, '케이온': 4823, '크리스틴': 4824, '털다': 4825, '테이크': 4826, '통한': 4827, '트와일라잇': 4828, '특성': 4829, '판타지영화': 4830, '평타': 4831, '풍기다': 4832, '피터': 4833, '하루하루': 4834, '하여간': 4835, '해주': 4836, '허각': 4837, '허준': 4838, '헤어': 4839, '현상': 4840, '홍진호': 4841, '황홀하다': 4842, '후보': 4843, '흘러나오다': 4844, '히치콕': 4845, '힐': 4846, 'ㅅㅅ': 4847, 'ㅈㄹ': 4848, 'ㅡㅜ': 4849, '가보': 4850, '가상하다': 4851, '가위': 4852, '각성': 4853, '거구': 4854, '거여': 4855, '거참': 4856, '검': 4857, '경쟁': 4858, '경제': 4859, '고만': 4860, '궁금증': 4861, '까메오': 4862, '껍데기': 4863, '꽂히다': 4864, '꾸밈': 4865, '끊어지다': 4866, '나대다': 4867, '나소': 4868, '내겐': 4869, '내지': 4870, '녹음': 4871, '눈물샘': 4872, '눈살': 4873, '늘어나다': 4874, '닌자': 4875, '다짐': 4876, '달려가다': 4877, '닭': 4878, '대구': 4879, '대면': 4880, '더러': 4881, '데스노트': 4882, '독도': 4883, '돌이': 4884, '동의': 4885, '되돌아보다': 4886, '둘리': 4887, '따오다': 4888, '뚫다': 4889, '라며': 4890, '랍시고': 4891, '로나': 4892, '로맨스영화': 4893, '린치': 4894, '마주': 4895, '마피아': 4896, '매드': 4897, '매치': 4898, '매튜': 4899, '먹음': 4900, '멜깁슨': 4901, '며칠': 4902, '모자라': 4903, '못지않다': 4904, '무책임하다': 4905, '물질': 4906, '박물관': 4907, '박일': 4908, '반면': 4909, '발생': 4910, '발차기': 4911, '벌레': 4912, '벌이다': 4913, '보더': 4914, '본받다': 4915, '불가능': 4916, '불러일으키다': 4917, '불멸': 4918, '붙잡다': 4919, '브라이언': 4920, '브리': 4921, '빈틈': 4922, '뽀로로': 4923, '사골': 4924, '사납다': 4925, '사정': 4926, '사춘기': 4927, '서사시': 4928, '설치다': 4929, '소린': 4930, '숀펜': 4931, '수습': 4932, '스며들다': 4933, '스트립': 4934, '시위': 4935, '시한': 4936, '신비하다': 4937, '실소': 4938, '싸': 4939, '쌤': 4940, '아키라': 4941, '안개': 4942, '안경': 4943, '안녕하다': 4944, '안듬': 4945, '안젤리나': 4946, '안주': 4947, '암살': 4948, '약자': 4949, '얕다': 4950, '어려움': 4951, '어째서': 4952, '엄': 4953, '에이리언': 4954, '엥': 4955, '영점': 4956, '영호': 4957, '영화음악': 4958, '예정': 4959, '외우다': 4960, '요가': 4961, '웨이': 4962, '위치': 4963, '윌스미스': 4964, '유명배우': 4965, '유승호': 4966, '이민호': 4967, '이자벨': 4968, '이치': 4969, '인간미': 4970, '인디언': 4971, '일만': 4972, '임용': 4973, '자료': 4974, '자매': 4975, '장만옥': 4976, '장미': 4977, '장인': 4978, '재판': 4979, '저건': 4980, '전통': 4981, '정글': 4982, '정답': 4983, '정신없이': 4984, '정적': 4985, '정치인': 4986, '제적': 4987, '조디': 4988, '종종': 4989, '죄책감': 4990, '죽여주다': 4991, '중때': 4992, '지껄이다': 4993, '지라': 4994, '진부': 4995, '진의': 4996, '진지': 4997, '진출': 4998, '질감': 4999, '채민서': 5000, '채플린': 5001, '쳐다보다': 5002, '초라하다': 5003, '최지우': 5004, '최진실': 5005, '치닫다': 5006, '칠이': 5007, '카드': 5008, '캐서린': 5009, '콘서트': 5010, '쿠바': 5011, '크리': 5012, '큰일': 5013, '타입': 5014, '탕': 5015, '택': 5016, '토이스토리': 5017, '틀어놓다': 5018, '파트너': 5019, '패기': 5020, '패스': 5021, '편지': 5022, '평범': 5023, '프로젝트': 5024, '피어스': 5025, '피우다': 5026, '피터팬': 5027, '피하': 5028, '학대': 5029, '해대': 5030, '해설': 5031, '해운대': 5032, '행운': 5033, '허영': 5034, '후배': 5035, '희극': 5036, 'ㅜㅜㅜㅜ': 5037, '가도': 5038, '가시다': 5039, '가운데': 5040, '개봉관': 5041, '건강하다': 5042, '결과물': 5043, '고갈': 5044, '고급': 5045, '고릴라': 5046, '고정': 5047, '고찰': 5048, '고통스럽다': 5049, '고향': 5050, '과감': 5051, '괴': 5052, '구림': 5053, '구입': 5054, '구지성': 5055, '귀하다': 5056, '그로테스크': 5057, '기반': 5058, '기운': 5059, '기절': 5060, '긴급': 5061, '긴박하다': 5062, '김승우': 5063, '깜찍하다': 5064, '깨우치다': 5065, '껀': 5066, '꼴리다': 5067, '꾸역꾸역': 5068, '나른하다': 5069, '나하': 5070, '난감하다': 5071, '노다메': 5072, '노아': 5073, '놀람': 5074, '느끼하다': 5075, '달인': 5076, '닳다': 5077, '당한': 5078, '더더': 5079, '도망치다': 5080, '돌아다니다': 5081, '돌이키다': 5082, '동성애자': 5083, '된장': 5084, '두뇌': 5085, '두서': 5086, '드라마틱하다': 5087, '리언': 5088, '마니아': 5089, '마모루': 5090, '막무가내': 5091, '머물다': 5092, '멸망': 5093, '명예': 5094, '모건': 5095, '모자이크': 5096, '묶다': 5097, '문근영': 5098, '문제점': 5099, '뮤': 5100, '미성년': 5101, '미우다': 5102, '민간인': 5103, '박살': 5104, '박자': 5105, '박정희': 5106, '받치다': 5107, '배슬기': 5108, '보드': 5109, '보상': 5110, '보석같다': 5111, '봣다': 5112, '봣던': 5113, '부영': 5114, '부진하다': 5115, '붕': 5116, '비유': 5117, '사로자다': 5118, '사르다': 5119, '사형': 5120, '생일': 5121, '샤말란': 5122, '서기': 5123, '선입견': 5124, '성시경': 5125, '성장기': 5126, '쏠쏠하다': 5127, '아담샌들러': 5128, '아메리칸': 5129, '악인': 5130, '안고': 5131, '안정': 5132, '알고싶다': 5133, '액': 5134, '앤딩': 5135, '어줍다': 5136, '얼른': 5137, '엇어': 5138, '에혀': 5139, '여태껏': 5140, '연결고리': 5141, '오기': 5142, '오우': 5143, '옴니버스': 5144, '외로': 5145, '용하다': 5146, '욬': 5147, '우베': 5148, '원제': 5149, '원한': 5150, '월화': 5151, '웨스턴': 5152, '유승준': 5153, '이모': 5154, '이미연': 5155, '이정진': 5156, '이준': 5157, '일본어': 5158, '장담': 5159, '전범': 5160, '점임': 5161, '제레미': 5162, '제이': 5163, '조치': 5164, '존잘': 5165, '좌좀': 5166, '주목': 5167, '주시': 5168, '주식': 5169, '지망': 5170, '지못미': 5171, '지성': 5172, '진상': 5173, '쬐다': 5174, '책임감': 5175, '천박하다': 5176, '천천히': 5177, '청': 5178, '초등': 5179, '초심': 5180, '충분': 5181, '충족': 5182, '취하': 5183, '치르다': 5184, '치중': 5185, '케로로': 5186, '키스신': 5187, '타락하다': 5188, '탈락': 5189, '토요명화': 5190, '튀기다': 5191, '파탄': 5192, '파티': 5193, '파헤치다': 5194, '퍼펙트': 5195, '페이': 5196, '평이하다': 5197, '폭소': 5198, '폭파': 5199, '푸른': 5200, '풀이': 5201, '피로': 5202, '한지민': 5203, '핵심': 5204, '호프': 5205, '화신': 5206, '화제': 5207, '환': 5208, '황금': 5209, '회복': 5210, '획기': 5211, '흥겹다': 5212, 'ㅆ': 5213, '감점': 5214, '갱': 5215, '거대': 5216, '걸왜': 5217, '계단': 5218, '고개': 5219, '고고': 5220, '고려': 5221, '공각기동대': 5222, '공리': 5223, '공상': 5224, '과언': 5225, '과제': 5226, '교차': 5227, '교통사고': 5228, '구지': 5229, '궁금': 5230, '그런대로': 5231, '그림자': 5232, '근육': 5233, '기계': 5234, '기념': 5235, '기업': 5236, '김보성': 5237, '까지나': 5238, '나비': 5239, '나아지다': 5240, '나열하다': 5241, '낚였어': 5242, '난생': 5243, '낭': 5244, '년생': 5245, '눈감다': 5246, '니미': 5247, '다케시': 5248, '더러워지다': 5249, '더보': 5250, '덜다': 5251, '덤덤하다': 5252, '덧': 5253, '데이트': 5254, '돌림': 5255, '돕다': 5256, '동경': 5257, '동일하다': 5258, '됫': 5259, '두루': 5260, '디게': 5261, '떤다': 5262, '띄우다': 5263, '라이더': 5264, '라이토': 5265, '련': 5266, '로고': 5267, '리그': 5268, '리더': 5269, '리플': 5270, '막스': 5271, '만인': 5272, '맑은': 5273, '맙소사': 5274, '멀미': 5275, '메리': 5276, '명절': 5277, '모니카': 5278, '모자': 5279, '무명': 5280, '무모하다': 5281, '무죄': 5282, '문명': 5283, '물고기': 5284, '미스터': 5285, '밍밍': 5286, '바램': 5287, '박진영': 5288, '박현지': 5289, '범죄영화': 5290, '베트남': 5291, '본드': 5292, '볼바': 5293, '부각': 5294, '불우': 5295, '붕괴': 5296, '비둘기': 5297, '사서': 5298, '생략': 5299, '서른': 5300, '서세원': 5301, '소녀시대': 5302, '속상하다': 5303, '송중기': 5304, '수사': 5305, '슈스케': 5306, '스탤론': 5307, '스토': 5308, '슬레': 5309, '슬슬': 5310, '시네마': 5311, '신앙': 5312, '십분': 5313, '아랫': 5314, '안남다': 5315, '알리': 5316, '알아주다': 5317, '앵': 5318, '앵글': 5319, '어긋나다': 5320, '어벤져스': 5321, '어보': 5322, '억압': 5323, '엇음': 5324, '에야': 5325, '여사': 5326, '여자도': 5327, '영화니': 5328, '오그': 5329, '오디션': 5330, '오래오래': 5331, '올려놓다': 5332, '올바르다': 5333, '욧': 5334, '우승': 5335, '위성': 5336, '위안부': 5337, '위인': 5338, '유산': 5339, '유역비': 5340, '유준상': 5341, '으로의': 5342, '으악': 5343, '이라기': 5344, '이리저리': 5345, '이수근': 5346, '이입': 5347, '이제껏': 5348, '인성': 5349, '인위': 5350, '인칭': 5351, '일인': 5352, '자세': 5353, '자신감': 5354, '자전거': 5355, '자질': 5356, '잘리다': 5357, '장동민': 5358, '장수': 5359, '저능': 5360, '저딴': 5361, '전결': 5362, '정당하다': 5363, '정상인': 5364, '제한': 5365, '조한선': 5366, '존예': 5367, '좁다': 5368, '종북': 5369, '주님': 5370, '중세': 5371, '줫': 5372, '쨩': 5373, '찔리다': 5374, '차인표': 5375, '첩보물': 5376, '청춘영화': 5377, '축': 5378, '축하': 5379, '출동': 5380, '침몰': 5381, '컬': 5382, '타임머신': 5383, '태권도': 5384, '토미': 5385, '통일': 5386, '통제': 5387, '통틀어': 5388, '판타스틱': 5389, '팔마': 5390, '패닝': 5391, '펜': 5392, '피어': 5393, '핀': 5394, '필립': 5395, '핑계': 5396, '하든': 5397, '하리': 5398, '하여튼': 5399, '학': 5400, '한국말': 5401, '한때': 5402, '한일': 5403, '합리화': 5404, '헛소리': 5405, '헤': 5406, '현란하다': 5407, '화재': 5408, '환희': 5409, '휘': 5410, 'ㅅㄱ': 5411, 'ㅇㅅㅇ': 5412, 'ㅠㅠㅠㅠㅠㅠ': 5413, '가르침': 5414, '감우성': 5415, '강예원': 5416, '같잖다': 5417, '개떡같다': 5418, '거도': 5419, '거북': 5420, '걸음': 5421, '게다': 5422, '결투': 5423, '경력': 5424, '고기': 5425, '고난': 5426, '고본': 5427, '고질': 5428, '공기': 5429, '관찰': 5430, '광해': 5431, '괴롭히다': 5432, '구식': 5433, '국가대표': 5434, '군데': 5435, '권선': 5436, '그날': 5437, '그릇': 5438, '그이': 5439, '긁다': 5440, '금발': 5441, '기기': 5442, '기원': 5443, '김민희': 5444, '김옥빈': 5445, '김윤석': 5446, '깃': 5447, '깔깔': 5448, '꼬박꼬박': 5449, '끓이다': 5450, '나탈리': 5451, '날개': 5452, '낯설다': 5453, '넼': 5454, '논란': 5455, '놨': 5456, '느': 5457, '니모': 5458, '다분하다': 5459, '다투다': 5460, '닥터': 5461, '단말': 5462, '대기업': 5463, '대립': 5464, '대장': 5465, '대처': 5466, '데드': 5467, '데려가다': 5468, '도감': 5469, '드류': 5470, '뚜렷하다': 5471, '라기보다는': 5472, '라이브': 5473, '러시': 5474, '레고': 5475, '로라': 5476, '론데': 5477, '롭': 5478, '룩': 5479, '림': 5480, '마이크': 5481, '만능': 5482, '맥그리거': 5483, '메릴': 5484, '멘스': 5485, '모리': 5486, '모처럼': 5487, '무고': 5488, '무리하다': 5489, '무심하다': 5490, '무표정': 5491, '뭉클': 5492, '뭘말': 5493, '미흡하다': 5494, '민영화': 5495, '박영화': 5496, '박용우': 5497, '박유천': 5498, '변질': 5499, '보고또보고': 5500, '보수': 5501, '보영': 5502, '부러': 5503, '분류': 5504, '불교': 5505, '불안': 5506, '브금': 5507, '블러드': 5508, '블루레이': 5509, '비리': 5510, '비트': 5511, '사냥': 5512, '사랑받다': 5513, '사업': 5514, '사이코패스': 5515, '삼국지': 5516, '삼성': 5517, '삽질': 5518, '상속': 5519, '상승': 5520, '서글프다': 5521, '세력': 5522, '세명': 5523, '세월호': 5524, '소련': 5525, '소원': 5526, '손오공': 5527, '숀': 5528, '순정': 5529, '술함': 5530, '숨쉬다': 5531, '쉣': 5532, '스님': 5533, '스크림': 5534, '스타뎀': 5535, '스틱': 5536, '슴가': 5537, '습격': 5538, '시바': 5539, '실천': 5540, '심은하': 5541, '싸가지': 5542, '싸인': 5543, '쌍둥이': 5544, '쓸모없다': 5545, '아리': 5546, '아유': 5547, '아이디': 5548, '앗': 5549, '앗다': 5550, '애국': 5551, '액션연기': 5552, '야쿠자': 5553, '얼음': 5554, '에게만': 5555, '에어': 5556, '여고괴담': 5557, '연민': 5558, '연성': 5559, '연출자': 5560, '영하': 5561, '영화광': 5562, '영화평론가': 5563, '오드리': 5564, '오줌': 5565, '와인': 5566, '요강': 5567, '요원': 5568, '용의': 5569, '운지': 5570, '월드컵': 5571, '위협': 5572, '유머러스하다': 5573, '유이': 5574, '유희': 5575, '이겠다': 5576, '이남': 5577, '이대로': 5578, '이래도': 5579, '이문식': 5580, '이상우': 5581, '이스라엘': 5582, '이야말로': 5583, '이익': 5584, '이정현': 5585, '인내력': 5586, '인용': 5587, '일기': 5588, '잔인': 5589, '잡아먹다': 5590, '장용': 5591, '저격': 5592, '절용': 5593, '정권': 5594, '정책': 5595, '제대': 5596, '제멋대로': 5597, '조기': 5598, '조니': 5599, '조선시대': 5600, '조여정': 5601, '죄악': 5602, '주문': 5603, '주저': 5604, '주진모': 5605, '지연': 5606, '지은': 5607, '지존': 5608, '지하': 5609, '직장인': 5610, '진도': 5611, '진주': 5612, '짜증스럽다': 5613, '차기작': 5614, '참혹하다': 5615, '초적': 5616, '초한지': 5617, '최강희': 5618, '치매': 5619, '치킨': 5620, '친일': 5621, '컨데': 5622, '클레이': 5623, '타이타닉': 5624, '타잔': 5625, '탐욕': 5626, '탱고': 5627, '테러리스트': 5628, '테이프': 5629, '통쾌': 5630, '투쟁': 5631, '파멸': 5632, '파이': 5633, '퍼포먼스': 5634, '평작': 5635, '폐해': 5636, '포근하다': 5637, '폭탄': 5638, '프리퀄': 5639, '피노키오': 5640, '하나경': 5641, '하여금': 5642, '하우스': 5643, '해드리다': 5644, '햇던': 5645, '헌신': 5646, '헬기': 5647, '형태': 5648, '혼합': 5649, '홈': 5650, '화이': 5651, '환영': 5652, '황제': 5653, '훌륭': 5654, '휴잭맨': 5655, '흐흐': 5656, 'ㅁㅊ': 5657, 'ㅋㅋㅋㅋㅋㅋㅋㅋㅋㅋㅋㅋㅋㅋㅋㅋ': 5658, '강소라': 5659, '개방': 5660, '개척': 5661, '갠차다': 5662, '건강': 5663, '건너': 5664, '건달': 5665, '겄': 5666, '결혼식': 5667, '경지': 5668, '고마': 5669, '고스트': 5670, '공익': 5671, '공장': 5672, '과자': 5673, '괴기': 5674, '괴수영화': 5675, '굿바이': 5676, '기네': 5677, '긴장도': 5678, '길들이다': 5679, '김대희': 5680, '김정은': 5681, '꺄': 5682, '꼬집다': 5683, '꼽으라': 5684, '나기': 5685, '나오미': 5686, '낚임': 5687, '남다르다': 5688, '남아도': 5689, '남우': 5690, '냉소': 5691, '넘어지다': 5692, '놀': 5693, '놔두다': 5694, '눈앞': 5695, '늑대인간': 5696, '다다': 5697, '다지': 5698, '닥치다': 5699, '답습': 5700, '당대': 5701, '댄서': 5702, '도가니': 5703, '도록': 5704, '돌아서다': 5705, '동양인': 5706, '동정': 5707, '드릅': 5708, '드릴': 5709, '디비디': 5710, '딸아이': 5711, '때로는': 5712, '라라': 5713, '라이즈': 5714, '라이트': 5715, '래서': 5716, '런': 5717, '레즈비언': 5718, '로부터': 5719, '로안': 5720, '록': 5721, '류덕환': 5722, '류승룡': 5723, '리부트': 5724, '마동석': 5725, '마법사': 5726, '마셈': 5727, '마스크': 5728, '마스터': 5729, '만치': 5730, '말년': 5731, '맘대로': 5732, '맞먹다': 5733, '맥주': 5734, '머리카락': 5735, '메이저': 5736, '멕': 5737, '무한도전': 5738, '뮤비': 5739, '밋게봣': 5740, '밋음': 5741, '바람나다': 5742, '박스오피스': 5743, '반점': 5744, '방울': 5745, '배제': 5746, '뱉다': 5747, '범벅': 5748, '베를린': 5749, '베토벤': 5750, '보너스': 5751, '보삼': 5752, '복귀': 5753, '복싱': 5754, '부각시키다': 5755, '분간': 5756, '분전': 5757, '불꽃': 5758, '불명': 5759, '불행': 5760, '브라질': 5761, '비급': 5762, '비약': 5763, '비용': 5764, '비치다': 5765, '빠져나오다': 5766, '빼앗기다': 5767, '사나': 5768, '사전': 5769, '사토시': 5770, '사하나': 5771, '산업': 5772, '삽입': 5773, '상사': 5774, '상자': 5775, '서바이벌': 5776, '성동일': 5777, '세금': 5778, '세심': 5779, '세지': 5780, '소가': 5781, '손잡다': 5782, '수년': 5783, '수단': 5784, '스케': 5785, '스토리텔링': 5786, '스토커': 5787, '시간여행': 5788, '시계': 5789, '시퀀스': 5790, '식당': 5791, '실속': 5792, '심금': 5793, '심심': 5794, '심판': 5795, '싸이': 5796, '쌍벽': 5797, '아가씨': 5798, '아따': 5799, '아트': 5800, '아포칼립토': 5801, '안중근': 5802, '안티': 5803, '알렉스': 5804, '알맞다': 5805, '압축': 5806, '어리석다': 5807, '엠씨': 5808, '여고생': 5809, '연대기': 5810, '예상외': 5811, '오가다': 5812, '오덕': 5813, '오묘하다': 5814, '오열': 5815, '오죽하다': 5816, '오토바이': 5817, '완결': 5818, '우승하다': 5819, '우주전쟁': 5820, '움직임': 5821, '워쇼스키': 5822, '위험': 5823, '윌리엄스': 5824, '유사하다': 5825, '유코': 5826, '유태인': 5827, '윤시윤': 5828, '이기심': 5829, '이롭다': 5830, '이슬람': 5831, '이이': 5832, '이중': 5833, '이진': 5834, '이해해': 5835, '인간성': 5836, '인정받다': 5837, '입체': 5838, '자국': 5839, '자칫': 5840, '잘나오다': 5841, '장기': 5842, '장비': 5843, '장엄하다': 5844, '장진영': 5845, '장창': 5846, '재벌': 5847, '잼남': 5848, '저학년': 5849, '전화하다': 5850, '제국': 5851, '조아하다': 5852, '조장': 5853, '죠스': 5854, '주변인': 5855, '주어': 5856, '줄라': 5857, '중견': 5858, '즘': 5859, '지게': 5860, '지리': 5861, '지스토리': 5862, '진가': 5863, '징악': 5864, '짝짝': 5865, '짱깨': 5866, '쩔어요': 5867, '책임지다': 5868, '추적': 5869, '취지': 5870, '치도': 5871, '치우치다': 5872, '칙칙하다': 5873, '친일파': 5874, '친척': 5875, '침대': 5876, '코너': 5877, '코넬': 5878, '쿵푸팬더': 5879, '클럽': 5880, '킹왕짱': 5881, '토리': 5882, '톱스타': 5883, '통속': 5884, '투모로우': 5885, '퉤': 5886, '파치노': 5887, '페미니즘': 5888, '평온하다': 5889, '폴라': 5890, '풋': 5891, '피고': 5892, '학예회': 5893, '한물가다': 5894, '한수': 5895, '핥다': 5896, '합격': 5897, '햇음': 5898, '허락': 5899, '허망': 5900, '혐': 5901, '협박': 5902, '호랑이': 5903, '홍경인': 5904, '회수': 5905, '훌쩍': 5906, '휼륭하다': 5907, '흑형': 5908, '흠뻑': 5909, '힘겹다': 5910, '힘없다': 5911, '갈수': 5912, '감독판': 5913, '갚다': 5914, '개구리': 5915, '개망작': 5916, '개봉일': 5917, '건전하다': 5918, '것임': 5919, '결': 5920, '결승전': 5921, '경상도': 5922, '고이': 5923, '공군': 5924, '과소': 5925, '관능': 5926, '관우': 5927, '궁극': 5928, '균형': 5929, '그리움': 5930, '글로리아': 5931, '기능': 5932, '김대중': 5933, '김민준': 5934, '김윤진': 5935, '김현주': 5936, '꼽는': 5937, '끓다': 5938, '끝없다': 5939, '낄낄': 5940, '나무라다': 5941, '나선': 5942, '날카롭다': 5943, '낡다': 5944, '낭패': 5945, '넘침': 5946, '다다르다': 5947, '다양성': 5948, '다임': 5949, '단막극': 5950, '단호': 5951, '담임': 5952, '당췌': 5953, '대니': 5954, '대륙': 5955, '대지': 5956, '대판': 5957, '댐': 5958, '동떨어지다': 5959, '동참': 5960, '둔갑': 5961, '드래곤': 5962, '딱딱하다': 5963, '떼': 5964, '뛰어다니다': 5965, '라기보단': 5966, '라운드': 5967, '람': 5968, '러브레터': 5969, '레이미': 5970, '레이스': 5971, '로이': 5972, '룰': 5973, '리얼리즘': 5974, '리치': 5975, '릴리': 5976, '마돈나': 5977, '만지다': 5978, '맛없다': 5979, '매료': 5980, '맥과이어': 5981, '멜로디': 5982, '면상': 5983, '명백하다': 5984, '모름': 5985, '모범': 5986, '목표': 5987, '문구': 5988, '문채원': 5989, '물결': 5990, '물어': 5991, '믹스': 5992, '바비': 5993, '발가락': 5994, '발랄': 5995, '발악': 5996, '방대하다': 5997, '방사': 5998, '배우진': 5999, '번만': 6000, '번하다': 6001, '베니': 6002, '보편': 6003, '봉준호': 6004, '부천': 6005, '부풀리다': 6006, '불신': 6007, '비꼬다': 6008, '뿐더러': 6009, '사가': 6010, '사신': 6011, '사오다': 6012, '사위': 6013, '사치': 6014, '삼촌': 6015, '상남자': 6016, '상한': 6017, '생명체': 6018, '샹': 6019, '성기': 6020, '성냥': 6021, '성폭행': 6022, '세븐': 6023, '소비': 6024, '소심하다': 6025, '송새벽': 6026, '송윤아': 6027, '수녀': 6028, '순이': 6029, '스카이': 6030, '스티': 6031, '스티븐시걸': 6032, '스틸': 6033, '스포츠영화': 6034, '승자': 6035, '신발': 6036, '십대': 6037, '싱크': 6038, '싸지르다': 6039, '썅': 6040, '아부': 6041, '아씨': 6042, '아야': 6043, '아야세': 6044, '아일랜드': 6045, '악플': 6046, '애환': 6047, '어게인': 6048, '어이없이': 6049, '에이미': 6050, '여럿': 6051, '여성부': 6052, '여학생': 6053, '연설': 6054, '엽': 6055, '영역': 6056, '오감': 6057, '오래간만': 6058, '오래도록': 6059, '오름': 6060, '오마쥬': 6061, '오만': 6062, '오버액션': 6063, '오정세': 6064, '오픈': 6065, '왕국': 6066, '우디앨런': 6067, '우울': 6068, '우웩': 6069, '원망': 6070, '원스': 6071, '웟': 6072, '유죄': 6073, '유투브': 6074, '유튜브': 6075, '육': 6076, '은유': 6077, '음모론': 6078, '읍니': 6079, '이경영': 6080, '이나마': 6081, '이동진': 6082, '이색': 6083, '이세': 6084, '이집트': 6085, '이하나': 6086, '익숙해지다': 6087, '인사': 6088, '인즈': 6089, '인크레더블': 6090, '일류': 6091, '일방': 6092, '일병': 6093, '일텐데': 6094, '임요환': 6095, '입력': 6096, '자라': 6097, '자칭': 6098, '잘해주다': 6099, '재생': 6100, '저걸': 6101, '저만': 6102, '전기영': 6103, '절친': 6104, '정무문': 6105, '정준호': 6106, '제국주의': 6107, '제리': 6108, '제주도': 6109, '조심하다': 6110, '조잡': 6111, '좌': 6112, '중점': 6113, '즌': 6114, '지니어스': 6115, '진실하다': 6116, '질적': 6117, '집어치우다': 6118, '징징대다': 6119, '짜장면': 6120, '짝사랑': 6121, '쩌러': 6122, '찌들다': 6123, '참패': 6124, '챔피언': 6125, '체인지': 6126, '최수종': 6127, '축복': 6128, '충돌': 6129, '콩가루': 6130, '크크': 6131, '클래스': 6132, '클로이': 6133, '키이라': 6134, '키키': 6135, '킬빌': 6136, '탄탄': 6137, '털': 6138, '토요일': 6139, '퇴보하다': 6140, '특급': 6141, '특색': 6142, '티라노': 6143, '파이널': 6144, '패륜': 6145, '팩트': 6146, '퍼지다': 6147, '폐': 6148, '프랭크': 6149, '핀처': 6150, '하녀': 6151, '하모니': 6152, '하울': 6153, '한류': 6154, '한반도': 6155, '한잔': 6156, '한판': 6157, '핫': 6158, '해안': 6159, '해체': 6160, '해치다': 6161, '핸드': 6162, '허비하다': 6163, '확실': 6164, '후딱': 6165, '후후': 6166, '흐리다': 6167, 'ㅇㅇㅇ': 6168, 'ㅜㅡ': 6169, 'ㅠㅠㅠㅠㅠㅠㅠ': 6170, 'ㅡㅡㅋ': 6171, '가스': 6172, '각심': 6173, '감회': 6174, '갑툭튀': 6175, '강박증': 6176, '강수연': 6177, '강용석': 6178, '강우석': 6179, '강인': 6180, '개운하다': 6181, '개쩌': 6182, '경고': 6183, '계급': 6184, '고서': 6185, '곽부성': 6186, '곽지민': 6187, '관념': 6188, '괴상하다': 6189, '교도소': 6190, '국회의원': 6191, '굴': 6192, '굵다': 6193, '권투': 6194, '그랬는데': 6195, '그리스': 6196, '금고': 6197, '금성무': 6198, '기름': 6199, '기이하다': 6200, '기초': 6201, '기한': 6202, '김소연': 6203, '김수미': 6204, '김준호': 6205, '김지수': 6206, '깨어나다': 6207, '꼬리': 6208, '꽃미남': 6209, '꽉차다': 6210, '나래': 6211, '나잇': 6212, '나치': 6213, '난도질': 6214, '낮아지다': 6215, '넘어오다': 6216, '년뒤': 6217, '노릇': 6218, '누드': 6219, '느님': 6220, '능청': 6221, '달려들다': 6222, '담당': 6223, '당기다': 6224, '당첨': 6225, '대답': 6226, '대세': 6227, '대우': 6228, '대중성': 6229, '더스틴': 6230, '도배': 6231, '도서관': 6232, '도의': 6233, '독보': 6234, '둘이서': 6235, '뒷이야기': 6236, '드라큐라': 6237, '디아즈': 6238, '떳떳하다': 6239, '똥망': 6240, '레벨': 6241, '레즈': 6242, '로드리게즈': 6243, '루시': 6244, '류승완': 6245, '리슨': 6246, '리차드': 6247, '마력': 6248, '마부': 6249, '마스터피스': 6250, '만이라도': 6251, '만족감': 6252, '만행': 6253, '말장난': 6254, '망정': 6255, '맞서다': 6256, '매기': 6257, '맴돈다': 6258, '먹이': 6259, '멎다': 6260, '멘타리': 6261, '모어': 6262, '모음': 6263, '몰려오다': 6264, '몸짓': 6265, '무관': 6266, '무방': 6267, '무성영화': 6268, '무시무시하다': 6269, '무식': 6270, '무얼': 6271, '무진장': 6272, '미련': 6273, '미생': 6274, '미스터빈': 6275, '민주화': 6276, '바디': 6277, '바라지': 6278, '바리': 6279, '바이블': 6280, '바이올린': 6281, '박아': 6282, '반쪽': 6283, '발성': 6284, '백퍼': 6285, '번방': 6286, '벌이': 6287, '변': 6288, '별것': 6289, '본분': 6290, '봣습니': 6291, '봣어': 6292, '뵙다': 6293, '불문': 6294, '불타다': 6295, '불편': 6296, '불행하다': 6297, '브로스': 6298, '비평': 6299, '빈약': 6300, '빙의': 6301, '빠돌이': 6302, '뽀뽀': 6303, '뿌듯하다': 6304, '사고방식': 6305, '사이트': 6306, '사자': 6307, '산이': 6308, '살림': 6309, '새기다': 6310, '생방송': 6311, '서비스': 6312, '서양인': 6313, '서영희': 6314, '서유기': 6315, '설교': 6316, '세뇌': 6317, '소리내다': 6318, '속물': 6319, '쇼킹': 6320, '수행': 6321, '숫자': 6322, '스마트폰': 6323, '스무살': 6324, '스물': 6325, '스콜': 6326, '스탭': 6327, '시궁창': 6328, '시어머니': 6329, '시원': 6330, '시티': 6331, '신들': 6332, '신랑': 6333, '신영화': 6334, '신지': 6335, '실적': 6336, '심취': 6337, '십자': 6338, '싱어': 6339, '썰렁하다': 6340, '쑈': 6341, '쒸레기': 6342, '씻다': 6343, '아메리카': 6344, '아이거': 6345, '아이템': 6346, '아파트': 6347, '악어': 6348, '안내': 6349, '안드로메다': 6350, '안무': 6351, '안소니': 6352, '야말로': 6353, '어렴풋이': 6354, '어렷을때': 6355, '어장': 6356, '어쩐지': 6357, '업그레이드': 6358, '에반게리온': 6359, '에잇': 6360, '엘리베이터': 6361, '여자아이': 6362, '연락': 6363, '연속극': 6364, '염정아': 6365, '영화상': 6366, '옆집': 6367, '예감': 6368, '예나': 6369, '예체능': 6370, '오광록': 6371, '오시': 6372, '온건': 6373, '온통': 6374, '올드보이': 6375, '요정': 6376, '요한슨': 6377, '우상': 6378, '운전': 6379, '울부짖다': 6380, '월일': 6381, '위력': 6382, '윌리엄': 6383, '유대인': 6384, '유방': 6385, '유사라': 6386, '윤은혜': 6387, '윤제문': 6388, '으로서의': 6389, '윽': 6390, '은지원': 6391, '의의': 6392, '이나라': 6393, '이불': 6394, '이빨': 6395, '이서': 6396, '이제훈': 6397, '이즈': 6398, '이참': 6399, '이크': 6400, '이편': 6401, '인시디어스': 6402, '일과': 6403, '일로': 6404, '일부분': 6405, '일진': 6406, '일치': 6407, '입양': 6408, '입히다': 6409, '자녀': 6410, '자동': 6411, '자연스레': 6412, '작고': 6413, '작자': 6414, '장님': 6415, '장안': 6416, '재연': 6417, '재일': 6418, '재탕하다': 6419, '쟁쟁': 6420, '적합하다': 6421, '전두환': 6422, '전파': 6423, '정녕': 6424, '정사씬': 6425, '정식': 6426, '젖': 6427, '제격': 6428, '제라드': 6429, '제보': 6430, '제시카알바': 6431, '조건': 6432, '조심': 6433, '존트라볼타': 6434, '좀해': 6435, '종교영화': 6436, '종편': 6437, '주로': 6438, '주리': 6439, '줄줄': 6440, '중요': 6441, '증언': 6442, '지방': 6443, '지아': 6444, '지점': 6445, '지향': 6446, '진전': 6447, '집합': 6448, '쭈욱': 6449, '찰스': 6450, '찰지다': 6451, '참되다': 6452, '창문': 6453, '창의력': 6454, '천장': 6455, '청자': 6456, '초보': 6457, '최시원': 6458, '추상': 6459, '추석': 6460, '치부': 6461, '치아': 6462, '침략': 6463, '카메오': 6464, '캡틴': 6465, '케이스': 6466, '코치': 6467, '퀸': 6468, '킬': 6469, '킹콩': 6470, '타고나다': 6471, '탐정': 6472, '탱': 6473, '터뜨리다': 6474, '템포': 6475, '토시': 6476, '토토': 6477, '톱': 6478, '특정': 6479, '파도': 6480, '팍': 6481, '판사': 6482, '팔리다': 6483, '퍼센트': 6484, '평화롭다': 6485, '포커스': 6486, '폰부스': 6487, '프리드': 6488, '하다못해': 6489, '하락': 6490, '학적': 6491, '한낱': 6492, '한채영': 6493, '함축': 6494, '해군': 6495, '해소': 6496, '헨리': 6497, '홍석천': 6498, '화이트': 6499, '화점': 6500, '효과음': 6501, '훅': 6502, '휘두르다': 6503, '힘차다': 6504, '힝': 6505, 'ㅎㅎㅎㅎㅎ': 6506, 'ㅕ': 6507, '가나다': 6508, '가두다': 6509, '가방': 6510, '가상': 6511, '가필드': 6512, '간결하다': 6513, '간신히': 6514, '간접': 6515, '간지나다': 6516, '강남': 6517, '강도': 6518, '강원도': 6519, '강의': 6520, '강철': 6521, '개재': 6522, '갱스터': 6523, '거들다': 6524, '건축': 6525, '겸': 6526, '경치': 6527, '경향': 6528, '고함': 6529, '곤란하다': 6530, '공략': 6531, '공정하다': 6532, '괴담': 6533, '교묘하다': 6534, '교양': 6535, '구속': 6536, '구심': 6537, '굿굿굿굿': 6538, '굿닥터': 6539, '권장': 6540, '귓가': 6541, '그중': 6542, '극영화': 6543, '근대': 6544, '금시': 6545, '금치': 6546, '기해': 6547, '길거리': 6548, '김동완': 6549, '김두한': 6550, '김인권': 6551, '김지운': 6552, '까운': 6553, '깜짝깜짝': 6554, '꼬꼬': 6555, '꽥꽥': 6556, '꾀': 6557, '꿀잼임': 6558, '꿈속': 6559, '끈기': 6560, '나니아': 6561, '나리': 6562, '나비효과': 6563, '나위': 6564, '난감': 6565, '난장판': 6566, '남자친구': 6567, '내버리다': 6568, '내포': 6569, '냉혹하다': 6570, '넘버': 6571, '녹이다': 6572, '놈놈놈': 6573, '눈높이': 6574, '눈동자': 6575, '는가': 6576, '니야': 6577, '다려지다': 6578, '다인': 6579, '다짜고짜': 6580, '닭살': 6581, '대견하다': 6582, '대다수': 6583, '대로의': 6584, '대적': 6585, '더락': 6586, '동거': 6587, '동화책': 6588, '뒤집어지다': 6589, '뒤틀리다': 6590, '뒷맛': 6591, '뒷모습': 6592, '디자이너': 6593, '라네': 6594, '라던가': 6595, '랬': 6596, '레저': 6597, '렌트': 6598, '로리': 6599, '로지': 6600, '료코': 6601, '루나': 6602, '루피': 6603, '리좀': 6604, '리프': 6605, '리플리': 6606, '마는': 6607, '마더': 6608, '마술': 6609, '막막하다': 6610, '막연하다': 6611, '맞춤': 6612, '맥빠지다': 6613, '맴': 6614, '먹고살다': 6615, '메카': 6616, '멕시코': 6617, '멘트': 6618, '모레': 6619, '모세': 6620, '모토': 6621, '못만드': 6622, '몽골': 6623, '무덤': 6624, '무미건조하다': 6625, '무인도': 6626, '미노': 6627, '미사일': 6628, '미셸': 6629, '미지근하다': 6630, '민주': 6631, '민호': 6632, '믿어지다': 6633, '바하': 6634, '박시환': 6635, '박하': 6636, '박한별': 6637, '반미': 6638, '반항': 6639, '방송국': 6640, '방지': 6641, '방화': 6642, '배달': 6643, '배틀': 6644, '백제': 6645, '백프로': 6646, '법도': 6647, '벗': 6648, '베댓': 6649, '베드씬': 6650, '보듬다': 6651, '복제인간': 6652, '분신사바': 6653, '분안': 6654, '분열': 6655, '분투': 6656, '분하다': 6657, '불가하다': 6658, '불량': 6659, '불어': 6660, '브': 6661, '브레드': 6662, '블레이드': 6663, '비긴': 6664, '비우다': 6665, '비웃다': 6666, '빙빙': 6667, '빠다': 6668, '뿅': 6669, '사만': 6670, '사뭇': 6671, '사태': 6672, '사투': 6673, '산타': 6674, '살수': 6675, '삽입곡': 6676, '상위': 6677, '생뚱맞': 6678, '생소하다': 6679, '서늘하다': 6680, '서서': 6681, '서태지': 6682, '선교': 6683, '설계': 6684, '설리': 6685, '설마설마': 6686, '성인영화': 6687, '세계대전': 6688, '세로': 6689, '세이': 6690, '셜록': 6691, '셧': 6692, '소스': 6693, '쇼크': 6694, '수면': 6695, '수백': 6696, '수영': 6697, '수지': 6698, '슈퍼스타': 6699, '스리': 6700, '스시': 6701, '스턴': 6702, '스텔론': 6703, '스페이스': 6704, '스포일러': 6705, '습관': 6706, '승승장구': 6707, '시나': 6708, '시달리다': 6709, '시리': 6710, '시원시원하다': 6711, '시적': 6712, '신성일': 6713, '신음': 6714, '실사판': 6715, '싱크로': 6716, '쌓다': 6717, '쌩뚱맞': 6718, '써니': 6719, '쑤다': 6720, '씬들': 6721, '아나운서': 6722, '아보': 6723, '아빠어디가': 6724, '아싸': 6725, '아이덴티티': 6726, '악한': 6727, '안달': 6728, '안이': 6729, '안치': 6730, '안타': 6731, '알렌': 6732, '애매모호하다': 6733, '앤더슨': 6734, '앤드류': 6735, '앨리스': 6736, '약해지다': 6737, '양념': 6738, '얔': 6739, '얹다': 6740, '얼간이': 6741, '에플렉': 6742, '여균동': 6743, '여부': 6744, '여장': 6745, '역경': 6746, '연개소문': 6747, '연평해전': 6748, '영리하다': 6749, '영향력': 6750, '예외': 6751, '예지원': 6752, '오로라공주': 6753, '오멘': 6754, '오컬트': 6755, '완존': 6756, '왜점': 6757, '왜캐': 6758, '요점': 6759, '요하': 6760, '우디알렌': 6761, '우산': 6762, '우수': 6763, '욱': 6764, '움직': 6765, '웨스': 6766, '유년': 6767, '유동근': 6768, '유사': 6769, '유재석': 6770, '은밀': 6771, '은행': 6772, '은희': 6773, '을해': 6774, '응징': 6775, '이글': 6776, '이득': 6777, '이론': 6778, '이루': 6779, '이상준': 6780, '이소연': 6781, '이순재': 6782, '이시영': 6783, '이요원': 6784, '이쯤': 6785, '이처럼': 6786, '이하늬': 6787, '이해력': 6788, '인간관계': 6789, '인간극장': 6790, '인질': 6791, '인천': 6792, '일관': 6793, '일어나고': 6794, '일어나지': 6795, '일전': 6796, '임무': 6797, '잊어버리다': 6798, '자꾸만': 6799, '작작': 6800, '잔잔': 6801, '장교': 6802, '장선우': 6803, '장황하다': 6804, '재림': 6805, '재밋엇음': 6806, '재수': 6807, '재활용': 6808, '쟈': 6809, '쟤': 6810, '저스틴': 6811, '전과': 6812, '전무후무': 6813, '전설의고향': 6814, '전체관람가': 6815, '전후': 6816, '절도': 6817, '점차': 6818, '접영': 6819, '정경호': 6820, '정교하다': 6821, '정려원': 6822, '정보석': 6823, '정윤희': 6824, '정은지': 6825, '제압': 6826, '존쿠삭': 6827, '주년': 6828, '주입': 6829, '중국산': 6830, '중국어': 6831, '중사': 6832, '지수': 6833, '직하다': 6834, '짱짱걸': 6835, '쪼금': 6836, '쫙': 6837, '찌라시': 6838, '찍어내다': 6839, '찔끔': 6840, '찢어지다': 6841, '차려': 6842, '착': 6843, '창의': 6844, '처벌': 6845, '천안함': 6846, '초대': 6847, '초때': 6848, '추기경': 6849, '출시': 6850, '취권': 6851, '치장': 6852, '친하다': 6853, '카이': 6854, '캐다': 6855, '켈리': 6856, '코끝': 6857, '퀴즈': 6858, '클릭': 6859, '킥': 6860, '탁': 6861, '탄압': 6862, '터널': 6863, '테일러': 6864, '테잎': 6865, '토모': 6866, '퇴폐': 6867, '투입': 6868, '투척': 6869, '툭': 6870, '파트': 6871, '판빙빙': 6872, '패밀리': 6873, '편중': 6874, '편향': 6875, '편협': 6876, '폐인': 6877, '포켓몬스터': 6878, '폭동': 6879, '표지': 6880, '플러스': 6881, '피닉스': 6882, '필드': 6883, '하므다': 6884, '하비에르': 6885, '하이라이트': 6886, '하찮다': 6887, '하트넷': 6888, '할리웃': 6889, '해바라기': 6890, '해변': 6891, '해병대': 6892, '해품달': 6893, '허리': 6894, '헬': 6895, '현기증': 6896, '현명하다': 6897, '현우': 6898, '혈압': 6899, '호연': 6900, '호프만': 6901, '홍어': 6902, '화기': 6903, '화남': 6904, '화류': 6905, '화영': 6906, '확장': 6907, '황정음': 6908, '회도': 6909, '회의': 6910, '횽': 6911, '훈녀': 6912, '훨낫다': 6913, '휴지': 6914, '히히히': 6915, 'ㅇㅋ': 6916, '가발': 6917, '가오': 6918, '가져가다': 6919, '가져다주다': 6920, '각종': 6921, '간호사': 6922, '갈망': 6923, '갈팡질팡': 6924, '감탄사': 6925, '값지다': 6926, '강정': 6927, '개떡': 6928, '개망': 6929, '개선': 6930, '개신교': 6931, '개월': 6932, '걔': 6933, '거미': 6934, '거인': 6935, '건만': 6936, '건조하다': 6937, '검술': 6938, '결단': 6939, '계시': 6940, '계약': 6941, '계층': 6942, '고든': 6943, '고아라': 6944, '고정관념': 6945, '고창석': 6946, '고하': 6947, '곤충': 6948, '골다': 6949, '골든': 6950, '곱': 6951, '공중': 6952, '과장하다': 6953, '관계도': 6954, '관광': 6955, '관해': 6956, '괜춘': 6957, '괴물영화': 6958, '괴작': 6959, '교사': 6960, '국민학교': 6961, '군국': 6962, '굴욕': 6963, '궈': 6964, '그다음': 6965, '그레이스': 6966, '그토록': 6967, '극우': 6968, '글래디에이터': 6969, '글썽': 6970, '기다림': 6971, '기립박수': 6972, '기선': 6973, '기질': 6974, '긴지': 6975, '김고은': 6976, '김우빈': 6977, '김정화': 6978, '김효진': 6979, '깊숙하다': 6980, '깔리다': 6981, '꺾다': 6982, '꽃님': 6983, '끈끈': 6984, '낚시질': 6985, '날아다니다': 6986, '남상미': 6987, '내려오다': 6988, '내미다': 6989, '내부': 6990, '넉': 6991, '널리': 6992, '넘버원': 6993, '넘사벽': 6994, '노고': 6995, '노년': 6996, '놀리다': 6997, '누굴': 6998, '누리다': 6999, '눈길': 7000, '눈알': 7001, '니스': 7002, '닉쿤': 7003, '다년': 7004, '다람쥐': 7005, '다섯손가락': 7006, '다이애나': 7007, '다카': 7008, '다행하다': 7009, '단단하다': 7010, '단독': 7011, '단언컨대': 7012, '달성': 7013, '닮음': 7014, '당초': 7015, '대들다': 7016, '대머리': 7017, '대서': 7018, '대요': 7019, '더글라스': 7020, '더블': 7021, '덕화': 7022, '데려오다': 7023, '데스티네이션': 7024, '데인': 7025, '도끼': 7026, '도달': 7027, '도리': 7028, '도보': 7029, '도쿄': 7030, '도현': 7031, '독자': 7032, '돌연변이': 7033, '동방불패': 7034, '동작': 7035, '되돌리다': 7036, '두르다': 7037, '드하': 7038, '디지털': 7039, '따라잡다': 7040, '딱지': 7041, '떨구다': 7042, '똑': 7043, '똥꼬': 7044, '뚱뚱하다': 7045, '뜻밖': 7046, '띠': 7047, '라가': 7048, '라디오': 7049, '라디오스타': 7050, '랜드': 7051, '랴': 7052, '러쉬': 7053, '레아': 7054, '로사': 7055, '로치': 7056, '루고': 7057, '리나': 7058, '린데': 7059, '링컨': 7060, '마시다': 7061, '마징': 7062, '막내': 7063, '막말': 7064, '매염방': 7065, '매장': 7066, '매진': 7067, '매체': 7068, '맥락': 7069, '맴도': 7070, '머랄': 7071, '먹방': 7072, '메가박스': 7073, '면적': 7074, '명분': 7075, '모도': 7076, '모시다': 7077, '몰두하다': 7078, '무능력하다': 7079, '문어': 7080, '문장': 7081, '미라': 7082, '미사': 7083, '미워하다': 7084, '민중': 7085, '밑바닥': 7086, '바가지': 7087, '바둑': 7088, '바람직하다': 7089, '바위': 7090, '박선영': 7091, '박스': 7092, '박진희': 7093, '반말': 7094, '발킬머': 7095, '밥맛': 7096, '방치': 7097, '배급': 7098, '배틀로얄': 7099, '백야': 7100, '밸런스': 7101, '버겁다': 7102, '버러지': 7103, '번개': 7104, '범작': 7105, '베테': 7106, '벨루치': 7107, '벨소리': 7108, '병자': 7109, '보람': 7110, '보리': 7111, '보복': 7112, '복잡': 7113, '복제': 7114, '본드걸': 7115, '본연': 7116, '본영': 7117, '부딪히다': 7118, '분노하다': 7119, '불급': 7120, '불사조': 7121, '불체': 7122, '붙이': 7123, '브리트니': 7124, '비됴': 7125, '비비다': 7126, '비스트': 7127, '비애': 7128, '비운': 7129, '빙자': 7130, '빼어나다': 7131, '뻣뻣하다': 7132, '뽀': 7133, '뽑히다': 7134, '사생활': 7135, '사악하다': 7136, '사적': 7137, '사탄': 7138, '사하다': 7139, '삼박자': 7140, '삼생이': 7141, '삼천포': 7142, '삼총사': 7143, '상감': 7144, '상대로': 7145, '상도': 7146, '상실하다': 7147, '상임': 7148, '상쾌': 7149, '색기': 7150, '생생': 7151, '샤': 7152, '샤론': 7153, '샤워': 7154, '샤크': 7155, '서너': 7156, '서유리': 7157, '섭': 7158, '성관계': 7159, '성욕': 7160, '성지순례': 7161, '세운': 7162, '세포': 7163, '셀': 7164, '셜록홈즈': 7165, '소금': 7166, '소동': 7167, '소드': 7168, '소라': 7169, '소란': 7170, '소림축구': 7171, '소유진': 7172, '솟구치다': 7173, '송재림': 7174, '수능': 7175, '수목': 7176, '수학': 7177, '순식간': 7178, '슈나이더': 7179, '슌': 7180, '스승': 7181, '스페셜': 7182, '시가': 7183, '시내': 7184, '시대극': 7185, '시시': 7186, '식다': 7187, '신경안': 7188, '신애': 7189, '실물': 7190, '실태': 7191, '심각': 7192, '썰전': 7193, '썸머': 7194, '아른거리다': 7195, '아비': 7196, '아이큐': 7197, '아지': 7198, '악령': 7199, '안구': 7200, '앙상블': 7201, '애쉬': 7202, '야마카시': 7203, '야수': 7204, '얄밉다': 7205, '양키': 7206, '어떨': 7207, '어마': 7208, '어어': 7209, '어쩌나': 7210, '억이': 7211, '엇을': 7212, '엌': 7213, '엘리자베스': 7214, '여전': 7215, '여하튼': 7216, '역설': 7217, '연결하다': 7218, '연예': 7219, '열등감': 7220, '열차': 7221, '영애': 7222, '영화장르': 7223, '오달수': 7224, '올인': 7225, '옷벗다': 7226, '왕정': 7227, '왜냐하면': 7228, '외치': 7229, '요괴': 7230, '요나': 7231, '요청': 7232, '욕정': 7233, '우울함': 7234, '우주선': 7235, '운영': 7236, '울버린': 7237, '웅': 7238, '원도': 7239, '원주민': 7240, '월요일': 7241, '위노나': 7242, '윌': 7243, '유감': 7244, '유진': 7245, '윤발': 7246, '은혜': 7247, '음미': 7248, '음산하다': 7249, '음성': 7250, '의욕': 7251, '의원': 7252, '이러케': 7253, '이레': 7254, '이뤄지다': 7255, '이미숙': 7256, '이영환': 7257, '이오': 7258, '익': 7259, '인격': 7260, '인양': 7261, '일간': 7262, '일정': 7263, '임상수': 7264, '입증': 7265, '자이언트': 7266, '자임': 7267, '작성': 7268, '잘해야': 7269, '잠기다': 7270, '잡탕': 7271, '장식': 7272, '장하다': 7273, '장학우': 7274, '장화홍련': 7275, '재개': 7276, '재희': 7277, '잭블랙': 7278, '저따위': 7279, '전우치': 7280, '절때': 7281, '절벽': 7282, '점점이': 7283, '정겹다': 7284, '정복': 7285, '정신과': 7286, '정신병원': 7287, '정우': 7288, '정준영': 7289, '정준하': 7290, '정지훈': 7291, '졋': 7292, '조르다': 7293, '조마조마하다': 7294, '조안': 7295, '졸귀': 7296, '종료': 7297, '종족': 7298, '죄인': 7299, '주더': 7300, '주된': 7301, '주류': 7302, '주르륵': 7303, '주름': 7304, '죽겠네': 7305, '줄어들다': 7306, '중단': 7307, '즈음': 7308, '증오': 7309, '지기': 7310, '지니': 7311, '지로': 7312, '직설': 7313, '진영': 7314, '진중하다': 7315, '짚다': 7316, '쨋': 7317, '쭉쭉': 7318, '찍기': 7319, '차고': 7320, '착오': 7321, '창고': 7322, '천정명': 7323, '천지': 7324, '최곤데': 7325, '최루성': 7326, '최선정': 7327, '최종': 7328, '쵝': 7329, '축제': 7330, '치이다': 7331, '커트': 7332, '코끼리': 7333, '쿵푸': 7334, '퀴': 7335, '크기': 7336, '크림슨': 7337, '클레': 7338, '클린': 7339, '킴': 7340, '타워': 7341, '탐구': 7342, '탐험': 7343, '태희': 7344, '테니스': 7345, '테드': 7346, '테마': 7347, '토대': 7348, '톡톡': 7349, '퇴마록': 7350, '퇴보': 7351, '트라우마': 7352, '트렌드': 7353, '파고': 7354, '파렐': 7355, '파커': 7356, '퍼레이드': 7357, '페넬로페': 7358, '편승': 7359, '포스트': 7360, '퓨전': 7361, '프렌즈': 7362, '피라미드': 7363, '하진': 7364, '하트': 7365, '한결같다': 7366, '한고은': 7367, '한구석': 7368, '한나': 7369, '합작': 7370, '해먹': 7371, '햄버거': 7372, '헤드': 7373, '헤매다': 7374, '현지': 7375, '호주': 7376, '홀리': 7377, '홉킨스': 7378, '화구': 7379, '화살': 7380, '황진이': 7381, '회보': 7382, '후레쉬맨': 7383, '후련하다': 7384, '후진국': 7385, '후편': 7386, '흐미': 7387, '흥분하다': 7388, '히틀러': 7389, '힛걸': 7390, 'ㄲ': 7391, 'ㄷㄷㄷㄷ': 7392, 'ㅅㄲ': 7393, 'ㅆㄹㄱ': 7394, 'ㅔ': 7395, '가누다': 7396, '가르시아': 7397, '가물가물': 7398, '가점': 7399, '각본가': 7400, '갈아타다': 7401, '갓파더': 7402, '강인하다': 7403, '강풀': 7404, '갖은': 7405, '개개': 7406, '개똥이': 7407, '거래': 7408, '거저': 7409, '걸어가다': 7410, '겁내': 7411, '게시판': 7412, '격감': 7413, '격정': 7414, '결심': 7415, '결여': 7416, '고가': 7417, '고대로': 7418, '고리타분하다': 7419, '고은아': 7420, '고의': 7421, '고추': 7422, '골든타임': 7423, '공무원': 7424, '공사': 7425, '곸': 7426, '과격하다': 7427, '과분': 7428, '과욕': 7429, '광신도': 7430, '구름': 7431, '구토': 7432, '굿잡': 7433, '권총': 7434, '귀여니': 7435, '극히': 7436, '근성': 7437, '금기': 7438, '기보': 7439, '기태': 7440, '기황후': 7441, '김민정': 7442, '김범': 7443, '김새론': 7444, '김신': 7445, '김아중': 7446, '김영철': 7447, '김원효': 7448, '김정훈': 7449, '깽': 7450, '꼽는다': 7451, '끼어들다': 7452, '낙원': 7453, '남여': 7454, '내리막': 7455, '내사': 7456, '너리': 7457, '널다': 7458, '넘겨보다': 7459, '넣기': 7460, '네요': 7461, '넨': 7462, '노랑': 7463, '노민우': 7464, '노부': 7465, '노출하다': 7466, '눈꼽': 7467, '눈썹': 7468, '는데': 7469, '는바': 7470, '다라': 7471, '다망': 7472, '다물다': 7473, '다우니': 7474, '다이스': 7475, '다이아몬드': 7476, '단면': 7477, '달린다': 7478, '당근': 7479, '대강': 7480, '대소': 7481, '대인': 7482, '대조': 7483, '댁': 7484, '댓글달다': 7485, '더럽히다': 7486, '더티': 7487, '데미': 7488, '도나': 7489, '도도': 7490, '도둑질': 7491, '도자기': 7492, '도피': 7493, '도희': 7494, '독수리': 7495, '독일군': 7496, '독특': 7497, '돌고래': 7498, '동갑': 7499, '동물농장': 7500, '동이': 7501, '득': 7502, '들것': 7503, '들려주다': 7504, '들어맞다': 7505, '떠다니다': 7506, '떨치다': 7507, '뚫리다': 7508, '라그': 7509, '라푼젤': 7510, '락스': 7511, '랄프': 7512, '람사': 7513, '레미제라블': 7514, '렷': 7515, '로건': 7516, '로군': 7517, '로또': 7518, '로빈윌리엄스': 7519, '롤': 7520, '루비': 7521, '류현경': 7522, '리처드': 7523, '리턴즈': 7524, '린즈링': 7525, '마녀사냥': 7526, '마다가스카': 7527, '마이너': 7528, '맘에듬': 7529, '매너': 7530, '맥클레인': 7531, '맴버': 7532, '머레이': 7533, '먹듯': 7534, '메가폰': 7535, '메리다': 7536, '메멘토': 7537, '멘토': 7538, '면모': 7539, '모가지': 7540, '모션': 7541, '모임': 7542, '모차르트': 7543, '몰아치다': 7544, '몹시': 7545, '몽': 7546, '무관심': 7547, '무덥다': 7548, '무법자': 7549, '무분별': 7550, '무었': 7551, '무의식': 7552, '무인': 7553, '무조': 7554, '무차별': 7555, '문자': 7556, '물리': 7557, '물속': 7558, '뭐길': 7559, '뮤지컬영화': 7560, '미술관': 7561, '민세': 7562, '민아': 7563, '밀고': 7564, '밀러': 7565, '바람둥이': 7566, '바사': 7567, '박상민': 7568, '박시연': 7569, '반짝': 7570, '발단': 7571, '발매': 7572, '발정': 7573, '밤새다': 7574, '방어율': 7575, '방향성': 7576, '배고프다': 7577, '백만': 7578, '백진희': 7579, '버킷리스트': 7580, '벅차오르다': 7581, '번영': 7582, '번의': 7583, '베이커': 7584, '베티': 7585, '벨라': 7586, '별그대': 7587, '병들다': 7588, '보성': 7589, '보컬': 7590, '본래': 7591, '볼륨': 7592, '볼빠': 7593, '볼품': 7594, '봣네': 7595, '봣으': 7596, '부시': 7597, '부유하다': 7598, '분단': 7599, '불과': 7600, '불법체류자': 7601, '붓다': 7602, '뷁': 7603, '뷰티': 7604, '브라보': 7605, '비긴즈': 7606, '비로소': 7607, '비율': 7608, '비포': 7609, '빠리': 7610, '빼먹다': 7611, '빼앗다': 7612, '사도': 7613, '사람인': 7614, '사무': 7615, '사무엘': 7616, '사살': 7617, '사운드트랙': 7618, '사이비': 7619, '사족': 7620, '사채': 7621, '사형수': 7622, '산뜻하다': 7623, '상기': 7624, '상담': 7625, '상대방': 7626, '상품': 7627, '생동감': 7628, '생명력': 7629, '샤이니': 7630, '서사': 7631, '서커스': 7632, '서편제': 7633, '석양': 7634, '설날': 7635, '세련': 7636, '소망': 7637, '소속': 7638, '소신': 7639, '소위': 7640, '손녀': 7641, '손님': 7642, '송희진': 7643, '쇼생': 7644, '수긍': 7645, '수식어': 7646, '수퍼맨': 7647, '수호': 7648, '숙면': 7649, '숙제': 7650, '숨바꼭질': 7651, '쉰': 7652, '스나입스': 7653, '스머프': 7654, '스튜어트': 7655, '슬로우': 7656, '시공간': 7657, '시놉시스': 7658, '시로': 7659, '시원찮다': 7660, '식인': 7661, '신랄하다': 7662, '신자': 7663, '신중하다': 7664, '실버': 7665, '심야': 7666, '썸': 7667, '씩씩하다': 7668, '아멘': 7669, '아영': 7670, '아청법': 7671, '악녀': 7672, '악행': 7673, '안전': 7674, '알라': 7675, '알콩달콩': 7676, '앓다': 7677, '암만': 7678, '앞두다': 7679, '앞세우다': 7680, '애국가': 7681, '애처롭다': 7682, '약점': 7683, '양익준': 7684, '어간': 7685, '어드벤처': 7686, '어루만지다': 7687, '어스': 7688, '어진': 7689, '어쩌구': 7690, '어쩌다가': 7691, '어후': 7692, '엄연하다': 7693, '엄지원': 7694, '엇갈리다': 7695, '에구': 7696, '에밀리': 7697, '에이즈': 7698, '에헴': 7699, '엑스파일': 7700, '여느': 7701, '여리다': 7702, '여섯': 7703, '연정훈': 7704, '연제욱': 7705, '영화제작': 7706, '예언': 7707, '오만하다': 7708, '오전': 7709, '오즈': 7710, '오지랖': 7711, '오지호': 7712, '오케이': 7713, '오후': 7714, '올드': 7715, '완소': 7716, '왈츠': 7717, '왓으': 7718, '외설': 7719, '왼쪽': 7720, '욜라': 7721, '용의자': 7722, '우기다': 7723, '우물': 7724, '우수하다': 7725, '워스트': 7726, '워킹': 7727, '원내': 7728, '원조교제': 7729, '윌리암스': 7730, '유괴': 7731, '유부': 7732, '유선': 7733, '유전자': 7734, '은영': 7735, '은주': 7736, '이건정': 7737, '이라크': 7738, '이벤트': 7739, '이성': 7740, '이아': 7741, '이재은': 7742, '이점': 7743, '이종혁': 7744, '이중성': 7745, '이지아': 7746, '이태임': 7747, '이현우': 7748, '인역': 7749, '인의': 7750, '인제': 7751, '일어서다': 7752, '일일이': 7753, '일제': 7754, '임성한': 7755, '입가': 7756, '입맛': 7757, '자의식': 7758, '자폐': 7759, '자폭': 7760, '잠재우다': 7761, '잡다하다': 7762, '장영': 7763, '장예모': 7764, '재즈': 7765, '전용': 7766, '절규': 7767, '점안': 7768, '정겨운': 7769, '정색': 7770, '정심': 7771, '제이콥': 7772, '조국': 7773, '조로': 7774, '조음': 7775, '조이다': 7776, '존슨': 7777, '종결': 7778, '죄송': 7779, '주도': 7780, '주몽': 7781, '주무시다': 7782, '주요': 7783, '죽도': 7784, '줄기': 7785, '중립': 7786, '중앙': 7787, '쥬': 7788, '지긋지긋하다': 7789, '지미': 7790, '지현우': 7791, '진주만': 7792, '징기스칸': 7793, '짖다': 7794, '짱개': 7795, '쫓기다': 7796, '찌꺼기': 7797, '차도': 7798, '차례': 7799, '차용': 7800, '찬성': 7801, '찰리채플린': 7802, '참가자': 7803, '참담하다': 7804, '챙': 7805, '천년': 7806, '청순하다': 7807, '초도': 7808, '총격': 7809, '총기': 7810, '최상': 7811, '쵸': 7812, '추격씬': 7813, '추잡': 7814, '축소': 7815, '출생': 7816, '충성': 7817, '취': 7818, '취업': 7819, '취재': 7820, '취해': 7821, '치의': 7822, '치자': 7823, '치정': 7824, '치졸하다': 7825, '치히로': 7826, '친숙하다': 7827, '카메론디아즈': 7828, '캠': 7829, '커리어': 7830, '컴': 7831, '콜': 7832, '콜린스': 7833, '콱': 7834, '쿠엔틴': 7835, '쿵': 7836, '클로즈업': 7837, '타겟': 7838, '타임슬립': 7839, '태권브이': 7840, '토크': 7841, '통렬': 7842, '투니버스': 7843, '투신': 7844, '툭툭': 7845, '특공대': 7846, '특이': 7847, '파이터': 7848, '판도': 7849, '팝': 7850, '패션왕': 7851, '팬텀': 7852, '펀치': 7853, '페': 7854, '페이스': 7855, '편파': 7856, '평가절하': 7857, '평면': 7858, '포트': 7859, '폭풍눈물': 7860, '표면': 7861, '표방': 7862, '푸하하하': 7863, '프랑스인': 7864, '피부': 7865, '피티': 7866, '핏줄': 7867, '핑': 7868, '하고만': 7869, '하내': 7870, '하느님': 7871, '하소': 7872, '학원물': 7873, '한가인': 7874, '한껏': 7875, '한자': 7876, '한적': 7877, '한층': 7878, '할리': 7879, '항': 7880, '해답': 7881, '해피앤딩': 7882, '햇살': 7883, '행세': 7884, '허공': 7885, '허드': 7886, '허탈': 7887, '헛점': 7888, '현주소': 7889, '형사물': 7890, '홀딱': 7891, '화려': 7892, '화로': 7893, '화비': 7894, '회한': 7895, '횡설수설': 7896, '후벼파다': 7897, '후진': 7898, '흑백영화': 7899, '히로': 7900, 'ㅁㅈㅎ': 7901, '가까워지다': 7902, '가드': 7903, '가든': 7904, '가만있다': 7905, '가세': 7906, '가정부': 7907, '가증': 7908, '각시탈': 7909, '간수': 7910, '간지럽다': 7911, '갈리': 7912, '감방': 7913, '감수': 7914, '강박': 7915, '강연': 7916, '강철중': 7917, '갘': 7918, '개그콘서트': 7919, '개멋': 7920, '개무시': 7921, '개차반': 7922, '객': 7923, '거두다': 7924, '거려': 7925, '거볼': 7926, '거북이': 7927, '거절': 7928, '건네다': 7929, '겉도': 7930, '게이고': 7931, '겐': 7932, '겜': 7933, '겨냥': 7934, '결핍': 7935, '겸비': 7936, '경비': 7937, '고간': 7938, '고객': 7939, '고급스럽다': 7940, '고리': 7941, '고사': 7942, '고장': 7943, '공백': 7944, '공산당': 7945, '과유': 7946, '광대': 7947, '괴리감': 7948, '구두': 7949, '구별': 7950, '구사': 7951, '구야': 7952, '구한': 7953, '국물': 7954, '국정원': 7955, '군사': 7956, '군생활': 7957, '굴곡': 7958, '궁합': 7959, '귀환': 7960, '그간': 7961, '근원': 7962, '금물': 7963, '급박하다': 7964, '급작': 7965, '기교': 7966, '기신기신': 7967, '기여': 7968, '기함': 7969, '김사랑': 7970, '김상경': 7971, '김소은': 7972, '김유정': 7973, '김재원': 7974, '김주혁': 7975, '김청기': 7976, '김희애': 7977, '꼭두각시': 7978, '끼들': 7979, '나문희': 7980, '나미': 7981, '나왓으': 7982, '나이틀리': 7983, '난해': 7984, '날씨': 7985, '남동생': 7986, '남자에게': 7987, '낰': 7988, '내적': 7989, '냉무': 7990, '넷': 7991, '노르웨이': 7992, '노소': 7993, '노출씬': 7994, '노홍철': 7995, '뇨': 7996, '눈가': 7997, '느릿느릿': 7998, '늑대소년': 7999, '늦추다': 8000, '니슨': 8001, '닌': 8002, '닐': 8003, '다름없다': 8004, '다모': 8005, '다이나믹': 8006, '다재': 8007, '다정하다': 8008, '다지다': 8009, '달콤': 8010, '달튼': 8011, '당혹스럽다': 8012, '대게': 8013, '대대': 8014, '대런': 8015, '대명사': 8016, '대미': 8017, '대원': 8018, '대장금': 8019, '댕기': 8020, '더군다나': 8021, '더듬다': 8022, '덧글': 8023, '덩': 8024, '덩달아': 8025, '데니스': 8026, '덴': 8027, '뎈': 8028, '도구': 8029, '도구로': 8030, '도발': 8031, '도시락': 8032, '독고': 8033, '독립영화관': 8034, '독하다': 8035, '돈좀': 8036, '동남아': 8037, '동전': 8038, '동해': 8039, '두기': 8040, '두드리다': 8041, '둥': 8042, '둥이': 8043, '드뎌': 8044, '드라마스페셜': 8045, '들여다보다': 8046, '들키다': 8047, '듬뿍': 8048, '듯해': 8049, '디다': 8050, '딘': 8051, '딸내미': 8052, '딸도': 8053, '떠나가다': 8054, '라나': 8055, '랭보': 8056, '러블': 8057, '레디': 8058, '렌': 8059, '려원': 8060, '로랑': 8061, '로리타': 8062, '로망스': 8063, '로맨틱영화': 8064, '롤러코스터': 8065, '료': 8066, '루한': 8067, '룸메이트': 8068, '르네젤위거': 8069, '리듬': 8070, '리버': 8071, '리하': 8072, '린지': 8073, '립': 8074, '마감': 8075, '마리아': 8076, '마스': 8077, '마우스': 8078, '마키': 8079, '막바지': 8080, '만발': 8081, '만배': 8082, '망각': 8083, '매니저': 8084, '매달리다': 8085, '맨인블랙': 8086, '맹': 8087, '멍하니': 8088, '메이킹': 8089, '멸망하다': 8090, '명목': 8091, '명치': 8092, '모래': 8093, '모모': 8094, '모하': 8095, '목욕': 8096, '무너': 8097, '무당': 8098, '무민': 8099, '무언': 8100, '무쟈': 8101, '무턱': 8102, '문성근': 8103, '물든': 8104, '뭉치다': 8105, '미덕': 8106, '미디어': 8107, '미지': 8108, '바닷가': 8109, '바랬': 8110, '박력': 8111, '박영규': 8112, '박예진': 8113, '박재정': 8114, '박철수': 8115, '반했어': 8116, '발끝': 8117, '밨는데': 8118, '방가': 8119, '방송사': 8120, '배드씬': 8121, '배신자': 8122, '배트': 8123, '버들': 8124, '버디': 8125, '버프': 8126, '베스트셀러': 8127, '베이비': 8128, '별명': 8129, '보다만': 8130, '보트': 8131, '복판': 8132, '볼맛': 8133, '봉하': 8134, '부들': 8135, '부들부들': 8136, '부숴': 8137, '부시다': 8138, '부치다': 8139, '부하': 8140, '북괴': 8141, '분야': 8142, '불평': 8143, '붐': 8144, '브라': 8145, '브레이크': 8146, '블럭버스터': 8147, '비겁하다': 8148, '비열하다': 8149, '비위': 8150, '비틀즈': 8151, '빌어먹을': 8152, '빠수니': 8153, '빨르다': 8154, '빽': 8155, '뺴': 8156, '뿌': 8157, '사유': 8158, '사탕': 8159, '삭막하다': 8160, '산만': 8161, '살벌하다': 8162, '살찌다': 8163, '삼키다': 8164, '상세': 8165, '상술': 8166, '상업성': 8167, '상쾌하다': 8168, '상하': 8169, '생기지': 8170, '생사': 8171, '생산': 8172, '샷': 8173, '서나': 8174, '서동요': 8175, '서럽다': 8176, '서론': 8177, '서리': 8178, '선명하다': 8179, '선언': 8180, '성해': 8181, '센세이션': 8182, '셀프': 8183, '소림사': 8184, '소모': 8185, '소문나다': 8186, '소시민': 8187, '소희': 8188, '손목': 8189, '손자': 8190, '손해': 8191, '솔까말': 8192, '솔직': 8193, '수만': 8194, '수사물': 8195, '수선': 8196, '수수하다': 8197, '수염': 8198, '수천': 8199, '순박하다': 8200, '순정만화': 8201, '숨죽': 8202, '슈트': 8203, '스킬': 8204, '스탠리': 8205, '슥': 8206, '슨상님': 8207, '습니': 8208, '승천': 8209, '시급하다': 8210, '시기하다': 8211, '시드': 8212, '시크릿': 8213, '식객': 8214, '식겁하다': 8215, '신기전': 8216, '신드롬': 8217, '신물': 8218, '신작': 8219, '심보': 8220, '심은경': 8221, '심플': 8222, '심혜진': 8223, '쌀': 8224, '썩을': 8225, '썸띵': 8226, '쓸리다': 8227, '씌우다': 8228, '아대': 8229, '아동학대': 8230, '아버': 8231, '아부지': 8232, '아이언': 8233, '아이콘': 8234, '안대': 8235, '안도': 8236, '안드': 8237, '안면': 8238, '안토니오': 8239, '알아내다': 8240, '알아차리다': 8241, '암흑': 8242, '애니스톤': 8243, '애비': 8244, '애착': 8245, '앤디': 8246, '앨런': 8247, '앨범': 8248, '야마': 8249, '야심': 8250, '양은': 8251, '어가': 8252, '어그': 8253, '어눌하다': 8254, '어도': 8255, '어르신': 8256, '어정쩡': 8257, '억원': 8258, '언더월드': 8259, '얼렁뚱땅': 8260, '얼룩지다': 8261, '엄지': 8262, '었': 8263, '엎': 8264, '에피': 8265, '엘렌': 8266, '엘리트': 8267, '여비': 8268, '여타': 8269, '연구': 8270, '연말': 8271, '연발': 8272, '연쇄살인범': 8273, '연애시대': 8274, '연예계': 8275, '연희': 8276, '열매': 8277, '영아': 8278, '영원': 8279, '오른': 8280, '오마이갓': 8281, '오마주': 8282, '오씨': 8283, '오연서': 8284, '올라서다': 8285, '올리버': 8286, '올림픽': 8287, '와일드': 8288, '왜봄': 8289, '외계': 8290, '외도': 8291, '외침': 8292, '요리사': 8293, '용인': 8294, '우기': 8295, '우스꽝스럽다': 8296, '우습다': 8297, '우애': 8298, '우에노': 8299, '운남': 8300, '울트라': 8301, '워터': 8302, '월터': 8303, '위엄': 8304, '위태': 8305, '윗': 8306, '유가': 8307, '유기': 8308, '유라': 8309, '유민': 8310, '유부녀': 8311, '유키': 8312, '으로부터': 8313, '으로서는': 8314, '으아아': 8315, '은별': 8316, '은총': 8317, '은하': 8318, '음울하다': 8319, '의자': 8320, '이거슨': 8321, '이광수': 8322, '이기주의': 8323, '이데올로기': 8324, '이동': 8325, '이라고도': 8326, '이러니까': 8327, '이런저런': 8328, '이명박': 8329, '이뭐병': 8330, '이보영': 8331, '이상아': 8332, '이서진': 8333, '이수경': 8334, '이수정': 8335, '이어도': 8336, '이장우': 8337, '이주승': 8338, '이중인격': 8339, '인원': 8340, '인주': 8341, '일말': 8342, '일본만화': 8343, '일본사람': 8344, '일본침몰': 8345, '일침': 8346, '읽히다': 8347, '임금': 8348, '입담': 8349, '입사': 8350, '입술': 8351, '자괴': 8352, '자네': 8353, '자라나다': 8354, '자만': 8355, '자부': 8356, '자시': 8357, '잔치': 8358, '잘껄': 8359, '잘봣습니': 8360, '잘봣어': 8361, '잡스': 8362, '장가휘': 8363, '장대': 8364, '장통': 8365, '잼슴': 8366, '저력': 8367, '저하': 8368, '적용': 8369, '전격': 8370, '전시': 8371, '전역': 8372, '전태일': 8373, '접속': 8374, '정도껏해': 8375, '정웅인': 8376, '정지': 8377, '정직하다': 8378, '정혜': 8379, '제품': 8380, '조미료': 8381, '조보아': 8382, '조사': 8383, '조성': 8384, '조의': 8385, '조진웅': 8386, '존엄': 8387, '졸림': 8388, '좆망': 8389, '중경삼림': 8390, '증인': 8391, '지그': 8392, '지도자': 8393, '지리하다': 8394, '지우': 8395, '진진': 8396, '집도': 8397, '집시': 8398, '징징': 8399, '짜깁다': 8400, '쩔': 8401, '쯔쯔': 8402, '차량': 8403, '차서': 8404, '차예련': 8405, '찾아다니다': 8406, '척도': 8407, '천명': 8408, '철철': 8409, '첫날': 8410, '체감': 8411, '체리': 8412, '초창': 8413, '최고급': 8414, '최면': 8415, '추격자': 8416, '출근': 8417, '출품': 8418, '친근하다': 8419, '카밀라': 8420, '카사노바': 8421, '카스': 8422, '카페': 8423, '카펜터': 8424, '캐나다': 8425, '커다랗다': 8426, '컨텐츠': 8427, '컬러': 8428, '코메': 8429, '코미': 8430, '코피': 8431, '콩콩': 8432, '쾌락': 8433, '크루': 8434, '클라이맥스': 8435, '킬머': 8436, '타오르다': 8437, '타자': 8438, '탁재훈': 8439, '탄도': 8440, '탄식': 8441, '태극기': 8442, '태풍': 8443, '탱크': 8444, '텅빈': 8445, '테디': 8446, '토로': 8447, '퇴': 8448, '퇴화': 8449, '투영': 8450, '투캅스': 8451, '퉁퉁': 8452, '트랩': 8453, '트렁크': 8454, '트루': 8455, '트리오': 8456, '특선': 8457, '티브이': 8458, '티스': 8459, '파란': 8460, '팔레스타인': 8461, '팝송': 8462, '패러디영화': 8463, '패배': 8464, '패틴슨': 8465, '팽이': 8466, '퍽': 8467, '페인': 8468, '펠레': 8469, '편성': 8470, '편편': 8471, '폐가': 8472, '프': 8473, '프레': 8474, '피자': 8475, '하늘나라': 8476, '하류': 8477, '하위': 8478, '하치': 8479, '한경직': 8480, '한눈': 8481, '한창': 8482, '핫세': 8483, '해군기지': 8484, '해당': 8485, '해롭다': 8486, '해방': 8487, '핵꿀잼': 8488, '햐': 8489, '허드슨': 8490, '허풍': 8491, '헵번': 8492, '혁신': 8493, '현저': 8494, '현혹': 8495, '형아': 8496, '형용': 8497, '혼돈': 8498, '혼신': 8499, '홍성': 8500, '화병': 8501, '화이자': 8502, '화학': 8503, '환생': 8504, '회전': 8505, '후려': 8506, '후손': 8507, '후퇴': 8508, '훈훈': 8509, '훑다': 8510, '훨배': 8511, '훨신': 8512, '휴일': 8513, '희생양': 8514, '힐러리': 8515, '힘쓰다': 8516, 'ㅋㅋㅋㅋㅋㅋㅋㅋㅋㅋㅋㅋㅋㅋㅋㅋㅋ': 8517, 'ㅋㅋㅋㅋㅋㅋㅋㅋㅋㅋㅋㅋㅋㅋㅋㅋㅋㅋ': 8518, 'ㅋㅋㅋㅋㅋㅋㅋㅋㅋㅋㅋㅋㅋㅋㅋㅋㅋㅋㅋㅋ': 8519, 'ㅋㅋㅋㅋㅋㅋㅋㅋㅋㅋㅋㅋㅋㅋㅋㅋㅋㅋㅋㅋㅋ': 8520, 'ㅠㅡㅠ': 8521, '가격': 8522, '가난': 8523, '가늠': 8524, '가다가': 8525, '가닥': 8526, '가레스': 8527, '가려진': 8528, '가운': 8529, '가인': 8530, '가차': 8531, '가혹하다': 8532, '간장': 8533, '갈구다': 8534, '갈증': 8535, '갈피': 8536, '감격': 8537, '감금': 8538, '감미롭다': 8539, '감초': 8540, '강마': 8541, '개개인': 8542, '개구': 8543, '개밥': 8544, '개별': 8545, '개쩜': 8546, '거꾸로': 8547, '거니': 8548, '거란': 8549, '거림': 8550, '거물': 8551, '검증': 8552, '게이트': 8553, '게재': 8554, '겟': 8555, '격렬하다': 8556, '격투기': 8557, '격투씬': 8558, '계보': 8559, '고구려': 8560, '고글': 8561, '고소하다': 8562, '고양': 8563, '고역': 8564, '고준희': 8565, '고흐': 8566, '골고루': 8567, '골드버그': 8568, '골빈': 8569, '공공': 8570, '공자': 8571, '관음증': 8572, '관장': 8573, '관중': 8574, '광수': 8575, '광태': 8576, '광희': 8577, '괘씸하다': 8578, '괴리': 8579, '교': 8580, '교체': 8581, '교황': 8582, '구가': 8583, '구상': 8584, '구슬': 8585, '구시대': 8586, '구출': 8587, '구현': 8588, '국경': 8589, '군요': 8590, '권력자': 8591, '권위': 8592, '귀여웡': 8593, '규모': 8594, '그니까': 8595, '그따위': 8596, '그루지': 8597, '극명하다': 8598, '기고': 8599, '기념비': 8600, '기무라': 8601, '기일': 8602, '김갑수': 8603, '김병만': 8604, '김소현': 8605, '김씨': 8606, '김영애': 8607, '김지훈': 8608, '김해숙': 8609, '김현중': 8610, '까지와': 8611, '깜깜': 8612, '깡': 8613, '깡통': 8614, '깨물다': 8615, '껀데': 8616, '꼭꼭': 8617, '꼭지': 8618, '끗': 8619, '끝물': 8620, '끝없이': 8621, '끝임': 8622, '낌': 8623, '나락': 8624, '나부랭이': 8625, '나사': 8626, '나요': 8627, '낙태': 8628, '낙하산': 8629, '난뒤': 8630, '난생처음': 8631, '난정': 8632, '날때': 8633, '날뛰다': 8634, '남북': 8635, '내년': 8636, '내려놓다': 8637, '내뱉다': 8638, '냉장고': 8639, '너머': 8640, '넓히다': 8641, '넘김': 8642, '노리개': 8643, '노숙자': 8644, '노조미': 8645, '노처녀': 8646, '노트북': 8647, '논스톱': 8648, '눈시울': 8649, '뉘': 8650, '느릿하다': 8651, '니드': 8652, '니콜슨': 8653, '닝': 8654, '다사': 8655, '다작': 8656, '다잡다': 8657, '다툼': 8658, '단비': 8659, '단언': 8660, '단절': 8661, '달기': 8662, '달래다': 8663, '달려오다': 8664, '대보다': 8665, '대접': 8666, '대체로': 8667, '대회': 8668, '더구나': 8669, '더록': 8670, '더없이': 8671, '델피': 8672, '도신': 8673, '도적': 8674, '도주': 8675, '도착': 8676, '독재': 8677, '돌변': 8678, '돌아이': 8679, '돌파': 8680, '돌프': 8681, '동반': 8682, '동방신기': 8683, '동성': 8684, '둘러싸다': 8685, '드라이브': 8686, '드라큘라': 8687, '드루': 8688, '디스코': 8689, '디아': 8690, '딜레마': 8691, '따갑다': 8692, '따라다니다': 8693, '떄리다': 8694, '떡칠': 8695, '또렷하다': 8696, '똘끼': 8697, '똥덩어리': 8698, '똥칠': 8699, '뚝': 8700, '뜬구름': 8701, '라든가': 8702, '라이온킹': 8703, '라퓨타': 8704, '랏': 8705, '래미': 8706, '랫': 8707, '러블리': 8708, '런던': 8709, '레시라무': 8710, '레이저': 8711, '레지던트이블': 8712, '렌스': 8713, '로다주': 8714, '로더': 8715, '로멘틱': 8716, '로키': 8717, '로티': 8718, '루카스': 8719, '뤽': 8720, '뤽베송': 8721, '률': 8722, '리더십': 8723, '리딕': 8724, '리리': 8725, '리브스': 8726, '리안': 8727, '리즈중': 8728, '리카': 8729, '리키': 8730, '리틀': 8731, '릴': 8732, '마가': 8733, '마가렛': 8734, '마나': 8735, '마담': 8736, '마리옹': 8737, '마린': 8738, '마비': 8739, '마사': 8740, '마음껏': 8741, '마음대로': 8742, '마일': 8743, '마자': 8744, '마츠코': 8745, '마코': 8746, '막심': 8747, '만만하다': 8748, '만빵': 8749, '만일': 8750, '말론': 8751, '맘마미아': 8752, '맞짱': 8753, '매춘': 8754, '맨홀': 8755, '맹목': 8756, '맹물': 8757, '머신': 8758, '머임': 8759, '멀어지다': 8760, '멋쟁이': 8761, '메이퀸': 8762, '명계남': 8763, '몇십': 8764, '모성': 8765, '모시': 8766, '모조리': 8767, '몰락하다': 8768, '몰리다': 8769, '몰살': 8770, '몰카': 8771, '몽상가': 8772, '무릎팍': 8773, '무상': 8774, '무성의': 8775, '무심코': 8776, '무전': 8777, '무지막지': 8778, '무협지': 8779, '묶이다': 8780, '문란하다': 8781, '문소리': 8782, '물음': 8783, '뭉': 8784, '뮬란': 8785, '미개': 8786, '미끼': 8787, '미란다': 8788, '미세하다': 8789, '미신': 8790, '미자': 8791, '미쟝센': 8792, '미취': 8793, '미켈슨': 8794, '밀리': 8795, '밀양': 8796, '밀폐': 8797, '밋다': 8798, '밋밋': 8799, '밋었': 8800, '바란': 8801, '바론': 8802, '바스코': 8803, '박건형': 8804, '박근혜': 8805, '박성웅': 8806, '박세영': 8807, '박시후': 8808, '박은혜': 8809, '박재범': 8810, '박지성': 8811, '박차다': 8812, '박철민': 8813, '반란': 8814, '반함': 8815, '발달': 8816, '발라': 8817, '발버둥치다': 8818, '발현': 8819, '밥상': 8820, '방도': 8821, '방학': 8822, '밭': 8823, '배종옥': 8824, '배출': 8825, '배치': 8826, '백성현': 8827, '범죄물': 8828, '법적': 8829, '베르세르크': 8830, '베스타': 8831, '베트남전': 8832, '베풀다': 8833, '별도': 8834, '별루임': 8835, '보도': 8836, '보이스': 8837, '보태': 8838, '복고': 8839, '복수초': 8840, '복원': 8841, '볶다': 8842, '본보기': 8843, '봉작': 8844, '부러지다': 8845, '부문': 8846, '부상': 8847, '부어': 8848, '부잣집': 8849, '부제': 8850, '부질없다': 8851, '부처': 8852, '부패': 8853, '북극': 8854, '북미': 8855, '분다': 8856, '분발': 8857, '블레어': 8858, '비디오영화': 8859, '비디오테잎': 8860, '비범하다': 8861, '비상': 8862, '비서': 8863, '비아': 8864, '빌딩': 8865, '빌어': 8866, '빔': 8867, '빗대다': 8868, '빡': 8869, '뻘': 8870, '뿜': 8871, '사로잡히다': 8872, '사료': 8873, '사색': 8874, '사슴': 8875, '사이다': 8876, '사이먼': 8877, '사지': 8878, '삼각관계': 8879, '상가': 8880, '상류층': 8881, '생존자': 8882, '샤넬': 8883, '샬롯': 8884, '서린': 8885, '선샤인': 8886, '선조': 8887, '설다': 8888, '성스럽다': 8889, '성취': 8890, '세얼간이': 8891, '셀마': 8892, '소감': 8893, '소고기': 8894, '소송': 8895, '소시오패스': 8896, '소지': 8897, '손현주': 8898, '송': 8899, '송은채': 8900, '수꼴': 8901, '수동': 8902, '수리': 8903, '수상작': 8904, '수영장': 8905, '수의': 8906, '수출': 8907, '수치심': 8908, '수트': 8909, '순서': 8910, '순애보': 8911, '순풍': 8912, '숲속': 8913, '슈퍼카': 8914, '스멜': 8915, '스미다': 8916, '스완': 8917, '스웨덴': 8918, '스타트렉': 8919, '스턴트맨': 8920, '스트레이트': 8921, '스파이크': 8922, '슬': 8923, '슬랩': 8924, '시련': 8925, '시방': 8926, '시베리아': 8927, '시저': 8928, '시초': 8929, '식구': 8930, '신경질': 8931, '신사': 8932, '실비': 8933, '실현': 8934, '심리전': 8935, '심의': 8936, '싸대기': 8937, '쌩': 8938, '쑤시다': 8939, '쒯': 8940, '씨부리다': 8941, '씽': 8942, '아나콘다': 8943, '아따맘마': 8944, '아론': 8945, '아마존': 8946, '아메리칸파이': 8947, '아버님': 8948, '아베': 8949, '아우르다': 8950, '아이맥스': 8951, '아이스': 8952, '아이즈': 8953, '아이폰': 8954, '아작': 8955, '아찔하다': 8956, '악랄하다': 8957, '악순환': 8958, '안내상': 8959, '안이하다': 8960, '안재모': 8961, '알아듣다': 8962, '암담하다': 8963, '애물': 8964, '애하': 8965, '야마다': 8966, '야호': 8967, '양자경': 8968, '양쪽': 8969, '어나': 8970, '어느덧다': 8971, '어드벤쳐': 8972, '어따': 8973, '어리숙하다': 8974, '어짜피': 8975, '얼리다': 8976, '얼핏': 8977, '엇네': 8978, '에고': 8979, '에라도': 8980, '에르': 8981, '에스': 8982, '에스티': 8983, '에아': 8984, '에어컨': 8985, '에이스': 8986, '에프': 8987, '에필로그': 8988, '엘리샤': 8989, '엘프': 8990, '엠버': 8991, '여백': 8992, '여행가': 8993, '여호와': 8994, '역습': 8995, '역행': 8996, '연작': 8997, '연출가': 8998, '열쇠': 8999, '열폭': 9000, '염두': 9001, '였음': 9002, '영관': 9003, '영국영화': 9004, '예민하다': 9005, '예진': 9006, '옜날': 9007, '오렌지': 9008, '오분': 9009, '오스카': 9010, '오징어': 9011, '오케스트라': 9012, '오토': 9013, '오현민': 9014, '오호': 9015, '옥택연': 9016, '온주완': 9017, '올린다': 9018, '올슨': 9019, '왈': 9020, '왕년': 9021, '왕창': 9022, '외로워': 9023, '요다음': 9024, '요런': 9025, '요인': 9026, '요즈음': 9027, '욥': 9028, '용량': 9029, '용면': 9030, '욯': 9031, '우스': 9032, '우어': 9033, '우왕좌왕': 9034, '우우': 9035, '우치': 9036, '원더풀': 9037, '원망하다': 9038, '원수': 9039, '원츄': 9040, '월급': 9041, '웨어': 9042, '웩': 9043, '위장': 9044, '위조': 9045, '유니크': 9046, '유독': 9047, '유료': 9048, '유물': 9049, '유유': 9050, '유주': 9051, '유학': 9052, '유희왕': 9053, '윤': 9054, '윤재': 9055, '윤한': 9056, '으뜸': 9057, '은애': 9058, '은정': 9059, '음란': 9060, '음슴다': 9061, '음침하다': 9062, '읎드다': 9063, '응사': 9064, '의료': 9065, '의형제': 9066, '의혹': 9067, '이간': 9068, '이건모': 9069, '이기만': 9070, '이기우': 9071, '이대': 9072, '이덕화': 9073, '이두': 9074, '이듬': 9075, '이랑은': 9076, '이래저래': 9077, '이러다가': 9078, '이로': 9079, '이민자': 9080, '이사': 9081, '이성민': 9082, '이요': 9083, '이유리': 9084, '이준익': 9085, '이지현': 9086, '이필': 9087, '이해관계': 9088, '이홍기': 9089, '익살스럽다': 9090, '인육': 9091, '인조': 9092, '일그러지다': 9093, '일상생활': 9094, '일색': 9095, '일편': 9096, '임원희': 9097, '임은경': 9098, '임펙트': 9099, '자극시키다': 9100, '자도': 9101, '자락': 9102, '자멸': 9103, '작일': 9104, '작작하다': 9105, '장미여관': 9106, '장보리': 9107, '재목': 9108, '재밋엇다': 9109, '재밋었는데': 9110, '재해': 9111, '저그': 9112, '저수지': 9113, '저주받다': 9114, '전도': 9115, '전라': 9116, '전문성': 9117, '전병': 9118, '전원': 9119, '점령': 9120, '점줄': 9121, '정규': 9122, '정기': 9123, '정두홍': 9124, '정면': 9125, '정신분열': 9126, '정신분열증': 9127, '정신승리': 9128, '정신연령': 9129, '정자': 9130, '정조': 9131, '정치가': 9132, '정해': 9133, '정해진': 9134, '제기': 9135, '제트': 9136, '제프': 9137, '조만간': 9138, '조미': 9139, '조성하': 9140, '조여': 9141, '조형기': 9142, '조화롭다': 9143, '존시나': 9144, '졷': 9145, '종현': 9146, '좌익': 9147, '죄수': 9148, '주걸륜': 9149, '주니어': 9150, '주룩주룩': 9151, '주륵주륵': 9152, '주유소': 9153, '주일': 9154, '준놈': 9155, '줄줄이': 9156, '중국사람': 9157, '중화사상': 9158, '지모': 9159, '지식인': 9160, '지역감정': 9161, '지체': 9162, '지현': 9163, '직면': 9164, '진과': 9165, '진미': 9166, '질풍': 9167, '쩌네': 9168, '쩌리': 9169, '쪽박': 9170, '쫄깃': 9171, '참사': 9172, '참상': 9173, '채식': 9174, '책보': 9175, '처지': 9176, '처지다': 9177, '척척': 9178, '천둥': 9179, '천배': 9180, '천상': 9181, '천하다': 9182, '첨가': 9183, '첩혈쌍웅': 9184, '청불': 9185, '청초하다': 9186, '체제': 9187, '최신': 9188, '추모': 9189, '춥다': 9190, '충전': 9191, '치즈': 9192, '침착하다': 9193, '카렐': 9194, '카메라맨': 9195, '카터': 9196, '캐롤': 9197, '캐리비안': 9198, '캠프': 9199, '컨트롤': 9200, '컬트영화': 9201, '컴백': 9202, '케네디': 9203, '케이크': 9204, '케인': 9205, '코리아': 9206, '코비': 9207, '코스모스': 9208, '쿠퍼': 9209, '쿨': 9210, '쿵후': 9211, '퀼리티': 9212, '크레이지': 9213, '클로즈': 9214, '킨': 9215, '타락': 9216, '타르': 9217, '타카': 9218, '탁탁': 9219, '탈북자': 9220, '태민': 9221, '태평양': 9222, '테러범': 9223, '테스': 9224, '테오': 9225, '텔': 9226, '투명인간': 9227, '투철': 9228, '툭하면': 9229, '퉁': 9230, '튀어': 9231, '트리스탄': 9232, '트림': 9233, '특수부대': 9234, '특촬물': 9235, '티아': 9236, '티아라': 9237, '티켓': 9238, '틴토': 9239, '파국': 9240, '파란만장하다': 9241, '파이어': 9242, '판정': 9243, '팝스타': 9244, '패트레이버': 9245, '팬더': 9246, '페루': 9247, '편의점': 9248, '평보': 9249, '포뇨': 9250, '포도': 9251, '포맷': 9252, '포세이돈': 9253, '폴리스스토리': 9254, '푼': 9255, '프라': 9256, '프랑': 9257, '프랑스어': 9258, '프레임': 9259, '프로도': 9260, '프로스트': 9261, '피스': 9262, '피아니스트': 9263, '하드코어': 9264, '하염없이': 9265, '하와이': 9266, '하핡': 9267, '하희라': 9268, '학교폭력': 9269, '학도': 9270, '한그루': 9271, '한신': 9272, '한지훈': 9273, '한혜진': 9274, '항우': 9275, '해병': 9276, '해주시': 9277, '행오버': 9278, '허황': 9279, '헌터': 9280, '헐': 9281, '험담': 9282, '헤어스타일': 9283, '헬드': 9284, '혈': 9285, '혈액형': 9286, '호들갑': 9287, '호쾌': 9288, '호타루': 9289, '화끈': 9290, '화지': 9291, '확률': 9292, '환각': 9293, '환호': 9294, '황폐': 9295, '회때': 9296, '회피': 9297, '후세': 9298, '후우': 9299, '훗날': 9300, '휩쓸다': 9301, '흐릿': 9302, '흡혈귀': 9303, '희미하다': 9304, '히트치다': 9305, 'ㄱㄱㄱ': 9306, 'ㅉㅉㅉㅉ': 9307, 'ㅊ': 9308, 'ㅋㅎ': 9309, 'ㅍ': 9310, 'ㅎㄷㄷㄷ': 9311, 'ㅎㅎㅎㅎㅎㅎ': 9312, 'ㅏㅇ': 9313, 'ㅑ': 9314, 'ㅛ': 9315, 'ㅠㅠㅜ': 9316, '가라앉다': 9317, '가만': 9318, '가물': 9319, '가죽': 9320, '가지가지': 9321, '가톨릭': 9322, '가트': 9323, '간츠': 9324, '간통': 9325, '간혹': 9326, '갈기': 9327, '갈아입다': 9328, '감고': 9329, '갑옷': 9330, '강간범': 9331, '강대국': 9332, '강변': 9333, '강성재': 9334, '개간': 9335, '개늑시': 9336, '개수': 9337, '개입': 9338, '개취': 9339, '거늘': 9340, '거왜': 9341, '건의': 9342, '걸돈': 9343, '게머': 9344, '게속': 9345, '게으르다': 9346, '겨누': 9347, '격하': 9348, '견해': 9349, '결방': 9350, '결재': 9351, '겸손하다': 9352, '계륜미': 9353, '계몽': 9354, '계승': 9355, '계절': 9356, '고교': 9357, '고귀하다': 9358, '고니': 9359, '고대': 9360, '고모': 9361, '고스톱': 9362, '고시': 9363, '고아원': 9364, '고요한': 9365, '고충': 9366, '고풍': 9367, '고화질': 9368, '공권력': 9369, '공동': 9370, '공범': 9371, '공산주의': 9372, '공이': 9373, '공평하다': 9374, '공항': 9375, '과외': 9376, '곽경택': 9377, '관건': 9378, '관계없이': 9379, '관상': 9380, '관세음보살': 9381, '관용': 9382, '광녀': 9383, '광장': 9384, '괴짜': 9385, '구걸': 9386, '구마': 9387, '구석구석': 9388, '구애': 9389, '구제': 9390, '구축': 9391, '구태의연하다': 9392, '군상': 9393, '굽다': 9394, '권태': 9395, '귀로': 9396, '귀족': 9397, '귀타귀': 9398, '규칙': 9399, '그라드': 9400, '그러므로': 9401, '그루': 9402, '그릇되다': 9403, '그림판': 9404, '극화': 9405, '근대사': 9406, '근접하다': 9407, '근현대사': 9408, '글래머': 9409, '글렌': 9410, '글로버': 9411, '금전': 9412, '기광': 9413, '기구': 9414, '기네스': 9415, '기류': 9416, '기별': 9417, '기수': 9418, '기술자': 9419, '기인': 9420, '기지': 9421, '기키': 9422, '기타등등': 9423, '길냥이': 9424, '김동욱': 9425, '김민선': 9426, '김상중': 9427, '김선영': 9428, '김성수': 9429, '김연아': 9430, '김일성': 9431, '김지영': 9432, '김태훈': 9433, '김해': 9434, '김혜자': 9435, '깜빡': 9436, '깨달': 9437, '꺅': 9438, '껌': 9439, '껏음': 9440, '꼴랑': 9441, '꼴통': 9442, '꽂다': 9443, '꽤볼': 9444, '꽥': 9445, '꾸르잼': 9446, '끌어내리다': 9447, '나물': 9448, '나쁜사람': 9449, '나아': 9450, '나진': 9451, '낙제': 9452, '난리치다': 9453, '난민': 9454, '난하다': 9455, '날라리': 9456, '날수': 9457, '날아오다': 9458, '남구': 9459, '남궁민': 9460, '남일': 9461, '낭자': 9462, '낮잠': 9463, '내딸': 9464, '내전': 9465, '냉철하다': 9466, '네러티브': 9467, '네오': 9468, '네이션': 9469, '네트': 9470, '노망': 9471, '노트': 9472, '녹': 9473, '녹슬다': 9474, '놀이터': 9475, '놨다': 9476, '뇌구조': 9477, '뇌물': 9478, '누리': 9479, '뉘우치다': 9480, '느그': 9481, '느꼇다': 9482, '늠': 9483, '늦': 9484, '니지': 9485, '다듬어지다': 9486, '다리다': 9487, '다스': 9488, '다중인격': 9489, '닥터후': 9490, '달랑': 9491, '달리기': 9492, '달이': 9493, '달팽이': 9494, '답안': 9495, '대갈': 9496, '대성': 9497, '대일본제국': 9498, '대항': 9499, '댄싱': 9500, '댜': 9501, '더그': 9502, '데넘': 9503, '데이즈': 9504, '델': 9505, '도그빌': 9506, '도심': 9507, '도용': 9508, '도우': 9509, '도윤': 9510, '돈크라이마미': 9511, '돕기': 9512, '동심파괴': 9513, '동포': 9514, '동행': 9515, '두껍다': 9516, '둘러보다': 9517, '뒈지다': 9518, '뒷골목': 9519, '드라마영화': 9520, '드라마정': 9521, '드럼': 9522, '드팔마': 9523, '들러리': 9524, '들려오다': 9525, '딥블루씨': 9526, '딧': 9527, '딴다': 9528, '딴사람': 9529, '땡땡': 9530, '땡큐': 9531, '똥개': 9532, '똥파리': 9533, '라붐': 9534, '라오스': 9535, '라울': 9536, '랄라': 9537, '랍': 9538, '래그': 9539, '랜턴': 9540, '램': 9541, '램버트': 9542, '랭': 9543, '랭킹': 9544, '러시아워': 9545, '러시안': 9546, '럭': 9547, '럼': 9548, '레기': 9549, '레나': 9550, '레닌': 9551, '레먼': 9552, '레슬리': 9553, '레슬링': 9554, '레젼드': 9555, '레퀴엠': 9556, '로구나': 9557, '로멘': 9558, '로미오': 9559, '로프': 9560, '루비반지': 9561, '룰렛': 9562, '르노': 9563, '른': 9564, '리드': 9565, '리모컨': 9566, '리우': 9567, '리포트': 9568, '링크': 9569, '마구잡이': 9570, '마귀': 9571, '마리오': 9572, '마무': 9573, '마틸다': 9574, '만듭시': 9575, '만으론': 9576, '만주': 9577, '만회': 9578, '말걸': 9579, '말레나': 9580, '맛깔': 9581, '맞이': 9582, '매국노': 9583, '매수': 9584, '매직': 9585, '매춘부': 9586, '맨몸': 9587, '맴돌다': 9588, '머금': 9589, '머리털': 9590, '머릿': 9591, '먹어주다': 9592, '먹여주다': 9593, '멀더': 9594, '메르스': 9595, '메우다': 9596, '멜로드라마': 9597, '며느리': 9598, '멸종': 9599, '명과': 9600, '명함': 9601, '모텔': 9602, '목걸이': 9603, '목격': 9604, '목록': 9605, '목욕탕': 9606, '몰이': 9607, '몸소': 9608, '못난이': 9609, '몽롱': 9610, '무늬': 9611, '무사': 9612, '무성': 9613, '무수': 9614, '무스': 9615, '무지개': 9616, '무참': 9617, '문도': 9618, '문법': 9619, '물량': 9620, '물르다': 9621, '물음표': 9622, '뭍': 9623, '뭐시기': 9624, '므흣': 9625, '미나': 9626, '미미하다': 9627, '미소녀': 9628, '미쉘': 9629, '미저리': 9630, '미적': 9631, '미치광이': 9632, '민감하다': 9633, '민들레': 9634, '민망': 9635, '민비': 9636, '민율': 9637, '밀도': 9638, '밍': 9639, '밍숭맹숭': 9640, '바닐라': 9641, '바다로': 9642, '바랬는데': 9643, '바랬던': 9644, '바르뎀': 9645, '바이': 9646, '바퀴벌레': 9647, '바티칸': 9648, '박명수': 9649, '박준형': 9650, '박쥐': 9651, '박형식': 9652, '반대편': 9653, '반찬': 9654, '반한': 9655, '발광': 9656, '발굴': 9657, '발동': 9658, '발리': 9659, '발버둥': 9660, '발칙하다': 9661, '발판': 9662, '방관': 9663, '방문': 9664, '방한': 9665, '배경음': 9666, '배부르다': 9667, '배용준': 9668, '배움': 9669, '배창호': 9670, '배타': 9671, '백년': 9672, '백만배': 9673, '백발': 9674, '백성': 9675, '버니': 9676, '버릇': 9677, '버무린': 9678, '버스터': 9679, '버젓이': 9680, '버틀러': 9681, '버호벤': 9682, '벅스라이프': 9683, '번호': 9684, '베끼기': 9685, '베베': 9686, '베송': 9687, '베플': 9688, '벼': 9689, '변경': 9690, '변호': 9691, '병헌': 9692, '보관': 9693, '보급': 9694, '보디가드': 9695, '보완': 9696, '보정': 9697, '복습': 9698, '복장': 9699, '본전': 9700, '봉사': 9701, '봉인': 9702, '부도': 9703, '부릅뜨다': 9704, '부작용': 9705, '부패하다': 9706, '분노의질주': 9707, '분분': 9708, '불공평하다': 9709, '불능': 9710, '불만족': 9711, '불사신': 9712, '불쌍타': 9713, '불운': 9714, '불치': 9715, '불허': 9716, '붕대': 9717, '브라운': 9718, '브라운관': 9719, '브란도': 9720, '브랜드': 9721, '브레이': 9722, '브이': 9723, '블로그': 9724, '비견': 9725, '비도': 9726, '비보이': 9727, '비비안': 9728, '비수': 9729, '비웃음': 9730, '비장하다': 9731, '비정하다': 9732, '비평가': 9733, '빅풋': 9734, '빗나가다': 9735, '빠뜨리다': 9736, '빠져듭니': 9737, '빨치산': 9738, '뻗다': 9739, '뻘짓': 9740, '뿜었다': 9741, '삐뚤어지다': 9742, '사단': 9743, '사들이다': 9744, '사먹다': 9745, '사병': 9746, '사보다': 9747, '사이렌': 9748, '사죄': 9749, '사주다': 9750, '사키': 9751, '사토': 9752, '사회생활': 9753, '삭': 9754, '산영': 9755, '살의': 9756, '삼십분': 9757, '상병': 9758, '상일': 9759, '상하이': 9760, '상향': 9761, '상호': 9762, '색즉시공': 9763, '생겨나다': 9764, '생계': 9765, '생물': 9766, '생전': 9767, '서구': 9768, '서두': 9769, '서막': 9770, '서요': 9771, '서인': 9772, '서준이': 9773, '서투르다': 9774, '서현': 9775, '선량하다': 9776, '선보이다': 9777, '선비': 9778, '선장': 9779, '선진국': 9780, '설사': 9781, '설원': 9782, '섭섭하다': 9783, '성당': 9784, '성범죄': 9785, '성숙': 9786, '성실하다': 9787, '성준': 9788, '성추행': 9789, '성행위': 9790, '세기말': 9791, '세도': 9792, '세인': 9793, '셔': 9794, '소나': 9795, '소나기': 9796, '소설가': 9797, '소수자': 9798, '소울': 9799, '소음': 9800, '소이현': 9801, '소주': 9802, '소파': 9803, '손병호': 9804, '손톱': 9805, '솟다': 9806, '송일국': 9807, '쇼생크탈출': 9808, '쇼타': 9809, '쇼핑': 9810, '수두': 9811, '수려': 9812, '수목드라마': 9813, '수박': 9814, '수사극': 9815, '수상한': 9816, '수채화': 9817, '수현': 9818, '숙청': 9819, '순금': 9820, '순도': 9821, '순전하다': 9822, '숟가락': 9823, '술집': 9824, '술해': 9825, '숨소리': 9826, '숭배': 9827, '쉴드': 9828, '슈타게': 9829, '슈퍼히어로': 9830, '스너프': 9831, '스럽지도': 9832, '스미스': 9833, '스카이폴': 9834, '스크린쿼터': 9835, '스타크래프트': 9836, '스태프': 9837, '스톰': 9838, '스팅': 9839, '스파게티': 9840, '스팩': 9841, '슬램덩크': 9842, '슬링': 9843, '슬쩍': 9844, '습하다': 9845, '시각장애인': 9846, '시야': 9847, '시오': 9848, '시온': 9849, '시큰둥하다': 9850, '식민지': 9851, '신라': 9852, '신성하다': 9853, '신용카드': 9854, '실로': 9855, '실전': 9856, '실질': 9857, '실행': 9858, '심사평': 9859, '심쿵': 9860, '십자가': 9861, '싱그럽다': 9862, '쌩뚱': 9863, '썰다': 9864, '썻': 9865, '쏠때': 9866, '쏠리다': 9867, '쏠쏠': 9868, '쓰라리다': 9869, '쓰시': 9870, '씨엔블루': 9871, '아귀': 9872, '아낌없이': 9873, '아나킨': 9874, '아랍': 9875, '아름': 9876, '아리아': 9877, '아무런': 9878, '아악': 9879, '아앙': 9880, '아우라': 9881, '아이구': 9882, '아이스크림': 9883, '아키': 9884, '아톰': 9885, '악덕': 9886, '악플달다': 9887, '안봣': 9888, '안전하다': 9889, '안햇': 9890, '알라딘': 9891, '알리시아': 9892, '알몸': 9893, '알반': 9894, '알아채다': 9895, '알트': 9896, '알포인트': 9897, '암투': 9898, '애교': 9899, '애국자': 9900, '애니메': 9901, '애니메이션영화': 9902, '액숀': 9903, '야기': 9904, '야망': 9905, '야설': 9906, '야인시대': 9907, '약혼자': 9908, '얀': 9909, '양다리': 9910, '양성': 9911, '어감': 9912, '어바웃타임': 9913, '어벤저스': 9914, '어부': 9915, '억양': 9916, '언스': 9917, '얻어맞다': 9918, '업자': 9919, '업적': 9920, '엇으': 9921, '에두': 9922, '에미': 9923, '에반스': 9924, '엔딩씬': 9925, '엘리': 9926, '엠마뉴엘': 9927, '엠마왓슨': 9928, '여대생': 9929, '여요': 9930, '여우주연상': 9931, '여울': 9932, '역도산': 9933, '역류': 9934, '연가시': 9935, '연금술사': 9936, '연기대상': 9937, '연도': 9938, '연산군': 9939, '연약하다': 9940, '연연하다': 9941, '연우진': 9942, '연재': 9943, '연하다': 9944, '연합': 9945, '열중': 9946, '영드': 9947, '영자': 9948, '영채': 9949, '영화개봉': 9950, '영화포스터': 9951, '옇': 9952, '오경': 9953, '오른쪽': 9954, '오리엔탈리즘': 9955, '오맹달': 9956, '오바이트': 9957, '오션스': 9958, '오염': 9959, '오오오': 9960, '오피스': 9961, '온라인': 9962, '올리비아': 9963, '왓츠': 9964, '왕가네': 9965, '왕건': 9966, '왜그러지': 9967, '왜냐면': 9968, '왜색': 9969, '외딴': 9970, '외전': 9971, '요기': 9972, '요시': 9973, '욕함': 9974, '용어': 9975, '우결': 9976, '우리동네': 9977, '우리엄마': 9978, '우릴': 9979, '우승자': 9980, '우연이': 9981, '우좀': 9982, '운석': 9983, '울렁거리다': 9984, '울트라맨': 9985, '울화통': 9986, '웃음소리': 9987, '원본': 9988, '원소': 9989, '원장': 9990, '원투': 9991, '월광보합': 9992, '웠': 9993, '웨': 9994, '위버': 9995, '위험성': 9996, '윈': 9997, '유기견': 9998, '유년기': 9999, '유다': 10000, '유다인': 10001, '유두': 10002, '유심': 10003, '유치뽕': 10004, '유효하다': 10005, '윤두준': 10006, '윤진서': 10007, '윤찬': 10008, '윤하': 10009, '으로라도': 10010, '으이': 10011, '은색': 10012, '은수': 10013, '읎': 10014, '의대': 10015, '의사소통': 10016, '의왕': 10017, '의천도룡기': 10018, '이거지': 10019, '이기전': 10020, '이다해': 10021, '이명세': 10022, '이목': 10023, '이무영': 10024, '이수': 10025, '이승환': 10026, '이씨': 10027, '이어진': 10028, '이어폰': 10029, '이역': 10030, '이영': 10031, '이영애': 10032, '이응경': 10033, '이자스민': 10034, '이종수': 10035, '이주': 10036, '이지훈': 10037, '이화영': 10038, '익숙': 10039, '인과': 10040, '인신매매': 10041, '인심': 10042, '일곱': 10043, '일라이': 10044, '일본군': 10045, '일수록': 10046, '일어': 10047, '일제시대': 10048, '일종': 10049, '일체': 10050, '있슴': 10051, '자금': 10052, '자루': 10053, '자리다': 10054, '자문': 10055, '자서': 10056, '자연재해': 10057, '자유의지': 10058, '자평': 10059, '자화상': 10060, '작곡': 10061, '작도': 10062, '잔인성': 10063, '잘라먹다': 10064, '잘추다': 10065, '잠도': 10066, '잡기': 10067, '장구': 10068, '장남': 10069, '장례식': 10070, '장모님': 10071, '장악': 10072, '잦다': 10073, '재롱': 10074, '재밋구': 10075, '재밋습니': 10076, '재밋었다': 10077, '재산': 10078, '재연배우': 10079, '재일교포': 10080, '재정': 10081, '저가': 10082, '저장': 10083, '저항': 10084, '적벽대전': 10085, '적인걸': 10086, '적지': 10087, '전기톱': 10088, '전날': 10089, '전남편': 10090, '전대물': 10091, '전략': 10092, '전력': 10093, '전복': 10094, '전수': 10095, '전신': 10096, '전우': 10097, '전인': 10098, '전장': 10099, '전투력': 10100, '전현무': 10101, '전화기': 10102, '점때': 10103, '점철': 10104, '점퍼': 10105, '정말루': 10106, '정신차려라': 10107, '정용화': 10108, '정은': 10109, '정정': 10110, '정준': 10111, '정찬': 10112, '정해지다': 10113, '제때': 10114, '제안': 10115, '제약': 10116, '제임스딘': 10117, '제자리': 10118, '제주': 10119, '제타': 10120, '제타존스': 10121, '젝키': 10122, '젠토': 10123, '젤로': 10124, '젬': 10125, '조문탁': 10126, '조센징': 10127, '조엘': 10128, '조율': 10129, '조정석': 10130, '조제': 10131, '존멋': 10132, '존박': 10133, '존엄성': 10134, '졸지': 10135, '종로': 10136, '종범': 10137, '좌충우돌': 10138, '좔좔': 10139, '죠낸': 10140, '죨': 10141, '죵': 10142, '주고받다': 10143, '주둥이': 10144, '주드로': 10145, '주랑': 10146, '주마': 10147, '주부': 10148, '주소': 10149, '주식회사': 10150, '줄곧': 10151, '줏대': 10152, '중고': 10153, '중동': 10154, '중복': 10155, '중생': 10156, '중세시대': 10157, '쥐뿔': 10158, '쥬리': 10159, '증폭': 10160, '지갑': 10161, '지난날': 10162, '지면': 10163, '지붕': 10164, '지오': 10165, '지자': 10166, '지지리': 10167, '지탱': 10168, '지혜': 10169, '직시': 10170, '진동': 10171, '진실로': 10172, '진찌': 10173, '집념': 10174, '짜임': 10175, '쨔응': 10176, '쩌는듯': 10177, '쪼': 10178, '쪼가리': 10179, '쪼개다': 10180, '쫄딱': 10181, '찍지마라': 10182, '차기': 10183, '차로': 10184, '차안': 10185, '차오르다': 10186, '차이나다': 10187, '차카': 10188, '착륙': 10189, '착취': 10190, '찬열': 10191, '찮아다': 10192, '찰': 10193, '찰나': 10194, '참가': 10195, '참전': 10196, '창피해': 10197, '채원': 10198, '처가': 10199, '처녀': 10200, '처단': 10201, '처자': 10202, '처키': 10203, '처형': 10204, '천공': 10205, '철수': 10206, '청산': 10207, '청소': 10208, '청소년기': 10209, '청순': 10210, '청승': 10211, '체스': 10212, '체크': 10213, '초강추': 10214, '초상': 10215, '초원': 10216, '최다니엘': 10217, '최상급': 10218, '최영': 10219, '최원영': 10220, '최진혁': 10221, '추노': 10222, '추리물': 10223, '추리소설': 10224, '추적자': 10225, '추측': 10226, '출산': 10227, '충남': 10228, '취한': 10229, '측': 10230, '측은하다': 10231, '치네다': 10232, '칠레': 10233, '칭': 10234, '칭송': 10235, '카지노': 10236, '카톨릭': 10237, '칸타빌레': 10238, '칼부림': 10239, '캐빈': 10240, '캠코더': 10241, '캡': 10242, '케시': 10243, '켜': 10244, '코타': 10245, '코프': 10246, '콕콕': 10247, '콘': 10248, '콜라': 10249, '콧수염': 10250, '콩콩콩': 10251, '쾅': 10252, '쿵푸허슬': 10253, '퀄러티': 10254, '크레이븐': 10255, '크리스챤': 10256, '크리처': 10257, '클론': 10258, '킬러조': 10259, '타격': 10260, '타샤': 10261, '타의': 10262, '타임캡슐': 10263, '타지': 10264, '타쿠야': 10265, '타파': 10266, '탁하다': 10267, '탈레반': 10268, '탈주': 10269, '탈피': 10270, '탑기어': 10271, '태극권': 10272, '태평': 10273, '터닝': 10274, '터키': 10275, '턴': 10276, '텅': 10277, '테두리': 10278, '테츠': 10279, '토지': 10280, '통증': 10281, '통편집': 10282, '통화': 10283, '퇴색': 10284, '트랙': 10285, '트로이': 10286, '트로트': 10287, '트롤': 10288, '트릴로지': 10289, '특권': 10290, '튼튼하다': 10291, '틀림': 10292, '티남': 10293, '파업': 10294, '파오': 10295, '파장': 10296, '파쿠르': 10297, '패티': 10298, '퍼시픽림': 10299, '폐기물': 10300, '포레스트': 10301, '포로': 10302, '포선': 10303, '포토': 10304, '포항': 10305, '포효': 10306, '폭격': 10307, '폭도': 10308, '폭망': 10309, '폭스': 10310, '폭팔': 10311, '폭풍우': 10312, '폭행': 10313, '폴리스': 10314, '표기': 10315, '푸른거탑': 10316, '푸욱': 10317, '품격': 10318, '풍요': 10319, '퓨리': 10320, '프라임': 10321, '프로파간다': 10322, '프로포즈': 10323, '프로필': 10324, '피나': 10325, '피리': 10326, '피셔': 10327, '피의자': 10328, '피지': 10329, '피해망상': 10330, '필사': 10331, '필요성': 10332, '필자': 10333, '하래': 10334, '하룻밤': 10335, '하워드': 10336, '하의': 10337, '하향': 10338, '학벌': 10339, '한가득': 10340, '한나라': 10341, '한스': 10342, '한자리': 10343, '한치': 10344, '할렐루야': 10345, '할로윈': 10346, '할머님': 10347, '할인': 10348, '합성': 10349, '해골': 10350, '해명': 10351, '햇빛': 10352, '허비': 10353, '허상': 10354, '허접스럽다': 10355, '헌터헌터': 10356, '헐리우드영화': 10357, '헐킈': 10358, '헛된': 10359, '헝거게임': 10360, '헤더': 10361, '헿': 10362, '현자': 10363, '협주곡': 10364, '호기': 10365, '호수': 10366, '호호': 10367, '혼혈': 10368, '홀': 10369, '홈즈': 10370, '홍길동': 10371, '홍수': 10372, '홍은희': 10373, '화산': 10374, '화성': 10375, '화소': 10376, '화전': 10377, '환하다': 10378, '황우슬혜': 10379, '황혼': 10380, '회원': 10381, '횟수': 10382, '횡포': 10383, '효언니': 10384, '효율': 10385, '후려치다': 10386, '후리다': 10387, '휴대폰': 10388, '휴지통': 10389, '흙': 10390, '흠칫': 10391, '흥신소': 10392, '희귀': 10393, '히데': 10394, '히든싱어': 10395, 'ㄲㅈ': 10396, 'ㅁㅇ': 10397, 'ㅂㄷㅂㄷ': 10398, 'ㅇㄴ': 10399, 'ㅇㅇㅇㅇ': 10400, 'ㅇㅏ': 10401, 'ㅈㅁ': 10402, 'ㅈㅅ': 10403, 'ㅋㅋㄱ': 10404, 'ㅋㅋㅋㅋㅋㅋㅋㅋㅋㅋㅋㅋㅋㅋㅋㅋㅋㅋㅋ': 10405, 'ㅋㅋㅋㅋㅋㅋㅋㅋㅋㅋㅋㅋㅋㅋㅋㅋㅋㅋㅋㅋㅋㅋ': 10406, 'ㅓㅇ': 10407, 'ㅗㅗ': 10408, 'ㅜㅡㅜ': 10409, 'ㅠㅜㅠ': 10410, 'ㅡㅡㅡ': 10411, '가감': 10412, '가구': 10413, '가량': 10414, '가선': 10415, '가업': 10416, '가엾다': 10417, '가의': 10418, '가입': 10419, '가제': 10420, '가주': 10421, '가중': 10422, '가출': 10423, '각도': 10424, '각선미': 10425, '간간이': 10426, '간극': 10427, '간디': 10428, '간략하다': 10429, '간반': 10430, '갈기갈기': 10431, '갈릴': 10432, '갈아': 10433, '감염': 10434, '감임': 10435, '감지덕지': 10436, '갑지': 10437, '강림': 10438, '강호': 10439, '개독교': 10440, '개드립': 10441, '개비': 10442, '개살구': 10443, '개욕': 10444, '개이득': 10445, '개중': 10446, '개지': 10447, '거때매': 10448, '거룩하다': 10449, '건전': 10450, '건축학개론': 10451, '걷어차다': 10452, '검찰': 10453, '것일': 10454, '것좀': 10455, '게살': 10456, '게이물': 10457, '겨루다': 10458, '격추': 10459, '견줄': 10460, '견줄만': 10461, '결승': 10462, '결점': 10463, '경종': 10464, '경주': 10465, '곁들이다': 10466, '계곡': 10467, '계란': 10468, '계백': 10469, '계속계속': 10470, '계열': 10471, '계집': 10472, '고경표': 10473, '고다르': 10474, '고달프다': 10475, '고독감': 10476, '고딕': 10477, '고립': 10478, '고삐': 10479, '고스트라이더': 10480, '고약하다': 10481, '고어영화': 10482, '고연': 10483, '고요하다': 10484, '고위': 10485, '고은정': 10486, '고종': 10487, '고참': 10488, '골로': 10489, '골목': 10490, '곰곰하다': 10491, '곰탕': 10492, '공급': 10493, '공블리': 10494, '공신': 10495, '과속': 10496, '과시': 10497, '관도': 10498, '관료': 10499, '관통': 10500, '괄호': 10501, '광활하다': 10502, '괴로움': 10503, '교류': 10504, '교복': 10505, '교실': 10506, '교육영화': 10507, '교장': 10508, '구먼': 10509, '구인': 10510, '구타': 10511, '국비': 10512, '국영': 10513, '국장': 10514, '군데군데': 10515, '굵직하다': 10516, '권유': 10517, '권태기': 10518, '귀염': 10519, '규리': 10520, '규정': 10521, '그남자': 10522, '그늘': 10523, '그래비티': 10524, '그램': 10525, '그러기에': 10526, '그리스도인': 10527, '그었다': 10528, '그해': 10529, '극악': 10530, '근무': 10531, '근처': 10532, '글리': 10533, '글쎼': 10534, '금융': 10535, '긔': 10536, '기껏': 10537, '기담': 10538, '기량': 10539, '기면': 10540, '기미': 10541, '기복': 10542, '기생': 10543, '기억상실증': 10544, '기울이다': 10545, '기획사': 10546, '길예르모': 10547, '김두영': 10548, '김삼순': 10549, '김서형': 10550, '김예림': 10551, '김유미': 10552, '김재중': 10553, '김정일': 10554, '김정태': 10555, '김태우': 10556, '김혜선': 10557, '김흥수': 10558, '까발리다': 10559, '깝깝': 10560, '깨금이': 10561, '꺄악': 10562, '꼬띠': 10563, '꼬박': 10564, '꼬임': 10565, '꼴값': 10566, '꿀잠': 10567, '꿈틀': 10568, '끄덕': 10569, '나가요': 10570, '나란하다': 10571, '나루': 10572, '나야': 10573, '나영석': 10574, '나이스': 10575, '나타': 10576, '낚는': 10577, '낚일': 10578, '난데없이': 10579, '난왜': 10580, '난쟁이': 10581, '남극': 10582, '남기남': 10583, '남장': 10584, '남탓': 10585, '내레이션': 10586, '내쉬다': 10587, '넌센스': 10588, '넝쿨당': 10589, '네드': 10590, '네일': 10591, '넬슨': 10592, '넴': 10593, '년놈': 10594, '년월': 10595, '년차': 10596, '노노': 10597, '노동': 10598, '노래방': 10599, '노시': 10600, '노친': 10601, '노크': 10602, '노파': 10603, '노희경': 10604, '놀림': 10605, '농촌': 10606, '놓이다': 10607, '누명': 10608, '눈망울': 10609, '느긋하다': 10610, '느닷없다': 10611, '능력자': 10612, '능욕': 10613, '늬': 10614, '니노': 10615, '닐슨': 10616, '다도': 10617, '다르덴': 10618, '다미': 10619, '다분': 10620, '다욕': 10621, '다이빙': 10622, '다정': 10623, '다코타': 10624, '다큐맨': 10625, '단발': 10626, '단숨': 10627, '닫히다': 10628, '닭털': 10629, '담론': 10630, '답변': 10631, '당사자': 10632, '대개': 10633, '대량': 10634, '대망': 10635, '대여': 10636, '대응': 10637, '대자연': 10638, '대종상': 10639, '대충대충': 10640, '대풍수': 10641, '대하드라마': 10642, '댕': 10643, '더욱이': 10644, '더파이팅': 10645, '덕지덕지': 10646, '덤앤더머': 10647, '덧붙이다': 10648, '덩이': 10649, '데모': 10650, '데미안': 10651, '데이비스': 10652, '데일': 10653, '덱스터': 10654, '덴마크': 10655, '뎌': 10656, '도난': 10657, '도마': 10658, '도성': 10659, '도제': 10660, '독립운동': 10661, '독일인': 10662, '돈벌이': 10663, '돌려차기': 10664, '돌보다': 10665, '돼지고기': 10666, '되찾다': 10667, '됴': 10668, '두사부일체': 10669, '두텁다': 10670, '둠스데이': 10671, '드리프트': 10672, '들썩이다': 10673, '등골': 10674, '디도': 10675, '딴판': 10676, '땅콩': 10677, '땅크': 10678, '또래': 10679, '똘': 10680, '똥통': 10681, '뚜껑': 10682, '뛰어들다': 10683, '뛰어오다': 10684, '띄엄': 10685, '라니깐': 10686, '라만': 10687, '라스베가스': 10688, '라이어': 10689, '라이언킹': 10690, '라즈베리': 10691, '랍니': 10692, '랑께': 10693, '러브신': 10694, '러시아어': 10695, '렁': 10696, '레오네': 10697, '레이크': 10698, '레지던트': 10699, '렵니': 10700, '로드리게스': 10701, '로메': 10702, '로보트': 10703, '로비': 10704, '로스': 10705, '로얄': 10706, '로즈': 10707, '로켓': 10708, '로페즈': 10709, '롤링': 10710, '롯': 10711, '롹': 10712, '루팡': 10713, '루프': 10714, '룬드': 10715, '룸': 10716, '리다': 10717, '리스크': 10718, '리신': 10719, '리즈위더스푼': 10720, '리즘': 10721, '리코': 10722, '마고': 10723, '마네': 10724, '마미': 10725, '마샬': 10726, '마술사': 10727, '마시기': 10728, '마야': 10729, '마음씨': 10730, '마이애미': 10731, '마이클잭슨': 10732, '마인': 10733, '마크로스': 10734, '마티': 10735, '막걸리': 10736, '막론': 10737, '막방': 10738, '막부': 10739, '만끽': 10740, '만년': 10741, '만사': 10742, '만족도': 10743, '말고도': 10744, '말빨': 10745, '말씀드리다': 10746, '말좀': 10747, '말초신경': 10748, '말타': 10749, '맘껏': 10750, '망햇': 10751, '매도': 10752, '맥아담스': 10753, '맥아더': 10754, '맨손': 10755, '맵다': 10756, '맹세': 10757, '맹인': 10758, '맹탕': 10759, '머겅다': 10760, '머꼬': 10761, '머시': 10762, '멍청': 10763, '메기': 10764, '메시': 10765, '메이커': 10766, '메일': 10767, '멜라': 10768, '면목': 10769, '명감': 10770, '명탐정': 10771, '모기': 10772, '모네': 10773, '모녀': 10774, '모양새': 10775, '모에': 10776, '목요일': 10777, '못내': 10778, '몽땅': 10779, '뫼비우스': 10780, '무감각': 10781, '무거': 10782, '무교': 10783, '무뇌': 10784, '무라카미': 10785, '무렵': 10786, '무례하다': 10787, '무신': 10788, '무쌍': 10789, '무자비하다': 10790, '무책임': 10791, '무크': 10792, '묵묵하다': 10793, '문답': 10794, '문의': 10795, '미나토': 10796, '미니시리즈': 10797, '미스김': 10798, '미우라': 10799, '미움': 10800, '미져리': 10801, '미처': 10802, '미카엘': 10803, '미호': 10804, '미흡': 10805, '민국': 10806, '민정': 10807, '밋엇': 10808, '밑에님': 10809, '바바라': 10810, '바임': 10811, '바지': 10812, '바티스타': 10813, '박민영': 10814, '박시은': 10815, '박영선': 10816, '박정민': 10817, '박정아': 10818, '박하사탕': 10819, '박하선': 10820, '박해진': 10821, '반고흐': 10822, '반올림': 10823, '반짝이다': 10824, '반환': 10825, '발광하다': 10826, '발리우드': 10827, '발사': 10828, '발언': 10829, '발자국': 10830, '발작': 10831, '밨': 10832, '방구': 10833, '방귀': 10834, '방망이': 10835, '방안': 10836, '방콕': 10837, '배경인': 10838, '배기': 10839, '배리': 10840, '백설공주': 10841, '백원': 10842, '백윤식': 10843, '백치': 10844, '백혈병': 10845, '뱃속': 10846, '버디무비': 10847, '버려지다': 10848, '번더': 10849, '번뜩이다': 10850, '벌겋다': 10851, '범수': 10852, '범주': 10853, '벗겨지다': 10854, '베가': 10855, '베로니카': 10856, '베이컨': 10857, '베인': 10858, '벼랑': 10859, '변종': 10860, '병기': 10861, '병실': 10862, '병장': 10863, '보나마나': 10864, '보라색': 10865, '보안관': 10866, '보이즈': 10867, '복구': 10868, '복사': 10869, '복수심': 10870, '복지': 10871, '복합': 10872, '볼떄': 10873, '볼타': 10874, '볼트': 10875, '봉만대': 10876, '봣더': 10877, '부끄러움': 10878, '부녀': 10879, '부다페스트': 10880, '부당하다': 10881, '부라': 10882, '부릉부릉': 10883, '부서지다': 10884, '부시맨': 10885, '부업': 10886, '부위': 10887, '북받치다': 10888, '분과': 10889, '분리수거': 10890, '분통': 10891, '분해': 10892, '불안감': 10893, '불안정하다': 10894, '불의': 10895, '불쾌감': 10896, '불협화음': 10897, '붙여넣기': 10898, '뷰티풀': 10899, '브라더스': 10900, '브라스': 10901, '브렌': 10902, '브로': 10903, '브로드웨이': 10904, '블랙홀': 10905, '블룸': 10906, '비감': 10907, '비고': 10908, '비글': 10909, '비단': 10910, '비례': 10911, '비밥': 10912, '비버': 10913, '비법': 10914, '비비': 10915, '비상구': 10916, '비엘': 10917, '비인간': 10918, '비키': 10919, '비화': 10920, '빈자리': 10921, '빙': 10922, '빛과': 10923, '빠져나가다': 10924, '빠져듬': 10925, '빨강': 10926, '뻥튀기': 10927, '뼈대': 10928, '사가다': 10929, '사냥꾼': 10930, '사담': 10931, '사도세자': 10932, '사망유희': 10933, '사발': 10934, '사부': 10935, '사십': 10936, '사카모토': 10937, '사토미': 10938, '사항': 10939, '산부인과': 10940, '산책': 10941, '살다보면': 10942, '살라': 10943, '살펴보다': 10944, '상반': 10945, '상수': 10946, '상적': 10947, '상콤': 10948, '상혁': 10949, '새미': 10950, '새옹지마': 10951, '색안경': 10952, '색휘': 10953, '생겻': 10954, '생물학': 10955, '생방': 10956, '생쇼': 10957, '생인': 10958, '샤룩': 10959, '샵': 10960, '서남': 10961, '서든': 10962, '서영이': 10963, '서운하다': 10964, '서퍼': 10965, '선거': 10966, '선고': 10967, '선덕여왕': 10968, '선라이즈': 10969, '선셋': 10970, '선의': 10971, '선지': 10972, '선호': 10973, '선희': 10974, '설국열차': 10975, '설탕': 10976, '섬기다': 10977, '성경책': 10978, '성괴': 10979, '성매매': 10980, '성별': 10981, '성소수자': 10982, '성우진': 10983, '성지': 10984, '성희롱': 10985, '세르': 10986, '세미': 10987, '세바스찬': 10988, '세바퀴': 10989, '세영': 10990, '세자': 10991, '세탁소': 10992, '섹': 10993, '섹슈얼': 10994, '센터': 10995, '셰익스피어': 10996, '소굴': 10997, '소멸': 10998, '소명': 10999, '소속사': 11000, '소스코드': 11001, '소식': 11002, '소아': 11003, '소오강호': 11004, '소이': 11005, '소제': 11006, '소피아': 11007, '속성': 11008, '손길': 11009, '손대다': 11010, '손바닥': 11011, '송종국': 11012, '송해성': 11013, '수명': 11014, '수백향': 11015, '수상': 11016, '수시로': 11017, '수신료': 11018, '수요': 11019, '수요일': 11020, '수장': 11021, '수첩': 11022, '수탈': 11023, '수호지': 11024, '수확': 11025, '숙연': 11026, '숙이다': 11027, '순영': 11028, '숨결': 11029, '숨기': 11030, '숫': 11031, '숭숭': 11032, '쉐': 11033, '쉐프': 11034, '쉰들러리스트': 11035, '슈마허': 11036, '스나이퍼': 11037, '스마트': 11038, '스모': 11039, '스카': 11040, '스카이라인': 11041, '스컬리': 11042, '스타덤': 11043, '스트': 11044, '스트리트': 11045, '스티치': 11046, '스파이키드': 11047, '슬펏다': 11048, '슬하': 11049, '승기': 11050, '승전': 11051, '승질': 11052, '승희': 11053, '시공': 11054, '시구': 11055, '시나리오작가': 11056, '시네마천국': 11057, '시댁': 11058, '시라노': 11059, '시발': 11060, '시에나': 11061, '시월애': 11062, '시인': 11063, '시종': 11064, '시행': 11065, '식사': 11066, '식욕': 11067, '식탁': 11068, '식히다': 11069, '신가': 11070, '신문': 11071, '신밧드': 11072, '신보라': 11073, '신설': 11074, '신임': 11075, '신주아': 11076, '실마리': 11077, '실재': 11078, '실험영화': 11079, '심란하다': 11080, '심리학': 11081, '심장마비': 11082, '심해지다': 11083, '십여': 11084, '쌔': 11085, '쌩쇼': 11086, '썬더': 11087, '쏠': 11088, '쓰다듬다': 11089, '쓰레긴데': 11090, '씌': 11091, '씨쥐': 11092, '씬시티': 11093, '아가리': 11094, '아까버': 11095, '아낌없다': 11096, '아릅답': 11097, '아사': 11098, '아슬아슬하다': 11099, '아웅': 11100, '아티스트': 11101, '악동': 11102, '악물다': 11103, '악수': 11104, '악질': 11105, '안길': 11106, '안드레이': 11107, '안부': 11108, '안일하다': 11109, '안재욱': 11110, '안중': 11111, '알란': 11112, '알랭들롱': 11113, '알렉산더': 11114, '암세포': 11115, '압구정': 11116, '앞날': 11117, '애나벨': 11118, '애드리언': 11119, '애뜻': 11120, '애란': 11121, '애원': 11122, '애자': 11123, '애정결핍': 11124, '애증': 11125, '애플렉': 11126, '앳킨슨': 11127, '앵앵거리다': 11128, '야곱': 11129, '얌': 11130, '양면': 11131, '양수빈': 11132, '어딘': 11133, '어린이날': 11134, '어릴떄': 11135, '어머님': 11136, '어미': 11137, '어버버': 11138, '어젯밤': 11139, '어쩌자': 11140, '어쩐': 11141, '어흑': 11142, '언플': 11143, '얼빠지다': 11144, '얼씬': 11145, '업무': 11146, '업보': 11147, '업체': 11148, '엇습': 11149, '에까지': 11150, '에라곤': 11151, '에로스': 11152, '에서가': 11153, '에서까지': 11154, '에서조차': 11155, '에코': 11156, '에헤': 11157, '엑기스': 11158, '엔돌핀': 11159, '엣지': 11160, '여겨지다': 11161, '여덟': 11162, '여름방학': 11163, '여민정': 11164, '역사관': 11165, '연기면': 11166, '연쇄': 11167, '연쇄살인': 11168, '연수': 11169, '연습생': 11170, '연신': 11171, '연씨': 11172, '연우': 11173, '연줄': 11174, '열심': 11175, '영문': 11176, '영화롭다': 11177, '예견': 11178, '예기': 11179, '예비군': 11180, '예뻣다': 11181, '예스': 11182, '오노': 11183, '오늘이': 11184, '오드리햅번': 11185, '오르가즘': 11186, '오산': 11187, '오스틴': 11188, '오자룡': 11189, '오죽': 11190, '오차': 11191, '옥토': 11192, '온돌': 11193, '옵': 11194, '완치': 11195, '왈가': 11196, '왈칵': 11197, '왕좌': 11198, '왕팬': 11199, '요건': 11200, '요동치다': 11201, '요별': 11202, '요부': 11203, '요요': 11204, '요전': 11205, '요조': 11206, '요한': 11207, '요호': 11208, '욜': 11209, '용구성': 11210, '용소': 11211, '용암': 11212, '용임': 11213, '우도': 11214, '우뢰': 11215, '우리땅': 11216, '우매': 11217, '우아': 11218, '우연찮': 11219, '우월감': 11220, '우월하다': 11221, '우위': 11222, '우유부단하다': 11223, '우파': 11224, '욱일승천기': 11225, '운동화': 11226, '울먹이다': 11227, '웃찾사': 11228, '워낭소리': 11229, '원년': 11230, '원영': 11231, '원정': 11232, '원치않다': 11233, '원혼': 11234, '월남전': 11235, '월등하다': 11236, '월레스': 11237, '월켄': 11238, '웟음': 11239, '웨딩': 11240, '웨버': 11241, '위반': 11242, '위상': 11243, '유노윤호': 11244, '유딩': 11245, '유란': 11246, '유무': 11247, '유세': 11248, '유식': 11249, '유인나': 11250, '유추': 11251, '육감': 11252, '육성': 11253, '육아': 11254, '윤도현': 11255, '윤성호': 11256, '윤여정': 11257, '윤제균': 11258, '으음': 11259, '은기': 11260, '음개': 11261, '음식물': 11262, '음주': 11263, '음탕하다': 11264, '의무': 11265, '의성': 11266, '의적': 11267, '의젖': 11268, '읭': 11269, '이가흔': 11270, '이개': 11271, '이계인': 11272, '이그': 11273, '이기광': 11274, '이듭': 11275, '이등병': 11276, '이따금': 11277, '이마': 11278, '이반': 11279, '이방인': 11280, '이병훈': 11281, '이블': 11282, '이상윤': 11283, '이상하': 11284, '이솜': 11285, '이수혁': 11286, '이슬': 11287, '이십': 11288, '이애': 11289, '이영아': 11290, '이임': 11291, '이자나': 11292, '이재': 11293, '이재용': 11294, '이적': 11295, '이제일': 11296, '이창동': 11297, '이청아': 11298, '이하고': 11299, '이함': 11300, '이휘재': 11301, '익스트림': 11302, '익히다': 11303, '인과관계': 11304, '인구': 11305, '인디영화': 11306, '인디펜던스': 11307, '인스피릿': 11308, '인애': 11309, '인재': 11310, '인하': 11311, '일기토': 11312, '일당': 11313, '일등': 11314, '일본드라마': 11315, '일삼': 11316, '일케': 11317, '임달화': 11318, '임마': 11319, '임의': 11320, '입문': 11321, '입안': 11322, '자각': 11323, '자꾸자꾸': 11324, '자알': 11325, '자원': 11326, '자잘하다': 11327, '자장가': 11328, '자취': 11329, '작부': 11330, '작붕': 11331, '잔다르크': 11332, '잠기': 11333, '잠자리': 11334, '잠재': 11335, '잡아내다': 11336, '장관': 11337, '장난없다': 11338, '장려': 11339, '장물': 11340, '장미인애': 11341, '장미희': 11342, '장벽': 11343, '장병': 11344, '장신영': 11345, '장일': 11346, '재밋습': 11347, '재밋엇어': 11348, '재밋었음': 11349, '재밌슴': 11350, '재임': 11351, '재탄생': 11352, '재팬': 11353, '재혼': 11354, '저격수': 11355, '저리다': 11356, '저조하다': 11357, '저팔계': 11358, '적군': 11359, '적막하다': 11360, '적정': 11361, '적히다': 11362, '전경': 11363, '전무하다': 11364, '전보': 11365, '전쟁씬': 11366, '전제': 11367, '전주': 11368, '전지': 11369, '전직': 11370, '전함': 11371, '접목': 11372, '정감': 11373, '정기용': 11374, '정당성': 11375, '정도영': 11376, '정반대': 11377, '정선경': 11378, '정선희': 11379, '정성일': 11380, '정소동': 11381, '정장': 11382, '정전': 11383, '정철': 11384, '제기랄': 11385, '제데로': 11386, '제이크': 11387, '제한상영가': 11388, '젤위거': 11389, '조권': 11390, '조그만': 11391, '조루': 11392, '조선인': 11393, '조소': 11394, '조언': 11395, '조윤희': 11396, '조이': 11397, '조자룡': 11398, '조종': 11399, '조종사': 11400, '조폭마누라': 11401, '족하': 11402, '졸렬하다': 11403, '좃': 11404, '종교인': 11405, '종려시': 11406, '종방': 11407, '죄값': 11408, '죤나': 11409, '주간아이돌': 11410, '주근깨': 11411, '주다해': 11412, '주자': 11413, '주접': 11414, '주차': 11415, '주책': 11416, '준애': 11417, '중고생': 11418, '중시': 11419, '중하': 11420, '즐감': 11421, '지급': 11422, '지남': 11423, '지드': 11424, '지롱': 11425, '지리멸렬하다': 11426, '지민': 11427, '지아이조': 11428, '지창욱': 11429, '지팡이': 11430, '지훈': 11431, '진경': 11432, '진득': 11433, '진범': 11434, '진세연': 11435, '진시황': 11436, '진용': 11437, '진입': 11438, '진절머리': 11439, '진지희': 11440, '진짜루': 11441, '질도': 11442, '질색': 11443, '질서': 11444, '집기': 11445, '집밥': 11446, '집애': 11447, '집합소': 11448, '짱꼴라': 11449, '쩌구': 11450, '쩍': 11451, '쪼끔': 11452, '쪽지': 11453, '쫓아가다': 11454, '찡그리다': 11455, '찢기다': 11456, '차림': 11457, '차만': 11458, '차이점': 11459, '찬찬하다': 11460, '찮': 11461, '찰떡': 11462, '참극': 11463, '채시라': 11464, '채운': 11465, '채팅': 11466, '책임자': 11467, '챔프': 11468, '척노리스': 11469, '천황': 11470, '철권': 11471, '철학자': 11472, '첨단': 11473, '첫째': 11474, '초롱': 11475, '초이스': 11476, '초인': 11477, '초토화': 11478, '촛불': 11479, '총각': 11480, '총장': 11481, '촬영장': 11482, '최불암': 11483, '최우식': 11484, '최재성': 11485, '최정윤': 11486, '최첨단': 11487, '추기': 11488, '출구': 11489, '충청도': 11490, '취소': 11491, '취약': 11492, '츄': 11493, '츤데레': 11494, '치사하다': 11495, '친딸': 11496, '친자': 11497, '친해지다': 11498, '카레': 11499, '카우보이': 11500, '칼질': 11501, '캐스퍼': 11502, '캔디': 11503, '커스버트': 11504, '컴플렉스': 11505, '케리': 11506, '코네': 11507, '코디': 11508, '코마': 11509, '코멘트': 11510, '코미디언': 11511, '코스': 11512, '코코': 11513, '콘택트': 11514, '콜라보': 11515, '쿠삭': 11516, '큐브릭': 11517, '크라운': 11518, '크로노스': 11519, '키스씬': 11520, '킥애스': 11521, '타가': 11522, '타이': 11523, '타협': 11524, '탁구': 11525, '탄성': 11526, '탈옥': 11527, '탈의': 11528, '탑건': 11529, '태현': 11530, '택연': 11531, '택하': 11532, '탭댄스': 11533, '터끝': 11534, '터보': 11535, '터치': 11536, '테레비': 11537, '테레사': 11538, '테리': 11539, '테크노': 11540, '테크닉': 11541, '텍사스': 11542, '텍스트': 11543, '텔레비전': 11544, '토네이도': 11545, '토마토': 11546, '토의': 11547, '토크쇼': 11548, '톡': 11549, '톨스토이': 11550, '톰과제리': 11551, '톰슨': 11552, '통치': 11553, '퇴갤': 11554, '퇴마': 11555, '퇴물': 11556, '퇴장': 11557, '투어': 11558, '투자가': 11559, '트라이앵글': 11560, '특기': 11561, '특별출연': 11562, '티격태격': 11563, '티모시': 11564, '티어': 11565, '파일럿': 11566, '판매': 11567, '팔고': 11568, '팔뚝': 11569, '팔자': 11570, '팜므파탈': 11571, '팡': 11572, '패널': 11573, '패자': 11574, '팬덤': 11575, '팬서비스': 11576, '팬클럽': 11577, '팽팽': 11578, '퍼스트': 11579, '펄롱': 11580, '페니': 11581, '페드로': 11582, '페리': 11583, '페미': 11584, '페티쉬': 11585, '편안함': 11586, '평등': 11587, '평민': 11588, '평일': 11589, '평행이론': 11590, '폐기': 11591, '포레스트검프': 11592, '포트만': 11593, '폴더': 11594, '폴란드': 11595, '표적': 11596, '푸르다': 11597, '풀기': 11598, '풍선': 11599, '풍운': 11600, '프란체스카': 11601, '프랑켄슈타인': 11602, '프랭코': 11603, '프레이저': 11604, '프로메테우스': 11605, '플래툰': 11606, '피로하다': 11607, '피에르': 11608, '필연': 11609, '필히': 11610, '하기는': 11611, '하노': 11612, '하단': 11613, '하등': 11614, '하수': 11615, '하앍': 11616, '하야': 11617, '하은': 11618, '학력': 11619, '학부모': 11620, '학습': 11621, '한가하다': 11622, '한결같이': 11623, '한국사': 11624, '한다해': 11625, '한예리': 11626, '한지혜': 11627, '할기다': 11628, '함량': 11629, '함몰': 11630, '합창': 11631, '해상': 11632, '해서웨이': 11633, '해프닝': 11634, '행사': 11635, '행성': 11636, '행진': 11637, '햌': 11638, '허당': 11639, '허수아비': 11640, '허약하다': 11641, '허용': 11642, '허우적대다': 11643, '허울': 11644, '허지웅': 11645, '헐겁다': 11646, '험버트': 11647, '헝': 11648, '헤라클레스': 11649, '헤븐': 11650, '헤이글': 11651, '헬렌': 11652, '현수': 11653, '협력': 11654, '협상': 11655, '협찬': 11656, '형상': 11657, '혜수': 11658, '호동': 11659, '호모': 11660, '호박': 11661, '호빵': 11662, '호세': 11663, '호스트': 11664, '호크': 11665, '호퍼': 11666, '홍수아': 11667, '화난': 11668, '화두': 11669, '화법': 11670, '화상': 11671, '화표': 11672, '확보': 11673, '확연': 11674, '황량': 11675, '황산벌': 11676, '황신혜': 11677, '황진': 11678, '회개': 11679, '회로': 11680, '회복하다': 11681, '회사원': 11682, '횡재': 11683, '후끈': 11684, '후다닥': 11685, '후시': 11686, '후임': 11687, '훈': 11688, '훗': 11689, '훼': 11690, '휘날리다': 11691, '휘성': 11692, '휘트니': 11693, '흐믓': 11694, '흠집': 11695, '흡인': 11696, '희노애락': 11697, '희롱': 11698, '희망고문': 11699, '히로스에': 11700, '히로시': 11701, '힌': 11702, '힐러': 11703, '힘빠지다': 11704, '힘주다': 11705, 'ㄷㄷㄷㄷㄷㄷ': 11706, 'ㄹㄹ': 11707, 'ㅁㅁ': 11708, 'ㅅㅋ': 11709, 'ㅇㄷ': 11710, 'ㅇㅣ': 11711, 'ㅋㅋㅋㅋㅋㅋㅋㅋㅋㅋㅋㅋㅋㅋㅋㅋㅋㅋㅋㅋㅋㅋㅋㅋ': 11712, 'ㅋㅋㅋㅋㅋㅋㅋㅋㅋㅋㅋㅋㅋㅋㅋㅋㅋㅋㅋㅋㅋㅋㅋㅋㅋ': 11713, 'ㅋㅋㅋㅋㅋㅋㅋㅋㅋㅋㅋㅋㅋㅋㅋㅋㅋㅋㅋㅋㅋㅋㅋㅋㅋㅋㅋㅋㅋ': 11714, 'ㅏㅎ': 11715, 'ㅜㅜㅜㅜㅜㅜㅜ': 11716, 'ㅜㅜㅠ': 11717, 'ㅡㅅㅡ': 11718, '가내': 11719, '가늘다': 11720, '가려지다': 11721, '가련하다': 11722, '가뭄': 11723, '가분': 11724, '가브리엘': 11725, '가비': 11726, '가스펠': 11727, '가신': 11728, '가원': 11729, '가위바위보': 11730, '가위손': 11731, '가을동화': 11732, '가장이': 11733, '가족사': 11734, '가타카': 11735, '가후': 11736, '각기': 11737, '각오': 11738, '간과': 11739, '간부': 11740, '간절': 11741, '간통죄': 11742, '간판': 11743, '갈겨': 11744, '갈대': 11745, '갈림길': 11746, '갈이': 11747, '갈채': 11748, '감격시대': 11749, '감상문': 11750, '감상주의': 11751, '감소': 11752, '감자': 11753, '감자별': 11754, '감칠맛': 11755, '갑임': 11756, '값어치': 11757, '갓뎀': 11758, '강산': 11759, '강시선생': 11760, '강심장': 11761, '강약': 11762, '강윤': 11763, '강주희': 11764, '강추임': 11765, '강츄': 11766, '강해진': 11767, '개강': 11768, '개꿀': 11769, '개보': 11770, '개불': 11771, '개사': 11772, '개속': 11773, '개인정보': 11774, '개정': 11775, '개조': 11776, '개체': 11777, '개핵': 11778, '개황': 11779, '객석': 11780, '갠찮': 11781, '갱스부르': 11782, '거가': 11783, '거고': 11784, '거금': 11785, '거렸': 11786, '거론': 11787, '거린': 11788, '거만하다': 11789, '거미줄': 11790, '거슬러': 11791, '거실': 11792, '거원': 11793, '걱정스럽다': 11794, '건국': 11795, '건너다': 11796, '건배': 11797, '건축가': 11798, '건축물': 11799, '검색어': 11800, '검열': 11801, '검프': 11802, '게말': 11803, '게으름': 11804, '게이바': 11805, '겨울방학': 11806, '겨털': 11807, '견': 11808, '결실': 11809, '겸손': 11810, '경관': 11811, '경기도': 11812, '경박하다': 11813, '경비원': 11814, '경찰서': 11815, '경호원': 11816, '고기만': 11817, '고두심': 11818, '고만하다': 11819, '고상하다': 11820, '고심': 11821, '고온': 11822, '고용': 11823, '고우리': 11824, '고원': 11825, '고재': 11826, '고조': 11827, '고천락': 11828, '고쿠센': 11829, '곡성': 11830, '골드': 11831, '곰팡이': 11832, '곱등이': 11833, '공연장': 11834, '공통': 11835, '공통점': 11836, '과극': 11837, '과학자': 11838, '곽도원': 11839, '관록': 11840, '관망': 11841, '관심사': 11842, '광복절': 11843, '광산': 11844, '광속': 11845, '광역': 11846, '광해군': 11847, '광화문': 11848, '괜시리': 11849, '교본': 11850, '구관': 11851, '구더기': 11852, '구미': 11853, '구세주': 11854, '구수하다': 11855, '국판': 11856, '국한': 11857, '국화': 11858, '군복': 11859, '군부': 11860, '굴레': 11861, '굴복': 11862, '궁굼하': 11863, '궁상맞다': 11864, '권법': 11865, '귀인': 11866, '규어': 11867, '균': 11868, '균신': 11869, '그나': 11870, '그떄': 11871, '그랜드': 11872, '그랜토리노': 11873, '그랜트': 11874, '그랫': 11875, '그러다가': 11876, '그레이엄': 11877, '그리기': 11878, '그물': 11879, '극혐임': 11880, '근간': 11881, '근사하다': 11882, '글귀': 11883, '글세': 11884, '글치': 11885, '글픽': 11886, '금욕': 11887, '급격하다': 11888, '기관': 11889, '기단': 11890, '기미가요': 11891, '기와': 11892, '기욤': 11893, '기점': 11894, '기침': 11895, '기특하다': 11896, '길가': 11897, '길동': 11898, '김기범': 11899, '김남주': 11900, '김부선': 11901, '김석훈': 11902, '김영호': 11903, '김완선': 11904, '김용': 11905, '김원희': 11906, '김유신': 11907, '김은숙': 11908, '김조광수': 11909, '김종국': 11910, '김준': 11911, '김준현': 11912, '김춘추': 11913, '김태균': 11914, '깁슨': 11915, '깃털': 11916, '까미유': 11917, '까비': 11918, '깜박': 11919, '깽깽': 11920, '꺅꺅': 11921, '꺼이꺼이': 11922, '껄끄럽': 11923, '껄렁': 11924, '껄렁하다': 11925, '껍질': 11926, '께선': 11927, '꼼꼼하다': 11928, '꼼수': 11929, '꼽으': 11930, '꽃뱀': 11931, '꽃보다할배': 11932, '꽉꽉': 11933, '꾸리': 11934, '꿀꿀': 11935, '꿰뚫다': 11936, '끌어당기다': 11937, '끙': 11938, '나날이': 11939, '나눔': 11940, '나단': 11941, '나드': 11942, '나띵': 11943, '나볼': 11944, '나부': 11945, '나불': 11946, '나스': 11947, '나영이': 11948, '나우': 11949, '나이트메어': 11950, '나체': 11951, '나카마': 11952, '나카시마': 11953, '나혼자산다': 11954, '낚시꾼': 11955, '낚이': 11956, '난건': 11957, '난데없다': 11958, '난동': 11959, '난또': 11960, '난잡': 11961, '난장': 11962, '난치': 11963, '날뻔': 11964, '날짜': 11965, '남북전쟁': 11966, '남상': 11967, '남자이야기': 11968, '남쪽': 11969, '납': 11970, '낳을': 11971, '내기억': 11972, '내다보다': 11973, '내심': 11974, '내야': 11975, '내재': 11976, '낸시': 11977, '냅다': 11978, '냉전시대': 11979, '냉혈': 11980, '너므': 11981, '널린': 11982, '넘흐': 11983, '네네': 11984, '네로': 11985, '네마': 11986, '네버': 11987, '네스': 11988, '넬': 11989, '년안': 11990, '노가리': 11991, '노도': 11992, '노래실력': 11993, '노리': 11994, '노스': 11995, '노을': 11996, '노이즈': 11997, '노장': 11998, '노조': 11999, '노프': 12000, '녹차': 12001, '농': 12002, '농부': 12003, '놧': 12004, '누굴까': 12005, '눈꺼풀': 12006, '눈의여왕': 12007, '뉘앙스': 12008, '뉴질랜드': 12009, '뉴하트': 12010, '느데': 12011, '늙은이': 12012, '니요': 12013, '니키': 12014, '니키타': 12015, '닌자어쌔신': 12016, '다마': 12017, '다말': 12018, '다망하다': 12019, '다물어지다': 12020, '다발': 12021, '다방면': 12022, '다스베이더': 12023, '다이너마이트': 12024, '다이어리': 12025, '다케': 12026, '다혈질': 12027, '닥터진': 12028, '단발머리': 12029, '단번': 12030, '단조': 12031, '달고나': 12032, '달라붙다': 12033, '달라이라마': 12034, '달라짐': 12035, '달림': 12036, '달아오르다': 12037, '당구공': 12038, '당나귀': 12039, '당나라': 12040, '당하': 12041, '당해': 12042, '대거': 12043, '대국민': 12044, '대담하다': 12045, '대딩': 12046, '대루': 12047, '대목': 12048, '대별': 12049, '대성통곡': 12050, '대수': 12051, '대쉬': 12052, '대입': 12053, '대장정': 12054, '대주': 12055, '대중화': 12056, '더글러스': 12057, '더디다': 12058, '더라면': 12059, '더시티': 12060, '더위': 12061, '덤블도어': 12062, '덮이다': 12063, '데쓰': 12064, '데어데블': 12065, '데이비드': 12066, '데이지': 12067, '데자뷰': 12068, '데포': 12069, '데헷': 12070, '도기': 12071, '도넛': 12072, '도덕성': 12073, '도도하다': 12074, '도리어': 12075, '도사': 12076, '도식': 12077, '도어': 12078, '도요타': 12079, '도정': 12080, '도해': 12081, '독사': 12082, '독선': 12083, '독설': 12084, '독신': 12085, '돈버': 12086, '돈벌': 12087, '돌기': 12088, '돔': 12089, '돗': 12090, '동막골': 12091, '동명': 12092, '동명이인': 12093, '동상': 12094, '동서': 12095, '동선': 12096, '동수': 12097, '동조': 12098, '동질감': 12099, '동태': 12100, '됏': 12101, '되풀이': 12102, '두근': 12103, '두더지': 12104, '두목': 12105, '두통': 12106, '둥둥': 12107, '뒤끝': 12108, '뒤엎': 12109, '뒤태': 12110, '뒷목잡다': 12111, '뒷받침': 12112, '듀얼': 12113, '드레스': 12114, '드림팀': 12115, '드림하이': 12116, '들뜨다': 12117, '들판': 12118, '등반': 12119, '디스토피아': 12120, '디어': 12121, '디에고': 12122, '디저트': 12123, '디카': 12124, '딛다': 12125, '딥': 12126, '따귀': 12127, '따리': 12128, '따먹다': 12129, '따분': 12130, '따분함': 12131, '딴말': 12132, '딸기': 12133, '떠돌다': 12134, '똥례': 12135, '뚝딱': 12136, '뚝심': 12137, '뜰': 12138, '뜻대로': 12139, '라르': 12140, '라미란': 12141, '라야': 12142, '라오': 12143, '라이터': 12144, '라이프': 12145, '라흐마니노프': 12146, '란걸': 12147, '란말': 12148, '래빗': 12149, '래퍼': 12150, '랜덤': 12151, '러브액츄얼리': 12152, '럭비': 12153, '런타임': 12154, '럽': 12155, '럿': 12156, '레너드': 12157, '레베카': 12158, '레비아탄': 12159, '레빗': 12160, '레쉬': 12161, '레오나르도': 12162, '레이드': 12163, '레이디': 12164, '레이져': 12165, '레트': 12166, '레파': 12167, '레포트': 12168, '려니': 12169, '렴': 12170, '령': 12171, '로간': 12172, '로마시대': 12173, '로맨스코미디': 12174, '로빈훗': 12175, '로세': 12176, '로스트': 12177, '로완': 12178, '로케이션': 12179, '로튼토마토': 12180, '로필': 12181, '롤라': 12182, '롤랜드': 12183, '롤모델': 12184, '루니': 12185, '루루': 12186, '루미': 12187, '루임': 12188, '루카': 12189, '르와르': 12190, '리더쉽': 12191, '리메이크판': 12192, '리베라': 12193, '리얼스틸': 12194, '리에티': 12195, '리자': 12196, '리조': 12197, '리포터': 12198, '릿카': 12199, '마나피': 12200, '마당': 12201, '마등': 12202, '마따나': 12203, '마르코': 12204, '마사미': 12205, '마사토': 12206, '마쇼': 12207, '마여': 12208, '마왕': 12209, '마이걸': 12210, '마주치다': 12211, '마침표': 12212, '마트': 12213, '마흔': 12214, '막강': 12215, '막대': 12216, '막둥이': 12217, '막상막하': 12218, '막회': 12219, '만델라': 12220, '만리': 12221, '만만': 12222, '만사이': 12223, '만찬': 12224, '만추': 12225, '만큼이라도': 12226, '만화방': 12227, '만화인': 12228, '말미': 12229, '말살': 12230, '말코': 12231, '말콤': 12232, '맘속': 12233, '맛집': 12234, '망은': 12235, '망처': 12236, '맞대다': 12237, '매너리즘': 12238, '매니악': 12239, '매머드': 12240, '매즈': 12241, '맥가이버': 12242, '맥베스': 12243, '머나멀다': 12244, '먼로': 12245, '멍멍': 12246, '메모리': 12247, '메이슨': 12248, '메이져': 12249, '메타': 12250, '메타포': 12251, '멘마': 12252, '멘탈붕괴': 12253, '멧돼지': 12254, '명관': 12255, '명성황후': 12256, '명인': 12257, '명탐정코난': 12258, '명화극장': 12259, '모라': 12260, '모래시계': 12261, '모스': 12262, '모욕감': 12263, '모짜르트': 12264, '모험영화': 12265, '모호': 12266, '몰상식하다': 12267, '못난이주의보': 12268, '못만듬': 12269, '몽상': 12270, '몽정기': 12271, '몽키': 12272, '몽타주': 12273, '무력': 12274, '무릎': 12275, '무림': 12276, '무마': 12277, '무미건조': 12278, '무사하다': 12279, '무소유': 12280, '무신론자': 12281, '무아': 12282, '무안': 12283, '무용': 12284, '무용지물': 12285, '무의미': 12286, '무자식': 12287, '무적자': 12288, '무지무지': 12289, '무한대': 12290, '묵': 12291, '문화유산': 12292, '문화재': 12293, '물임': 12294, '뭘더': 12295, '뭣같': 12296, '뮤지션': 12297, '뮤츠': 12298, '뮤턴트': 12299, '미녀삼총사': 12300, '미녀와야수': 12301, '미도리': 12302, '미드나잇': 12303, '미라클': 12304, '미란': 12305, '미스코리아': 12306, '미스트': 12307, '미아': 12308, '미역': 12309, '미유키': 12310, '미카': 12311, '미켈란젤로': 12312, '미필': 12313, '미혼': 12314, '믹싱': 12315, '민국이': 12316, '민재': 12317, '민좆': 12318, '민효린': 12319, '밀레니엄': 12320, '바니': 12321, '바라냐': 12322, '바랬다': 12323, '바로잡다': 12324, '바오': 12325, '바이오맨': 12326, '바질': 12327, '바토리': 12328, '바흐': 12329, '박기웅': 12330, '박멸': 12331, '박봄': 12332, '박서준': 12333, '박영린': 12334, '박정철': 12335, '박지윤': 12336, '박희순': 12337, '반신반의': 12338, '반역': 12339, '반일': 12340, '반정부': 12341, '반죽': 12342, '발걸음': 12343, '발리다': 12344, '발목': 12345, '밤시': 12346, '밤하늘': 12347, '방기': 12348, '방송인': 12349, '방어': 12350, '방위': 12351, '배구': 12352, '배수빈': 12353, '배우자': 12354, '배추': 12355, '배합': 12356, '백도빈': 12357, '백악관': 12358, '백업': 12359, '백터': 12360, '버마': 12361, '버티고': 12362, '번지르르하다': 12363, '번쩍': 12364, '벌떡': 12365, '벌목': 12366, '벙어리': 12367, '베네딕트': 12368, '베이스': 12369, '베이컨시': 12370, '베트맨': 12371, '벡터맨': 12372, '벤츠': 12373, '벤허': 12374, '변강쇠': 12375, '변기': 12376, '변덕': 12377, '변치': 12378, '변형': 12379, '변환': 12380, '병동': 12381, '병력': 12382, '병신': 12383, '병역': 12384, '병폐': 12385, '보디': 12386, '보루': 12387, '보빨': 12388, '보샘': 12389, '보실': 12390, '보우': 12391, '보증': 12392, '보통사람': 12393, '복도': 12394, '복사기': 12395, '본론': 12396, '본심': 12397, '본업': 12398, '본의': 12399, '본토': 12400, '볼순': 12401, '봄날': 12402, '봉씨': 12403, '부딪치다': 12404, '부랑': 12405, '부사': 12406, '부옇다': 12407, '부와': 12408, '부임': 12409, '부자간': 12410, '부장': 12411, '부적': 12412, '부조리하다': 12413, '부조화': 12414, '부진': 12415, '부처님': 12416, '부추기다': 12417, '북극곰': 12418, '분대': 12419, '분별': 12420, '분신': 12421, '분자': 12422, '분쟁': 12423, '분초': 12424, '분출': 12425, '불감증': 12426, '불결하다': 12427, '불꽃놀이': 12428, '불만제로': 12429, '불면': 12430, '불사': 12431, '불순': 12432, '불완전하다': 12433, '불쾌': 12434, '불호': 12435, '불확실하다': 12436, '붕어빵': 12437, '붙들다': 12438, '브레이커': 12439, '브로큰': 12440, '브룩쉴즈': 12441, '블란쳇': 12442, '블랙리스트': 12443, '블랙잭': 12444, '블럭': 12445, '비결': 12446, '비루하다': 12447, '비리다': 12448, '비정': 12449, '비주류': 12450, '비키니': 12451, '비탄': 12452, '비토': 12453, '비틀': 12454, '비틀어지다': 12455, '빅맨': 12456, '빅터': 12457, '빈곤하다': 12458, '빈민가': 12459, '빌런': 12460, '빌리버': 12461, '빗': 12462, '빠들': 12463, '빠삐용': 12464, '빤스': 12465, '빨아들이다': 12466, '뺑소니': 12467, '뻐기다': 12468, '뻑': 12469, '뻔뻔스럽다': 12470, '뻔햇': 12471, '뻣': 12472, '뽐내다': 12473, '뽜': 12474, '삐삐': 12475, '사공': 12476, '사령관': 12477, '사리': 12478, '사마': 12479, '사모님': 12480, '사무실': 12481, '사사키': 12482, '사스': 12483, '사시': 12484, '사심': 12485, '사이즈': 12486, '사인': 12487, '사지절단': 12488, '사카이': 12489, '사파리': 12490, '사후': 12491, '산물': 12492, '산속': 12493, '산업화': 12494, '산자': 12495, '살살': 12496, '살상': 12497, '살육': 12498, '삶속': 12499, '삼만리': 12500, '삼은': 12501, '상과': 12502, '상납': 12503, '상암': 12504, '상우': 12505, '상해': 12506, '새엄마': 12507, '샛별': 12508, '생뚱': 12509, '생으로': 12510, '생체실험': 12511, '샤아': 12512, '샴발라': 12513, '서랍': 12514, '서랜든': 12515, '서류': 12516, '서안': 12517, '서준영': 12518, '서지석': 12519, '선교사': 12520, '선글라스': 12521, '선남선녀': 12522, '선녀': 12523, '선댄스': 12524, '선리기연': 12525, '선악': 12526, '섬뜩': 12527, '섬터': 12528, '섭렵': 12529, '성격장애': 12530, '성교육': 12531, '성나다': 12532, '성녀': 12533, '성립': 12534, '성생활': 12535, '성지루': 12536, '성찬': 12537, '성하': 12538, '성형수술': 12539, '세르게이': 12540, '세밀': 12541, '세아': 12542, '세탁': 12543, '세태': 12544, '세현': 12545, '섹드립': 12546, '센티': 12547, '셔터': 12548, '셧습': 12549, '셨': 12550, '소리치다': 12551, '소매치기': 12552, '소방': 12553, '소비자': 12554, '소서': 12555, '소심': 12556, '소용돌이': 12557, '소용없다': 12558, '소풍': 12559, '소환': 12560, '속옷': 12561, '속임수': 12562, '손담비': 12563, '손쉽다': 12564, '손은서': 12565, '솔솔': 12566, '솜': 12567, '송하윤': 12568, '쇼파': 12569, '수건': 12570, '수나': 12571, '수레': 12572, '수레기': 12573, '수련': 12574, '수로': 12575, '수류탄': 12576, '수상하다': 12577, '수임': 12578, '수컷': 12579, '수퍼액션': 12580, '수해': 12581, '수화': 12582, '순간이동': 12583, '순결하다': 12584, '순대': 12585, '순례': 12586, '순응': 12587, '순환선': 12588, '쉬리': 12589, '슈발': 12590, '슈왈제네거': 12591, '슈타인': 12592, '슈퍼주니어': 12593, '스노우': 12594, '스레': 12595, '스몰빌': 12596, '스와핑': 12597, '스웽크': 12598, '스윈튼': 12599, '스크린쿼터제': 12600, '스킨': 12601, '스타게이트': 12602, '스타일리시': 12603, '스타크': 12604, '스탠바이': 12605, '스탭들': 12606, '스팀': 12607, '스패': 12608, '스펀지': 12609, '스페인어': 12610, '스펙트럼': 12611, '스피디': 12612, '스피릿': 12613, '승려': 12614, '승리자': 12615, '승호': 12616, '시너지': 12617, '시놉': 12618, '시들다': 12619, '시름': 12620, '시리얼': 12621, '시리우스': 12622, '시비': 12623, '시신': 12624, '시실리': 12625, '시전': 12626, '시정': 12627, '시집': 12628, '시카고': 12629, '시커멓다': 12630, '식스': 12631, '식코': 12632, '식품': 12633, '신곡': 12634, '신사참배': 12635, '신소율': 12636, '신앙심': 12637, '신예': 12638, '신유': 12639, '신윤복': 12640, '신의한수': 12641, '신체': 12642, '신혜': 12643, '실리다': 12644, '실베스터': 12645, '실사영화': 12646, '실신': 12647, '실연': 12648, '실황': 12649, '심령': 12650, '심볼': 12651, '심영': 12652, '심장이뛴다': 12653, '심정은': 12654, '심쿵하다': 12655, '십덕': 12656, '십이': 12657, '싱싱하다': 12658, '싸랑': 12659, '싸이다': 12660, '쌉싸름하다': 12661, '썬더일레븐': 12662, '쏜다': 12663, '쏟아내다': 12664, '쒸레': 12665, '쓰르라미': 12666, '쓰리데이즈': 12667, '씨름': 12668, '아군': 12669, '아기자기': 12670, '아나이': 12671, '아나키스트': 12672, '아낰': 12673, '아네트베닝': 12674, '아노하나': 12675, '아더': 12676, '아델': 12677, '아드레날린': 12678, '아라': 12679, '아라하': 12680, '아랑': 12681, '아려': 12682, '아리랑': 12683, '아미': 12684, '아스': 12685, '아우성': 12686, '아이젠': 12687, '아카데미상': 12688, '아폴로': 12689, '아프가니스탄': 12690, '아하하': 12691, '아햏햏': 12692, '아홉': 12693, '악기': 12694, '악의축': 12695, '악장': 12696, '악취': 12697, '악하다': 12698, '안간힘': 12699, '안심': 12700, '안야': 12701, '앉히다': 12702, '알기': 12703, '알못': 12704, '알츠하이머': 12705, '압니': 12706, '았음': 12707, '애꾸': 12708, '애나': 12709, '애마부인': 12710, '애매': 12711, '애슐리': 12712, '애시': 12713, '애플': 12714, '액기스': 12715, '액스맨': 12716, '앤해서웨이': 12717, '앨': 12718, '앳된': 12719, '야만': 12720, '야박하다': 12721, '야비하다': 12722, '야시': 12723, '약국': 12724, '약육강식': 12725, '얄': 12726, '얌전하다': 12727, '양말': 12728, '양보': 12729, '양복': 12730, '양양': 12731, '양화': 12732, '얘길': 12733, '어기다': 12734, '어땟을까': 12735, '어뜨케': 12736, '어렷': 12737, '어로': 12738, '어뢰': 12739, '어리광': 12740, '어린왕자': 12741, '어림': 12742, '어머': 12743, '어우동': 12744, '어이구': 12745, '어인': 12746, '어지러움': 12747, '어지르다': 12748, '어캐': 12749, '어택': 12750, '억눌리다': 12751, '언뜻': 12752, '언터처블': 12753, '얹히다': 12754, '얼라이브': 12755, '얼빵': 12756, '얼얼하다': 12757, '얼짱': 12758, '얼척': 12759, '얼티메이텀': 12760, '에게로': 12761, '에너미': 12762, '에네스': 12763, '에드가': 12764, '에로의': 12765, '에를': 12766, '에미넴': 12767, '에볼라': 12768, '에볼루션': 12769, '에어울프': 12770, '에이핑크': 12771, '에픽': 12772, '엑소시즘': 12773, '엔젤': 12774, '엔진': 12775, '엘도라도': 12776, '엘르': 12777, '엘사': 12778, '여가': 12779, '여담': 12780, '여봐라': 12781, '여분': 12782, '여성성': 12783, '여유도': 12784, '여자라서': 12785, '여중생': 12786, '여직원': 12787, '역도': 12788, '역전': 12789, '역차별': 12790, '역효과': 12791, '엮어낸': 12792, '연길': 12793, '연달': 12794, '연봉': 12795, '연아': 12796, '연주가': 12797, '연화': 12798, '열기': 12799, '열렬하다': 12800, '열악하다': 12801, '염병': 12802, '염소': 12803, '염원': 12804, '엽기적인그녀': 12805, '였슴': 12806, '영국인': 12807, '영도': 12808, '영동': 12809, '영민': 12810, '영양가': 12811, '영화정보': 12812, '옄': 12813, '옅다': 12814, '예약': 12815, '예찬': 12816, '오뉴월': 12817, '오닐': 12818, '오도': 12819, '오디': 12820, '오디오': 12821, '오라': 12822, '오락실': 12823, '오스': 12824, '오신': 12825, '오아시스': 12826, '오언조': 12827, '오역': 12828, '오오오오': 12829, '오잉': 12830, '오지명': 12831, '오카다': 12832, '오크': 12833, '오키나와': 12834, '오현경': 12835, '옥보단': 12836, '옥상': 12837, '옥소리': 12838, '옥한흠': 12839, '온전': 12840, '올가미': 12841, '올려다보다': 12842, '옵니다': 12843, '와르르': 12844, '와사비': 12845, '와이어액션': 12846, '와일드카드': 12847, '완득이': 12848, '완료': 12849, '완주': 12850, '왈부': 12851, '왕족': 12852, '왘': 12853, '왜구': 12854, '왜안': 12855, '왜함': 12856, '외계생명체': 12857, '외숙모': 12858, '왼': 12859, '요것': 12860, '요도': 12861, '요로': 12862, '요섭': 12863, '요일': 12864, '요절': 12865, '요지': 12866, '요코': 12867, '욕실': 12868, '용돈': 12869, '용이하다': 12870, '용품': 12871, '용형': 12872, '우유': 12873, '우의': 12874, '우직하다': 12875, '우짜': 12876, '우피': 12877, '우후죽순': 12878, '울고불고': 12879, '울엇어': 12880, '울프': 12881, '움찔': 12882, '웃낌': 12883, '웅담': 12884, '워드': 12885, '워리어': 12886, '워터월드': 12887, '원더우먼': 12888, '원보': 12889, '원씨': 12890, '원판': 12891, '월스트리트': 12892, '월트디즈니': 12893, '웜홀': 12894, '웡': 12895, '웨인': 12896, '웬수': 12897, '웹': 12898, '위너': 12899, '위드': 12900, '윌슨': 12901, '유경': 12902, '유대': 12903, '유리창': 12904, '유세윤': 12905, '유스케': 12906, '유연하다': 12907, '유영': 12908, '유인원': 12909, '유일': 12910, '유전': 12911, '유천': 12912, '유통': 12913, '유하': 12914, '유학생': 12915, '윤소이': 12916, '윤정수': 12917, '윤진이': 12918, '윤후': 12919, '융': 12920, '으로선': 12921, '으앙': 12922, '으이구': 12923, '으잌': 12924, '은교': 12925, '읊는': 12926, '음란하다': 12927, '음악가': 12928, '음주운전': 12929, '응답': 12930, '의기': 12931, '의드': 12932, '이건영': 12933, '이게뭡': 12934, '이경실': 12935, '이나고': 12936, '이다지': 12937, '이돈': 12938, '이또': 12939, '이라든지': 12940, '이랬는데': 12941, '이무기': 12942, '이민': 12943, '이북': 12944, '이분법': 12945, '이사장': 12946, '이산': 12947, '이상인': 12948, '이상자': 12949, '이상태': 12950, '이수현': 12951, '이순신장군': 12952, '이스': 12953, '이심': 12954, '이엘': 12955, '이연결': 12956, '이영훈': 12957, '이용철': 12958, '이웃집': 12959, '이위': 12960, '이종인': 12961, '이징': 12962, '이천희': 12963, '이태리': 12964, '이태석': 12965, '이토준지': 12966, '이희준': 12967, '익스': 12968, '익스펜더블': 12969, '인강': 12970, '인기투표': 12971, '인대': 12972, '인도네시아': 12973, '인력': 12974, '인민군': 12975, '인어': 12976, '인턴': 12977, '일대': 12978, '일레인': 12979, '일박이일': 12980, '일보': 12981, '일본엔': 12982, '일시': 12983, '일지매': 12984, '일해': 12985, '일행': 12986, '일화': 12987, '임밸류': 12988, '임산부': 12989, '임순례': 12990, '임진강': 12991, '임파': 12992, '입덕': 12993, '자객': 12994, '자건': 12995, '자구': 12996, '자기만족': 12997, '자단': 12998, '자본가': 12999, '자부심': 13000, '자아도취': 13001, '자이언츠': 13002, '자인': 13003, '자주자주': 13004, '자지러지다': 13005, '자처': 13006, '자크': 13007, '잔재미': 13008, '잘봣음': 13009, '잠듬': 13010, '잡것': 13011, '잡수다': 13012, '잡식': 13013, '잡혀가다': 13014, '장고': 13015, '장도': 13016, '장땡': 13017, '장마': 13018, '장모': 13019, '장본인': 13020, '장옥정': 13021, '장인어른': 13022, '장재인': 13023, '장판': 13024, '재결합': 13025, '재밋게봄': 13026, '재밋내': 13027, '재밋슴': 13028, '재밋었어': 13029, '재발': 13030, '재우다': 13031, '재키': 13032, '잭스': 13033, '잼잼': 13034, '쟁': 13035, '쟁취': 13036, '쟈니': 13037, '저서': 13038, '저속하다': 13039, '저승': 13040, '저음': 13041, '저작권': 13042, '저지': 13043, '저택': 13044, '저해': 13045, '적응하다': 13046, '적절': 13047, '적진': 13048, '전계': 13049, '전반전': 13050, '전생': 13051, '전선': 13052, '전염': 13053, '전위': 13054, '전자': 13055, '전진': 13056, '전차': 13057, '전효성': 13058, '절단': 13059, '절박': 13060, '절차': 13061, '점더': 13062, '점준놈': 13063, '점프': 13064, '접해': 13065, '젓': 13066, '정다빈': 13067, '정도전': 13068, '정수': 13069, '정운택': 13070, '정인': 13071, '정일우': 13072, '정치사': 13073, '정크푸드': 13074, '정표': 13075, '정호': 13076, '제거': 13077, '제니': 13078, '제독': 13079, '제비': 13080, '제아': 13081, '제제': 13082, '제프리': 13083, '젠틀맨': 13084, '젤리': 13085, '조가': 13086, '조교': 13087, '조그마하다': 13088, '조난': 13089, '조도': 13090, '조동혁': 13091, '조류': 13092, '조리': 13093, '조상': 13094, '조수': 13095, '조온나': 13096, '조우': 13097, '조짐': 13098, '조페시': 13099, '족구': 13100, '족보': 13101, '족속': 13102, '졸멋': 13103, '종결자': 13104, '종자': 13105, '종특': 13106, '좌석': 13107, '좌우': 13108, '좌지우지': 13109, '주간': 13110, '주력': 13111, '주먹질': 13112, '주보': 13113, '주스': 13114, '주심': 13115, '줄타기': 13116, '중공군': 13117, '중박': 13118, '중위': 13119, '쥐똥': 13120, '증발': 13121, '지동원': 13122, '지드래곤': 13123, '지란': 13124, '지랄': 13125, '지뢰': 13126, '지름길': 13127, '지불': 13128, '지스': 13129, '지영': 13130, '지적장애': 13131, '지존파': 13132, '지침': 13133, '지휘': 13134, '직행': 13135, '진가신': 13136, '진실성': 13137, '진우': 13138, '진저리': 13139, '진중권': 13140, '진짜사나이': 13141, '진짴': 13142, '진행형': 13143, '진호': 13144, '질의': 13145, '짊': 13146, '짐머': 13147, '집앞': 13148, '징글': 13149, '징글징글': 13150, '징징거리다': 13151, '짤려': 13152, '째즈': 13153, '쪙': 13154, '쫄': 13155, '쫓겨나다': 13156, '쫓아오다': 13157, '쭈쭈': 13158, '찐빵': 13159, '찜': 13160, '차돌': 13161, '차라': 13162, '차례대로': 13163, '차사': 13164, '차이코프스키': 13165, '착잡하다': 13166, '찬가': 13167, '찬물': 13168, '찬송': 13169, '참낰': 13170, '창정': 13171, '찾아내다': 13172, '채권': 13173, '채림': 13174, '채정안': 13175, '챈들러': 13176, '처분': 13177, '처치': 13178, '천만다행': 13179, '천만원': 13180, '천벌': 13181, '천식': 13182, '천조국': 13183, '천진난만하다': 13184, '철도': 13185, '첨밀밀': 13186, '첩': 13187, '청각장애': 13188, '청리': 13189, '체계': 13190, '체널': 13191, '초난강': 13192, '초능력자': 13193, '초록': 13194, '초록물고기': 13195, '촌티': 13196, '촛점': 13197, '총성': 13198, '총잡이': 13199, '최강창민': 13200, '최신영': 13201, '최여진': 13202, '최홍만': 13203, '최효종': 13204, '추상미': 13205, '추성훈': 13206, '추종': 13207, '출생의비밀': 13208, '출세': 13209, '출중하다': 13210, '충고': 13211, '측정': 13212, '치민': 13213, '치욕': 13214, '치즈루': 13215, '친분': 13216, '친영': 13217, '친절': 13218, '침공': 13219, '침해': 13220, '칩': 13221, '칭샤': 13222, '카라': 13223, '카메라워크': 13224, '카야': 13225, '카오스': 13226, '카와이': 13227, '카트': 13228, '칸나': 13229, '칼라': 13230, '캐스트': 13231, '캣': 13232, '캣우먼': 13233, '컬리': 13234, '컬킨': 13235, '컴터': 13236, '컴퓨터그래픽': 13237, '케나': 13238, '케서방': 13239, '케이티': 13240, '코렐': 13241, '코브라': 13242, '코엘료': 13243, '코웃음': 13244, '코인': 13245, '코트': 13246, '콕': 13247, '콘돔': 13248, '콤': 13249, '콧': 13250, '쿄코': 13251, '쿠나': 13252, '쿠로사와': 13253, '쿨럭': 13254, '크래딧': 13255, '크리스천': 13256, '크리스티나': 13257, '큰딸': 13258, '큰소리': 13259, '클락': 13260, '클레어': 13261, '클로버필드': 13262, '킁': 13263, '키다': 13264, '키득거리다': 13265, '킹스': 13266, '타당': 13267, '타라': 13268, '타이거': 13269, '탄광': 13270, '탈선': 13271, '탈세': 13272, '탈영': 13273, '탈출기': 13274, '태고': 13275, '태권': 13276, '태극기휘날리며': 13277, '태상': 13278, '태연하다': 13279, '태원': 13280, '태조': 13281, '태클': 13282, '터리': 13283, '터미널': 13284, '텀': 13285, '텅텅빈': 13286, '테라': 13287, '테이': 13288, '토니쟈': 13289, '토막': 13290, '토탈리콜': 13291, '톰하디': 13292, '통과': 13293, '통장': 13294, '통통': 13295, '퇴근': 13296, '퇴치': 13297, '투사': 13298, '투사부일체': 13299, '투혼': 13300, '퉤퉤': 13301, '퉷': 13302, '트래쉬': 13303, '트랜스포터': 13304, '트럭': 13305, '트레': 13306, '트이다': 13307, '트집': 13308, '특선영화': 13309, '특수분장': 13310, '특출나다': 13311, '티파니': 13312, '틸이거': 13313, '파가': 13314, '파내다': 13315, '파도처럼': 13316, '파랗다': 13317, '파서': 13318, '파시즘': 13319, '파이란': 13320, '파이트': 13321, '파이트클럽': 13322, '파파': 13323, '팍팍하다': 13324, '판결': 13325, '판권': 13326, '판다': 13327, '판명': 13328, '팔면': 13329, '팜플렛': 13330, '팝핀현준': 13331, '팥': 13332, '패닉': 13333, '패리스': 13334, '패착': 13335, '패킷': 13336, '팩': 13337, '팩토리': 13338, '팽배': 13339, '퍼시픽': 13340, '펑': 13341, '펑점': 13342, '페로': 13343, '펜대': 13344, '펠릭스': 13345, '편때': 13346, '편리하다': 13347, '편모': 13348, '편임': 13349, '평등하다': 13350, '평양': 13351, '평좀': 13352, '폐막': 13353, '포심': 13354, '포이': 13355, '포텐': 13356, '폭격기': 13357, '폭로': 13358, '폭발력': 13359, '폭죽': 13360, '폰트': 13361, '폴리': 13362, '표값': 13363, '표류': 13364, '표시': 13365, '표준': 13366, '푸근하다': 13367, '푹푹': 13368, '풀풀': 13369, '품세': 13370, '풋볼': 13371, '풍만하다': 13372, '풍족하다': 13373, '퓨티드': 13374, '프라이': 13375, '프렌드': 13376, '프로덕션': 13377, '프로야구': 13378, '플라스틱': 13379, '플래쉬': 13380, '플랜맨': 13381, '픔': 13382, '피날레': 13383, '피비': 13384, '피조': 13385, '핀란드': 13386, '필리핀': 13387, '필립스': 13388, '필모': 13389, '필터': 13390, '핏빛': 13391, '핑크': 13392, '하급': 13393, '하드보일드': 13394, '하리수': 13395, '하몽': 13396, '하반기': 13397, '하비': 13398, '하악': 13399, '하인': 13400, '학과': 13401, '한강': 13402, '한게임': 13403, '한결': 13404, '한공주': 13405, '한글제목': 13406, '한민족': 13407, '한바탕': 13408, '한소영': 13409, '한여운': 13410, '한재석': 13411, '한주': 13412, '한화': 13413, '할껄': 13414, '합류': 13415, '합법': 13416, '해결사': 13417, '해고': 13418, '해괴망측': 13419, '해마다': 13420, '해법': 13421, '해부': 13422, '해파리': 13423, '해피해피': 13424, '해하': 13425, '핵폐기물': 13426, '행방불명': 13427, '행보': 13428, '행복감': 13429, '행진곡': 13430, '허리우드': 13431, '허물': 13432, '허준호': 13433, '헤메': 13434, '헤아리다': 13435, '헤집다': 13436, '헤치다': 13437, '헤픈': 13438, '헬레': 13439, '헬로': 13440, '현명': 13441, '현준': 13442, '현태': 13443, '혈투': 13444, '혈팬': 13445, '혐한': 13446, '협회': 13447, '혜리': 13448, '호가': 13449, '호날두': 13450, '호비다': 13451, '호빵맨': 13452, '호스텔': 13453, '호아킨': 13454, '호응': 13455, '호의': 13456, '호킹': 13457, '호화롭다': 13458, '홀트': 13459, '홈페이지': 13460, '홍보물': 13461, '홍수현': 13462, '홍진경': 13463, '화양연화': 13464, '화요일': 13465, '화원': 13466, '화차': 13467, '확대': 13468, '확확': 13469, '환대': 13470, '활력소': 13471, '활짝': 13472, '활활': 13473, '황금박쥐': 13474, '황수정': 13475, '황태자': 13476, '회분': 13477, '회상씬': 13478, '회차': 13479, '효도': 13480, '후광': 13481, '후뢰시맨': 13482, '후세인': 13483, '후원': 13484, '후짐': 13485, '후후훗': 13486, '훈계': 13487, '훠': 13488, '훤히': 13489, '휘발': 13490, '휙휙': 13491, '휠씬': 13492, '휩싸이다': 13493, '휴식': 13494, '흉측하다': 13495, '흐려지다': 13496, '흐음': 13497, '흐접': 13498, '흡족하다': 13499, '흥얼거리다': 13500, '히나타': 13501, '히로인': 13502, '히말라야': 13503, '히키코모리': 13504, '힌트': 13505, '힐튼': 13506})\n",
            "defaultdict(None, {0: 0, 1: 1})\n"
          ]
        }
      ]
    },
    {
      "cell_type": "code",
      "metadata": {
        "id": "5Qp9s_GctVj1"
      },
      "source": [
        "test_dataset = convert_dataset(test_data, TEXT, LABEL)"
      ],
      "execution_count": 30,
      "outputs": []
    },
    {
      "cell_type": "code",
      "metadata": {
        "id": "DGHKcv-xkt2E"
      },
      "source": [
        "batch_size = 5\n",
        "train_iter, valid_iter, test_iter = data.Iterator.splits((train_dataset, valid_dataset, test_dataset), batch_size=batch_size, sort=False, device=DEVICE)"
      ],
      "execution_count": 31,
      "outputs": []
    },
    {
      "cell_type": "code",
      "metadata": {
        "colab": {
          "base_uri": "https://localhost:8080/"
        },
        "id": "OMvZ__x0ktP8",
        "outputId": "a354b4bc-6cf2-4678-eb75-01f73c4b0fac"
      },
      "source": [
        "print('훈련 데이터의 미니 배치 수 : {}'.format(len(train_iter)))\n",
        "print('평가 데이터의 미니 배치 수 : {}'.format(len(valid_iter)))\n",
        "print('테스트 데이터의 미니 배치 수 : {}'.format(len(test_iter)))"
      ],
      "execution_count": 32,
      "outputs": [
        {
          "output_type": "stream",
          "name": "stdout",
          "text": [
            "훈련 데이터의 미니 배치 수 : 20355\n",
            "평가 데이터의 미니 배치 수 : 8724\n",
            "테스트 데이터의 미니 배치 수 : 9771\n"
          ]
        }
      ]
    },
    {
      "cell_type": "markdown",
      "metadata": {
        "id": "HDBzPot7vtIe"
      },
      "source": [
        "# LSTM"
      ]
    },
    {
      "cell_type": "code",
      "metadata": {
        "id": "z6kIpuxslFSX"
      },
      "source": [
        "class LSTM(nn.Module):\n",
        "  # input_dim = 단어 사전 크기\n",
        "  # hidden_dim = 은닉층\n",
        "  # output_dim = 출력 값\n",
        "  # embedding_dim = 임베딩 벡터 차원 \n",
        "  def __init__(self, input_dim, hidden_dim, output_dim, embedding_dim, dropout):\n",
        "    super().__init__()\n",
        "    self.embedding = nn.Embedding(input_dim, embedding_dim, padding_idx=0)\n",
        "\n",
        "    self.rnn = nn.LSTM(embedding_dim, hidden_dim, batch_first=True, dropout=dropout)\n",
        "\n",
        "    self.linear = nn.Linear(hidden_dim, output_dim)\n",
        "\n",
        "    self.dropout = nn.Dropout(dropout)\n",
        "  \n",
        "  def forward(self, x):\n",
        "    embed = self.dropout(self.embedding(x))\n",
        "    output, _ = self.rnn(embed)\n",
        "    output = self.linear(output[:, -1, :])\n",
        "    return output\n",
        "  \n",
        "  def _init_state(self, batch_size=1):\n",
        "    weight = next(self.parameters()).data\n",
        "    return weight.new(self.n_layers, batch_size, self.hidden_dim).zero_()"
      ],
      "execution_count": 33,
      "outputs": []
    },
    {
      "cell_type": "code",
      "metadata": {
        "id": "lCLfntilmjms"
      },
      "source": [
        "\n",
        "def binary_accuracy(prediction, target):\n",
        "  '''\n",
        "from https://github.com/bentrevett/pytorch-sentiment-analysis/blob/master/1%20-%20Simple%20Sentiment%20Analysis.ipynb\n",
        "  '''\n",
        "  # round predictions to the closest integer (0 or 1)\n",
        "  rounded_preds = torch.round(torch.sigmoid(prediction))\n",
        "  \n",
        "  #convert into float for division\n",
        "  correct = (rounded_preds == target).float()\n",
        "\n",
        "  # rounded_preds = [ 1   0   0   1   1   1   0   1   1   1]\n",
        "  # targets       = [ 1   0   1   1   1   1   0   1   1   0]\n",
        "  # correct       = [1.0 1.0 0.0 1.0 1.0 1.0 1.0 1.0 1.0 0.0]\n",
        "  acc = correct.sum() / len(correct)\n",
        "  return acc"
      ],
      "execution_count": 71,
      "outputs": []
    },
    {
      "cell_type": "code",
      "metadata": {
        "id": "wDqOzcQimnOU"
      },
      "source": [
        "def train(model, train_iter):\n",
        "  model.train()\n",
        "\n",
        "  epoch_loss, epoch_acc = 0, 0\n",
        "  for batch in train_iter:\n",
        "    optimizer.zero_grad()\n",
        "    x, y = batch.text.to(DEVICE), batch.label.to(DEVICE)\n",
        "    y_hat = model(x).squeeze(1)\n",
        "\n",
        "    loss = criterion(y_hat, y)\n",
        "    acc = binary_accuracy(y_hat, y)\n",
        "\n",
        "    loss.backward()\n",
        "    optimizer.step()\n",
        "\n",
        "    epoch_loss += loss.item()\n",
        "    epoch_acc += acc.item()\n",
        "\n",
        "  return epoch_loss / len(train_iter), epoch_acc / len(train_iter)"
      ],
      "execution_count": 56,
      "outputs": []
    },
    {
      "cell_type": "code",
      "metadata": {
        "id": "MLDPDENJmn1U"
      },
      "source": [
        "def evaluate(model, valid_iter):\n",
        "  model.eval()\n",
        "  with torch.no_grad():\n",
        "    eval_loss, eval_acc = 0, 0\n",
        "    for batch in valid_iter:\n",
        "      x,y = batch.text.to(DEVICE), batch.label.to(DEVICE)\n",
        "      y_hat = model(x).squeeze(1)\n",
        "      \n",
        "      loss = criterion(y_hat, y)\n",
        "      acc = binary_accuracy(y_hat, y)\n",
        "\n",
        "      eval_loss += loss.item()\n",
        "      eval_acc += acc.item()\n",
        "      \n",
        "  return eval_loss / len(valid_iter), eval_acc / len(valid_iter)"
      ],
      "execution_count": 44,
      "outputs": []
    },
    {
      "cell_type": "code",
      "metadata": {
        "id": "PS5FjIVkmn3k"
      },
      "source": [
        "def inference(model, test_iter):\n",
        "  model.eval()\n",
        "  with torch.no_grad():\n",
        "    test_loss, test_acc = 0, 0\n",
        "    for batch in test_iter:\n",
        "      x, y = batch.text.to(DEVICE), batch.label.to(DEVICE)\n",
        "      y_hat = model(x).squeeze(1)\n",
        "\n",
        "      loss = criterion(y_hat, y)\n",
        "      acc = binary_accuracy(y_hat, y)\n",
        "      \n",
        "      test_loss += loss.item()\n",
        "      test_acc += acc.item()\n",
        "\n",
        "  return test_loss / len(test_iter), test_acc / len(test_iter)"
      ],
      "execution_count": 45,
      "outputs": []
    },
    {
      "cell_type": "code",
      "metadata": {
        "colab": {
          "base_uri": "https://localhost:8080/"
        },
        "id": "qaxsewCKmn5z",
        "outputId": "2a62a4ee-8284-44b2-d22f-828d5a4e7ecc"
      },
      "source": [
        "model = LSTM(len(TEXT.vocab), 128, len(LABEL.vocab)-1, 300, 0.2)\n",
        "model.to(DEVICE)\n",
        "optimizer = optim.Adam(model.parameters(), lr=0.001)\n",
        "criterion = nn.BCEWithLogitsLoss()\n",
        "criterion.to(DEVICE)"
      ],
      "execution_count": 46,
      "outputs": [
        {
          "output_type": "stream",
          "name": "stderr",
          "text": [
            "/usr/local/lib/python3.7/dist-packages/torch/nn/modules/rnn.py:65: UserWarning: dropout option adds dropout after all but last recurrent layer, so non-zero dropout expects num_layers greater than 1, but got dropout=0.2 and num_layers=1\n",
            "  \"num_layers={}\".format(dropout, num_layers))\n"
          ]
        },
        {
          "output_type": "execute_result",
          "data": {
            "text/plain": [
              "BCEWithLogitsLoss()"
            ]
          },
          "metadata": {},
          "execution_count": 46
        }
      ]
    },
    {
      "cell_type": "code",
      "metadata": {
        "colab": {
          "base_uri": "https://localhost:8080/"
        },
        "id": "HgYdf_YXmy9c",
        "outputId": "f01f4748-2e1b-458a-ff23-4fd4cd5ed6e1"
      },
      "source": [
        "best_val_loss = float('inf')\n",
        "for _epoch in range(1,6): # 5 epoch\n",
        "  train_loss, train_acc = train(model, train_iter)\n",
        "  valid_loss, valid_acc = evaluate(model, valid_iter)\n",
        "  print(\"[Epoch: %d] train loss : %5.2f | train accuracy : %5.2f\" % (_epoch, train_loss, train_acc))\n",
        "  print(\"[Epoch: %d] val loss : %5.2f | val accuracy : %5.2f\" % (_epoch, valid_loss, valid_acc))\n",
        "\n",
        "    # 검증 오차가 가장 적은 최적의 모델을 저장\n",
        "  if valid_loss < best_val_loss:\n",
        "    best_val_loss = valid_loss"
      ],
      "execution_count": 47,
      "outputs": [
        {
          "output_type": "stream",
          "name": "stdout",
          "text": [
            "[Epoch: 1] train loss :  0.52 | train accuracy :  0.73\n",
            "[Epoch: 1] val loss :  0.45 | val accuracy :  0.78\n",
            "[Epoch: 2] train loss :  0.42 | train accuracy :  0.80\n",
            "[Epoch: 2] val loss :  0.44 | val accuracy :  0.79\n",
            "[Epoch: 3] train loss :  0.39 | train accuracy :  0.82\n",
            "[Epoch: 3] val loss :  0.44 | val accuracy :  0.80\n",
            "[Epoch: 4] train loss :  0.36 | train accuracy :  0.84\n",
            "[Epoch: 4] val loss :  0.45 | val accuracy :  0.80\n",
            "[Epoch: 5] train loss :  0.35 | train accuracy :  0.84\n",
            "[Epoch: 5] val loss :  0.45 | val accuracy :  0.80\n"
          ]
        }
      ]
    }
  ]
}